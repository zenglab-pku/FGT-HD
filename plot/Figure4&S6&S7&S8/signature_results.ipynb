{
 "cells": [
  {
   "cell_type": "markdown",
   "metadata": {},
   "source": [
    "### figure S7h"
   ]
  },
  {
   "cell_type": "code",
   "execution_count": null,
   "metadata": {},
   "outputs": [],
   "source": [
    "import numpy as np\n",
    "import pandas as pd\n",
    "import scanpy as sc\n",
    "import matplotlib.pyplot as plt\n",
    "import seaborn as sns"
   ]
  },
  {
   "cell_type": "code",
   "execution_count": null,
   "metadata": {},
   "outputs": [],
   "source": [
    "obs = pd.read_csv(\"./signature_scored_obs.csv\",index_col=0)\n",
    "filter_obs = obs[obs[\"group\"].isin([\"untreat_no_recur\",\"untreat_recur\",\"treat_recur\"])]\n"
   ]
  },
  {
   "cell_type": "code",
   "execution_count": null,
   "metadata": {},
   "outputs": [],
   "source": [
    "pathways = [\"HALLMARK_MYC_TARGETS_V1\", \"HALLMARK_PI3K_AKT_MTOR_SIGNALING\",\n",
    "            \"HALLMARK_INFLAMMATORY_RESPONSE\", \"HALLMARK_DNA_REPAIR\"]\n",
    "pathways = list(set(pathways))\n",
    "\n",
    "cluster_colors = {\n",
    "    'niche12': '#3e447f',\n",
    "    'non-niche12': '#6d8634'\n",
    "}"
   ]
  },
  {
   "cell_type": "code",
   "execution_count": null,
   "metadata": {},
   "outputs": [],
   "source": [
    "for pathway in pathways:\n",
    "    group_order = [\"untreat_no_recur\",\"untreat_recur\",\"treat_recur\"]\n",
    "\n",
    "    violin_parts = sns.violinplot(x='group', \n",
    "                                y=f\"{pathway}_smoothed\", \n",
    "                                data=filter_obs, \n",
    "                                inner=\"quart\", \n",
    "                                hue='cluster', \n",
    "                                split=True, \n",
    "                                order=group_order,\n",
    "                                palette=cluster_colors)\n",
    "    plt.title(f'{pathway} Scores Comparison')\n",
    "    plt.xlabel('Cluster')\n",
    "    plt.ylabel('Score')\n",
    "    plt.legend().remove()\n",
    "    plt.show()"
   ]
  },
  {
   "cell_type": "code",
   "execution_count": null,
   "metadata": {},
   "outputs": [],
   "source": []
  }
 ],
 "metadata": {
  "language_info": {
   "name": "python"
  }
 },
 "nbformat": 4,
 "nbformat_minor": 2
}
