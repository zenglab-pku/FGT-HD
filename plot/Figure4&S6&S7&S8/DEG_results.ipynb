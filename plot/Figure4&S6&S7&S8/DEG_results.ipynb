{
 "cells": [
  {
   "cell_type": "markdown",
   "metadata": {},
   "source": [
    "### Figure S6g"
   ]
  },
  {
   "cell_type": "code",
   "execution_count": null,
   "metadata": {
    "vscode": {
     "languageId": "r"
    }
   },
   "outputs": [],
   "source": [
    "library(dplyr)\n",
    "library(ggplot2)\n",
    "library(tidyr)\n",
    "library(ComplexHeatmap)\n",
    "library(circlize)"
   ]
  },
  {
   "cell_type": "code",
   "execution_count": null,
   "metadata": {
    "vscode": {
     "languageId": "r"
    }
   },
   "outputs": [],
   "source": [
    "sample_exp_df <- read.csv(\"./avg_expression/top_FC_average_expression_per_cluster_sample.csv\",row.names=1)\n",
    "col_order <- as.numeric(gsub(\"_.*\", \"\", colnames(sample_exp_df)))\n",
    "sample_exp_df_sorted <- sample_exp_df[, order(col_order)]\n",
    "sample_exp_mtx <- as.matrix(sample_exp_df_sorted)\n"
   ]
  },
  {
   "cell_type": "code",
   "execution_count": null,
   "metadata": {
    "vscode": {
     "languageId": "r"
    }
   },
   "outputs": [],
   "source": [
    "sample_exp_mtx_zscored <- t(scale(t(sample_exp_mtx)))\n",
    "\n",
    "group_colors <- c(\n",
    "    '#ffd700', '#4d80e6', '#cccc4d', '#006374', '#1c9755',\n",
    "    '#f5616f', '#afeeee', '#7ab8cc', '#cca3cc', '#2f7fc1',\n",
    "    '#79b9f2', '#0d5886', '#082567', '#dcdcdc', '#d3d3d3',\n",
    "    '#7dcc7d', '#00bfff', '#87ceeb', '#fa8072', '#48d1cc',\n",
    "    '#469594'\n",
    ")"
   ]
  },
  {
   "cell_type": "code",
   "execution_count": null,
   "metadata": {
    "vscode": {
     "languageId": "r"
    }
   },
   "outputs": [],
   "source": [
    "group <- as.numeric(gsub(\"_.*\", \"\", colnames(sample_exp_mtx)))\n",
    "names(group_colors) <- unique(group)\n",
    "col_anno <- HeatmapAnnotation(Group = as.factor(group),\n",
    "                              col = list(Group = group_colors))\n",
    "\n",
    "p <- Heatmap(sample_exp_mtx_zscored,\n",
    "        top_annotation = col_anno,\n",
    "        cluster_columns = FALSE,\n",
    "        cluster_rows = FALSE,\n",
    "        show_row_names = TRUE,\n",
    "        show_column_names = FALSE\n",
    ")\n",
    "\n",
    "print(p)"
   ]
  },
  {
   "cell_type": "code",
   "execution_count": null,
   "metadata": {
    "vscode": {
     "languageId": "r"
    }
   },
   "outputs": [],
   "source": []
  }
 ],
 "metadata": {
  "kernelspec": {
   "display_name": "R",
   "language": "R",
   "name": "ir"
  },
  "language_info": {
   "name": "R"
  }
 },
 "nbformat": 4,
 "nbformat_minor": 2
}
