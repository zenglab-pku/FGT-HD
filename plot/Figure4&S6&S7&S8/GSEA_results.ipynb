{
 "cells": [
  {
   "cell_type": "markdown",
   "metadata": {},
   "source": [
    "### Figure S7a"
   ]
  },
  {
   "cell_type": "code",
   "execution_count": null,
   "metadata": {
    "vscode": {
     "languageId": "r"
    }
   },
   "outputs": [],
   "source": [
    "library(circlize)\n",
    "library(tidyverse)\n",
    "library(circlize)\n",
    "library(ggplot2)"
   ]
  },
  {
   "cell_type": "code",
   "execution_count": null,
   "metadata": {
    "vscode": {
     "languageId": "r"
    }
   },
   "outputs": [],
   "source": [
    "niche_gsea <- read.csv(\"../out/GSEA/sample_group_malignant/cluster12_GSEA.csv\",row.names=1)\n",
    "pathway_list <- c(\n",
    "    \"HALLMARK_E2F_TARGETS\",\"HALLMARK_G2M_CHECKPOINT\",\"HALLMARK_MYC_TARGETS_V1\",\"HALLMARK_OXIDATIVE_PHOSPHORYLATION\",\"KEGG_CELL_CYCLE\",\n",
    "    \"HALLMARK_DNA_REPAIR\",\"HALLMARK_GLYCOLYSIS\",\"HALLMARK_ESTROGEN_RESPONSE_LATE\",\"KEGG_UBIQUITIN_MEDIATED_PROTEOLYSIS\",\"REACTOME_CELLULAR_RESPONSE_TO_CHEMICAL_STRESS\"\n",
    ")\n",
    "niche_select_gsea <- niche_gsea[pathway_list,]\n",
    "\n",
    "niche_select_gsea$coreSize <- sapply(str_split(niche_select_gsea$core_enrichment, \"/\"), length)\n",
    "niche_select_gsea$log_p_adjust <- -log10(niche_select_gsea$p.adjust)\n",
    "niche_select_gsea <- niche_select_gsea[,c(\"ID\",\"NES\",\"log_p_adjust\",\"coreSize\")]\n",
    "\n",
    "niche_select_gsea$ID <- factor(niche_select_gsea$ID, levels=rev(niche_select_gsea$ID))"
   ]
  },
  {
   "cell_type": "code",
   "execution_count": null,
   "metadata": {
    "vscode": {
     "languageId": "r"
    }
   },
   "outputs": [],
   "source": [
    "p <- ggplot(niche_select_gsea, aes(x = log_p_adjust, y = ID)) +\n",
    "  geom_segment(aes(xend = 0, yend = ID), color = \"black\") +\n",
    "  geom_point(aes(size = coreSize, color = NES)) +\n",
    "  scale_color_gradient2(low = \"blue\", mid = \"white\", high = \"red\", \n",
    "                        midpoint = 0, name = \"NES\") +\n",
    "  scale_size_continuous(name = \"Core Gene Count\") +\n",
    "  labs(x = \"-log(P.adj)\", y = NULL, title = \"Pathway Enrichment\") +\n",
    "  theme_minimal() +\n",
    "  theme(\n",
    "    axis.text.y = element_text(size = 10),\n",
    "    axis.ticks.y = element_line(color = \"black\", linewidth = 0.5),\n",
    "    axis.ticks.x = element_line(color = \"black\", linewidth = 0.5),\n",
    "    panel.grid.major = element_blank(),\n",
    "    panel.grid.minor = element_blank(),\n",
    "    panel.border = element_rect(color = \"black\", linewidth = 0.8, fill = NA)\n",
    ")\n",
    "\n",
    "print(p)"
   ]
  },
  {
   "cell_type": "code",
   "execution_count": null,
   "metadata": {
    "vscode": {
     "languageId": "r"
    }
   },
   "outputs": [],
   "source": [
    "pathway_list <- c(\n",
    "    \"REACTOME_IMMUNOREGULATORY_INTERACTIONS_BETWEEN_A_LYMPHOID_AND_A_NON_LYMPHOID_CELL\",\"KEGG_NEUROACTIVE_LIGAND_RECEPTOR_INTERACTION\",\"REACTOME_GPCR_LIGAND_BINDING\",\n",
    "    \"REACTOME_KERATINIZATION\",\"REACTOME_CHEMOKINE_RECEPTORS_BIND_CHEMOKINES\",\"KEGG_CYTOKINE_CYTOKINE_RECEPTOR_INTERACTION\"\n",
    ")\n",
    "niche_select_gsea <- niche_gsea[pathway_list,]\n",
    "\n",
    "niche_select_gsea$coreSize <- sapply(str_split(niche_select_gsea$core_enrichment, \"/\"), length)\n",
    "niche_select_gsea$log_p_adjust <- -log10(niche_select_gsea$p.adjust)\n",
    "niche_select_gsea <- niche_select_gsea[,c(\"ID\",\"NES\",\"log_p_adjust\",\"coreSize\")]\n",
    "\n",
    "niche_select_gsea$ID <- factor(niche_select_gsea$ID, levels=rev(niche_select_gsea$ID))\n"
   ]
  },
  {
   "cell_type": "code",
   "execution_count": null,
   "metadata": {
    "vscode": {
     "languageId": "r"
    }
   },
   "outputs": [],
   "source": [
    "p <- ggplot(niche_select_gsea, aes(x = log_p_adjust, y = ID)) +\n",
    "  geom_segment(aes(xend = 0, yend = ID), color = \"black\") +\n",
    "  geom_point(aes(size = coreSize, color = NES)) +\n",
    "  scale_color_gradient2(low = \"blue\", mid = \"white\", high = \"red\", \n",
    "                        midpoint = 0, name = \"NES\") +\n",
    "  scale_size_continuous(name = \"Core Gene Count\") +\n",
    "  labs(x = \"-log(P.adj)\", y = NULL, title = \"Pathway Enrichment\") +\n",
    "  theme_minimal() +\n",
    "  theme(\n",
    "    axis.text.y = element_text(size = 10),\n",
    "    axis.ticks.y = element_line(color = \"black\", linewidth = 0.5),\n",
    "    axis.ticks.x = element_line(color = \"black\", linewidth = 0.5),\n",
    "    panel.grid.major = element_blank(),\n",
    "    panel.grid.minor = element_blank(),\n",
    "    panel.border = element_rect(color = \"black\", linewidth = 0.8, fill = NA)\n",
    ")\n",
    "\n",
    "print(p)"
   ]
  },
  {
   "cell_type": "markdown",
   "metadata": {},
   "source": [
    "### Figure S7e, S7f"
   ]
  },
  {
   "cell_type": "code",
   "execution_count": null,
   "metadata": {
    "vscode": {
     "languageId": "r"
    }
   },
   "outputs": [],
   "source": [
    "import matplotlib.pyplot as plt\n",
    "import numpy as np\n",
    "import pandas as pd\n",
    "import seaborn as sns"
   ]
  },
  {
   "cell_type": "code",
   "execution_count": null,
   "metadata": {
    "vscode": {
     "languageId": "r"
    }
   },
   "outputs": [],
   "source": [
    "GSEA_in_niche12 = pd.read_csv(\"../out/GSEA/malignant_in_recurrence/niche12_GSEA.csv\", index_col=0)\n",
    "GSEA_in_whole_niche = pd.read_csv(\"../out/GSEA/malignant_in_recurrence/whole_niches_GSEA.csv\", index_col=0)\n",
    "pathways = [\"HALLMARK_INTERFERON_ALPHA_RESPONSE\",\"HALLMARK_INTERFERON_GAMMA_RESPONSE\",\"HALLMARK_EPITHELIAL_MESENCHYMAL_TRANSITION\",\"KEGG_REGULATION_OF_AUTOPHAGY\",\"REACTOME_EXTRACELLULAR_MATRIX_ORGANIZATION\",\n",
    "            \"REACTOME_DEGRADATION_OF_THE_EXTRACELLULAR_MATRIX\",\"KEGG_CYTOSOLIC_DNA_SENSING_PATHWAY\",\"REACTOME_CELL_CELL_COMMUNICATION\",\"REACTOME_CELL_CELL_JUNCTION_ORGANIZATION\",\"KEGG_GLYCOLYSIS_GLUCONEOGENESIS\",\n",
    "            \"KEGG_WNT_SIGNALING_PATHWAY\",\"KEGG_DRUG_METABOLISM_CYTOCHROME_P450\",\"KEGG_NATURAL_KILLER_CELL_MEDIATED_CYTOTOXICITY\",\"KEGG_OXIDATIVE_PHOSPHORYLATION\",\"KEGG_ANTIGEN_PROCESSING_AND_PRESENTATION\",\"REACTOME_CELLULAR_RESPONSE_TO_CHEMICAL_STRESS\"]\n"
   ]
  },
  {
   "cell_type": "code",
   "execution_count": null,
   "metadata": {
    "vscode": {
     "languageId": "r"
    }
   },
   "outputs": [],
   "source": [
    "specific_GSEA_in_niche12 = GSEA_in_niche12.loc[pathways]\n",
    "specific_GSEA_in_whole_niche = GSEA_in_whole_niche.loc[pathways]"
   ]
  },
  {
   "cell_type": "code",
   "execution_count": null,
   "metadata": {
    "vscode": {
     "languageId": "r"
    }
   },
   "outputs": [],
   "source": [
    "fig, ax = plt.subplots(figsize=(8, 9))\n",
    "\n",
    "x1 = np.full(specific_GSEA_in_niche12.shape[0], 0)\n",
    "y1 = np.arange(specific_GSEA_in_niche12.shape[0])\n",
    "nes1 = specific_GSEA_in_niche12[\"NES\"]\n",
    "p_values1 = specific_GSEA_in_niche12[\"pvalue\"]\n",
    "sizes1 = -np.log10(p_values1) * 40\n",
    "scatter1 = plt.scatter(x1, y1, s=sizes1, c=nes1, cmap='coolwarm', vmin=-2.5, vmax=3, edgecolor='black', label='Niche 12')\n",
    "\n",
    "x2 = np.full(specific_GSEA_in_whole_niche.shape[0], 1)\n",
    "y2 = np.arange(specific_GSEA_in_whole_niche.shape[0])\n",
    "nes2 = specific_GSEA_in_whole_niche[\"NES\"]\n",
    "p_values2 = specific_GSEA_in_whole_niche[\"pvalue\"]\n",
    "sizes2 = -np.log10(p_values2) * 40\n",
    "scatter2 = plt.scatter(x2, y2, s=sizes2, c=nes2, cmap='coolwarm', vmin=-2.5, vmax=3, edgecolor='black', label='Whole Niche')\n",
    "\n",
    "cbar = plt.colorbar(scatter1, label='Normalized Enrichment Score (NES)', orientation='horizontal', pad=0.1)\n",
    "cbar.ax.set_xlabel('NES')\n",
    "\n",
    "p_values_example = [0.00001, 0.001, 0.1]\n",
    "for p in p_values_example:\n",
    "    plt.scatter([], [], s=-np.log10(p) * 40, c='gray', alpha=1, label=f'{-np.log10(p)}')\n",
    "legend = plt.legend(scatterpoints=1, frameon=True, labelspacing=1,loc='upper center', bbox_to_anchor=(0, -0.3))\n",
    "\n",
    "plt.yticks(ticks=np.arange(specific_GSEA_in_niche12.shape[0]), labels=specific_GSEA_in_niche12['Description'])\n",
    "plt.xticks(ticks=[0, 1], labels=['Niche 12', 'Whole Niche'])\n",
    "plt.gca().invert_yaxis()\n",
    "plt.grid(False)\n",
    "\n",
    "plt.tight_layout()\n",
    "plt.show()"
   ]
  },
  {
   "cell_type": "code",
   "execution_count": null,
   "metadata": {
    "vscode": {
     "languageId": "r"
    }
   },
   "outputs": [],
   "source": [
    "GSEA_in_niche12 = pd.read_csv(\"../out/GSEA/malignant_in_pretreatment/pretreatment_recurrence_GSEA.csv\", index_col=0)\n",
    "GSEA_in_whole_niche = pd.read_csv(\"../out/GSEA/malignant_in_pretreatment/pretreatment_no_recurrence_GSEA.csv\", index_col=0)\n",
    "pathways = [\"KEGG_CYTOSOLIC_DNA_SENSING_PATHWAY\",\"HALLMARK_E2F_TARGETS\",\"HALLMARK_INTERFERON_ALPHA_RESPONSE\",\"HALLMARK_INTERFERON_GAMMA_RESPONSE\",\"KEGG_ANTIGEN_PROCESSING_AND_PRESENTATION\",\n",
    "            \"REACTOME_INTERLEUKIN_35_SIGNALLING\",\"HALLMARK_G2M_CHECKPOINT\",\"REACTOME_CELL_CYCLE_MITOTIC\",\n",
    "            \"KEGG_GLYCOLYSIS_GLUCONEOGENESIS\",\"KEGG_DRUG_METABOLISM_CYTOCHROME_P450\",\"KEGG_OXIDATIVE_PHOSPHORYLATION\"]\n"
   ]
  },
  {
   "cell_type": "code",
   "execution_count": null,
   "metadata": {
    "vscode": {
     "languageId": "r"
    }
   },
   "outputs": [],
   "source": [
    "specific_GSEA_in_niche12 = GSEA_in_niche12.loc[pathways]\n",
    "specific_GSEA_in_whole_niche = GSEA_in_whole_niche.loc[pathways]"
   ]
  },
  {
   "cell_type": "code",
   "execution_count": null,
   "metadata": {
    "vscode": {
     "languageId": "r"
    }
   },
   "outputs": [],
   "source": [
    "fig, ax = plt.subplots(figsize=(8, 9))\n",
    "\n",
    "x1 = np.full(specific_GSEA_in_niche12.shape[0], 0)\n",
    "y1 = np.arange(specific_GSEA_in_niche12.shape[0])\n",
    "nes1 = specific_GSEA_in_niche12[\"NES\"]\n",
    "p_values1 = specific_GSEA_in_niche12[\"pvalue\"]\n",
    "sizes1 = -np.log10(p_values1) * 40\n",
    "scatter1 = plt.scatter(x1, y1, s=sizes1, c=nes1, cmap='coolwarm', vmin=-2.5, vmax=3, edgecolor='black', label='Niche 12')\n",
    "\n",
    "x2 = np.full(specific_GSEA_in_whole_niche.shape[0], 1)\n",
    "y2 = np.arange(specific_GSEA_in_whole_niche.shape[0])\n",
    "nes2 = specific_GSEA_in_whole_niche[\"NES\"]\n",
    "p_values2 = specific_GSEA_in_whole_niche[\"pvalue\"]\n",
    "sizes2 = -np.log10(p_values2) * 40\n",
    "scatter2 = plt.scatter(x2, y2, s=sizes2, c=nes2, cmap='coolwarm', vmin=-2.5, vmax=3, edgecolor='black', label='Whole Niche')\n",
    "\n",
    "cbar = plt.colorbar(scatter1, label='Normalized Enrichment Score (NES)', orientation='horizontal', pad=0.1)\n",
    "cbar.ax.set_xlabel('NES')\n",
    "\n",
    "p_values_example = [0.00001, 0.001, 0.1]\n",
    "for p in p_values_example:\n",
    "    plt.scatter([], [], s=-np.log10(p) * 40, c='gray', alpha=1, label=f'{-np.log10(p)}')\n",
    "legend = plt.legend(scatterpoints=1, frameon=True, labelspacing=1,loc='upper center', bbox_to_anchor=(0, -0.3))\n",
    "\n",
    "plt.yticks(ticks=np.arange(specific_GSEA_in_niche12.shape[0]), labels=specific_GSEA_in_niche12['Description'])\n",
    "plt.xticks(ticks=[0, 1], labels=['Niche 12', 'Whole Niche'])\n",
    "plt.gca().invert_yaxis()\n",
    "plt.grid(False)\n",
    "\n",
    "plt.tight_layout()\n",
    "plt.show()"
   ]
  },
  {
   "cell_type": "code",
   "execution_count": null,
   "metadata": {
    "vscode": {
     "languageId": "r"
    }
   },
   "outputs": [],
   "source": []
  }
 ],
 "metadata": {
  "kernelspec": {
   "display_name": "R",
   "language": "R",
   "name": "ir"
  },
  "language_info": {
   "name": "R"
  }
 },
 "nbformat": 4,
 "nbformat_minor": 2
}
