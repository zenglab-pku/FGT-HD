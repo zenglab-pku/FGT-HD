{
 "cells": [
  {
   "cell_type": "markdown",
   "metadata": {},
   "source": [
    "### Figure S4g"
   ]
  },
  {
   "cell_type": "code",
   "execution_count": null,
   "metadata": {
    "vscode": {
     "languageId": "r"
    }
   },
   "outputs": [],
   "source": [
    "library(ggplot2)"
   ]
  },
  {
   "cell_type": "code",
   "execution_count": null,
   "metadata": {
    "vscode": {
     "languageId": "r"
    }
   },
   "outputs": [],
   "source": [
    "data <- read.csv(\"./cosinesimilarity_all.csv\", row.names = 1)\n",
    "data$Tumor_Type <- factor(data$Tumor_Type, levels = c('OC','EC','CC'))\n",
    "\n",
    "p <- ggplot(data, aes(x = Tumor_Type, y = cosinesimilarity, fill = Tumor_Type)) +\n",
    "  geom_jitter(position = position_jitter(width = 0.2), size = 4, color = \"lightgray\") +\n",
    "  geom_violin(alpha = 0.7, position = position_dodge(width = 0.5), trim = FALSE, color=\"grey90\", linewidth = 1.0) +\n",
    "  geom_boxplot(width = 0.1, color = \"white\", size = 1.5, outlier.shape = NA) +\n",
    "  scale_fill_manual(values = c(\"#ab526a\", \"#d68081\",\"#2878b5\")) +\n",
    "  theme_minimal() +\n",
    "  theme(axis.title = element_text(size = 12),\n",
    "        legend.title = element_text(size = 12),\n",
    "        panel.border = element_rect(fill = NA), #element_blank(),\n",
    "        panel.grid.major = element_blank(),\n",
    "        panel.grid.minor = element_blank())\n",
    "\n",
    "print(p)"
   ]
  }
 ],
 "metadata": {
  "kernelspec": {
   "display_name": "R",
   "language": "R",
   "name": "ir"
  },
  "language_info": {
   "name": "R"
  }
 },
 "nbformat": 4,
 "nbformat_minor": 2
}
