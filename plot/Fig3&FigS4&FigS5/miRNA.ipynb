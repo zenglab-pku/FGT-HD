{
 "cells": [
  {
   "cell_type": "markdown",
   "metadata": {},
   "source": [
    "### FigS5g"
   ]
  },
  {
   "cell_type": "code",
   "execution_count": null,
   "metadata": {},
   "outputs": [],
   "source": [
    "library(DESeq2)\n",
    "library(EnhancedVolcano)\n",
    "library(dplyr)"
   ]
  },
  {
   "cell_type": "code",
   "execution_count": null,
   "metadata": {},
   "outputs": [],
   "source": [
    "miRNA_data <- read.csv(\"./EC_OC_raw_miRNA.csv\",row.names=1)\n",
    "colnames(miRNA_data) <- sub(\"^.\", \"\", colnames(miRNA_data))\n",
    "colnames(miRNA_data) <- sub(\"\\\\..*$\", \"\", colnames(miRNA_data))\n"
   ]
  },
  {
   "cell_type": "code",
   "execution_count": null,
   "metadata": {},
   "outputs": [],
   "source": [
    "clinical_data <- read.csv(\"./bulkRNA_clini_info.csv\")\n",
    "\n",
    "clinical_data$Tumor_SubType <- factor(clinical_data$Tumor_SubType,levels=c(\"Mucinous\",\"Serous\",\"Clear cell\",\"Adenocarcinoma\",\"Adenosquamous\",\"Squamous\",\"Endometrioid\",\"Sarcoma\",\"Others\"))\n",
    "clinical_data$Tumor_Type <- factor(clinical_data$Tumor_Type,levels=c(\"OC\",\"EC\",\"CC\"))\n",
    "clinical_data <- clinical_data[order(clinical_data$cluster, clinical_data$Tumor_Type, clinical_data$Tumor_SubType), ]\n",
    "selected_data <- clinical_data[(clinical_data$Tumor_SubType==\"Serous\") | (clinical_data$Tumor_SubType==\"Endometrioid\"),]\n"
   ]
  },
  {
   "cell_type": "code",
   "execution_count": null,
   "metadata": {},
   "outputs": [],
   "source": [
    "mirna_names <- colnames(miRNA_data)\n",
    "rna_names <- selected_data$sampleName\n",
    "both_names <- intersect(mirna_names, rna_names)\n",
    "selected_mirna_data <- selected_data[selected_data$sampleName %in% both_names,]\n",
    "select_miRNA_data <- miRNA_data[,selected_mirna_data$sampleName]\n",
    "select_miRNA_data <- as.matrix(select_miRNA_data)\n"
   ]
  },
  {
   "cell_type": "code",
   "execution_count": null,
   "metadata": {},
   "outputs": [],
   "source": [
    "samples_1 <- data.frame(\n",
    "    row.names = selected_mirna_data$sampleName,\n",
    "    condition = ifelse(selected_mirna_data$Tumor_SubType==\"Serous\", \"Serous\", \"Endometrioid\")\n",
    ")\n",
    "samples_1$condition <- as.factor(samples_1$condition)\n",
    "dds_1 <- DESeqDataSetFromMatrix(countData = select_miRNA_data, colData = samples_1, design = ~ condition)\n",
    "dds_1 <- DESeq(dds_1)\n",
    "\n",
    "res_1 <- results(dds_1, contrast=c(\"condition\", \"Serous\", \"Endometrioid\"))\n",
    "res_1 <- res_1[order(res_1$padj),]\n",
    "df_1 <- data.frame(res_1)\n",
    "filtering_res_1 <- subset(res_1, padj < 0.001 & abs(log2FoldChange) > 1.5)\n",
    "filtering_res_1 <- subset(filtering_res_1, baseMean >20)\n",
    "filtering_df_1 <- data.frame(filtering_res_1)\n"
   ]
  },
  {
   "cell_type": "code",
   "execution_count": null,
   "metadata": {},
   "outputs": [],
   "source": [
    "vol_1 <- EnhancedVolcano(res_1,\n",
    "    lab = rownames(res_1),\n",
    "    x = 'log2FoldChange',\n",
    "    y = 'padj',\n",
    "    selectLab = row.names(filtering_df_1),\n",
    "    pCutoff = 0.001,\n",
    "    FCcutoff = 1.5,\n",
    "    ylim = c(0, 10),\n",
    "    xlim = c(-5, 6),\n",
    "    # drawConnectors = TRUE,\n",
    "    # colConnectors = 'gray50',\n",
    "    pointSize = 3.0,\n",
    "    labSize = 6.0)\n"
   ]
  },
  {
   "cell_type": "code",
   "execution_count": null,
   "metadata": {},
   "outputs": [],
   "source": []
  }
 ],
 "metadata": {
  "language_info": {
   "name": "python"
  }
 },
 "nbformat": 4,
 "nbformat_minor": 2
}
