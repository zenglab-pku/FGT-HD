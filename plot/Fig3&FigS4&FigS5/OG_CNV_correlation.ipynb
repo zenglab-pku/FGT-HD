{
 "cells": [
  {
   "cell_type": "markdown",
   "metadata": {},
   "source": [
    "### Figure S5a"
   ]
  },
  {
   "cell_type": "code",
   "execution_count": null,
   "metadata": {
    "vscode": {
     "languageId": "r"
    }
   },
   "outputs": [],
   "source": [
    "library(ggplot2)\n",
    "library(ggrepel)\n",
    "library(readxl)\n"
   ]
  },
  {
   "cell_type": "code",
   "execution_count": null,
   "metadata": {
    "vscode": {
     "languageId": "r"
    }
   },
   "outputs": [],
   "source": [
    "OG <- read_excel(\"./ref/OG.xlsx\", col_names = TRUE)\n",
    "OG_filted <- OG[OG$Gene %in% names(gene_means), ]\n",
    "\n",
    "subset_gene_means <- gene_means[match(OG_filted$Gene, names(gene_means), nomatch = 0)]\n",
    "OG_filted$gene_means <- subset_gene_means\n",
    "\n",
    "OG_show <- c('PIK3CA', 'MYC', 'TOR1A', 'SRC', 'S100A8', 'ODF1', 'BMP7', 'IL10', 'CCND1', 'STK3', 'AGO2', 'CLDN11', 'AKT1', 'KRAS', 'BRAF','RIT1', 'LELP1', 'LMNA', 'SPRR3', 'DNAH14', 'SPRR2B')\n",
    "\n",
    "r_value <- cor(OG_filted$OG_Probability_LASSO, OG_filted$gene_means)\n",
    "cor_test_result <- cor.test(OG_filted$OG_Probability_LASSO, OG_filted$gene_means)\n",
    "p_value <- cor_test_result$p.value\n",
    "\n",
    "plot <- ggplot(OG_filted, aes(x = OG_Probability_LASSO, y = gene_means, label = Gene)) +\n",
    "    geom_point(alpha = 1, size = 1, color = \"#B4D3B2\") +\n",
    "    geom_smooth(method = \"lm\", se = FALSE, color = \"grey44\") +\n",
    "    geom_vline(xintercept = 0, linetype = \"dashed\", color = \"gray\") +\n",
    "    geom_hline(yintercept = 0, linetype = \"dashed\", color = \"gray\") +\n",
    "    labs(x = \"OG-TSG LASSO probability\", y = \"#gains - #losses\", title = \"\") +\n",
    "    theme_minimal() +\n",
    "    theme(axis.text.x = element_text(angle = 45, hjust = 1),\n",
    "                panel.grid = element_blank(),\n",
    "                plot.background = element_rect(fill = \"white\")) +\n",
    "    geom_text_repel(data = subset(OG_filted, Gene %in% OG_show), aes(label = Gene), \n",
    "                                    box.padding = unit(0.35, \"lines\"), point.padding = unit(0.5, \"lines\"))\n",
    "\n",
    "print(plot)"
   ]
  },
  {
   "cell_type": "code",
   "execution_count": null,
   "metadata": {
    "vscode": {
     "languageId": "r"
    }
   },
   "outputs": [],
   "source": []
  }
 ],
 "metadata": {
  "kernelspec": {
   "display_name": "R",
   "language": "R",
   "name": "ir"
  },
  "language_info": {
   "name": "R"
  }
 },
 "nbformat": 4,
 "nbformat_minor": 2
}
