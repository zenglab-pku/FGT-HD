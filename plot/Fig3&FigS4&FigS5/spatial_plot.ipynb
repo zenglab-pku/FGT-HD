{
 "cells": [
  {
   "cell_type": "markdown",
   "metadata": {},
   "source": [
    "### Figures 3k, S4f, S4m"
   ]
  },
  {
   "cell_type": "code",
   "execution_count": null,
   "metadata": {},
   "outputs": [],
   "source": [
    "import warnings\n",
    "import matplotlib.pyplot as plt\n",
    "import pandas as pd\n",
    "import numpy as np\n",
    "import scanpy as sc\n",
    "import matplotlib.patches as mpatches\n",
    "from matplotlib.colors import ListedColormap, BoundaryNorm\n",
    "warnings.filterwarnings(\"ignore\", category=FutureWarning)\n",
    "warnings.filterwarnings(\"ignore\", category=UserWarning)\n"
   ]
  },
  {
   "cell_type": "code",
   "execution_count": null,
   "metadata": {},
   "outputs": [],
   "source": [
    "meta = pd.read_csv(\"HD-OV 100.csv\", index_col=False)\n",
    "sampleName = meta['sampleName']"
   ]
  },
  {
   "cell_type": "code",
   "execution_count": null,
   "metadata": {},
   "outputs": [],
   "source": [
    "\n",
    "cnv_cluster = pd.read_csv('cnv_clu5_th2.csv', index_col=0)\n",
    "cnv_cluster['cnv_cluster'] = cnv_cluster.astype(int).astype(str)\n",
    "\n",
    "mapping_dict = {'1': 'CIN-low', '2': 'Chr8q-amp', '3': 'Chr20-amp', '4': 'Chr18-amp', '5': 'CIN-moderate'}\n",
    "cnv_cluster['cnv_cluster'] = cnv_cluster['cnv_cluster'].replace(mapping_dict)"
   ]
  },
  {
   "cell_type": "code",
   "execution_count": null,
   "metadata": {},
   "outputs": [],
   "source": [
    "for subdirectory in sampleName: \n",
    "    # read the adata file\n",
    "    adata = sc.read_h5ad(f\"{subdirectory}/adata_infercnv.h5ad\")\n",
    "    adata.obs['in_tissue'] = adata.obs['in_tissue'].astype(float)\n",
    "    adata.obsm['spatial'] = adata.obsm['spatial'].astype(float)\n",
    "    adata.obs['array_row'] = adata.obs['array_row'].astype(float)\n",
    "    adata.obs['array_col'] = adata.obs['array_col'].astype(float)\n",
    "\n",
    "    # obtain cnv states\n",
    "    adata.obs.index = adata.obs.index + '_' + subdirectory\n",
    "    adata.obs['cnv_cluster'] = cnv_cluster\n",
    "\n",
    "    # delete NA\n",
    "    adata_filtered = adata[~adata.obs['cnv_cluster'].isnull()]\n",
    "\n",
    "    # create the color dictionary\n",
    "    color_dict = {'Chr8q-amp': '#fbb395', 'Chr20-amp': '#ffdc7e', 'Chr18-amp': '#7dd1a9', 'CIN-moderate': '#4ca6a3', 'CIN-low': '#69619c'}\n",
    "\n",
    "    # create a legend with only the actual colors used\n",
    "    actual_colors = [key for key in color_dict.keys() if key in adata_filtered.obs['cnv_cluster'].unique()]\n",
    "    legend_patches = [mpatches.Patch(color=color_dict[key], label=key) for key in actual_colors]\n",
    "    \n",
    "    # plot the spatial distribution of the cnv states\n",
    "    sc.pl.spatial(adata_filtered, color='cnv_cluster', img_key=None, show=False, size=1.4, palette=color_dict)\n",
    "    legend = plt.legend(handles=legend_patches, loc='center left', bbox_to_anchor=(1, 0.5))\n",
    "    plt.savefig(f\"../{subdirectory}_cluster_spatial.png\", format=\"png\", bbox_inches='tight', bbox_extra_artists=[legend])\n",
    "    "
   ]
  },
  {
   "cell_type": "markdown",
   "metadata": {},
   "source": [
    "### Figures 3f, S4m"
   ]
  },
  {
   "cell_type": "code",
   "execution_count": null,
   "metadata": {},
   "outputs": [],
   "source": [
    "for sample in sampleName: \n",
    "    # read the adata file\n",
    "     adata = sc.read_h5ad(f\"{sample}/adata_infercnv.h5ad\")\n",
    "     adata.obs['in_tissue'] = adata.obs['in_tissue'].astype(float)\n",
    "     adata.obsm['spatial'] = adata.obsm['spatial'].astype(float)\n",
    "     adata.obs['array_row'] = adata.obs['array_row'].astype(float)\n",
    "     adata.obs['array_col'] = adata.obs['array_col'].astype(float)\n",
    "\n",
    "     colors = ['#781c68', '#b79ad8',  '#ffce94', '#ff9c2b']\n",
    "     cmap = ListedColormap(colors)\n",
    "\n",
    "     min_value = np.min(adata.obs['cnv_score'])\n",
    "     max_value = np.max(adata.obs['cnv_score'])\n",
    "     q1 = np.percentile(adata[adata.obs['annotations'] == 'Fibroblast'].obs['cnv_score'], 95)\n",
    "     q3 = (max_value + q1)/2\n",
    "     q2 = (q3 + q1)/2\n",
    "\n",
    "     bounds = [min_value, q1, q2, q3, max_value]\n",
    "     norm = BoundaryNorm(bounds, cmap.N)\n",
    "\n",
    "     interval_labels = ['Bottom', 'Lower-Mid', 'Upper-Mid', 'Top']\n",
    "     adata.obs['cnv_score_interval'] = pd.cut(adata.obs['cnv_score'], bins=bounds, labels=interval_labels, include_lowest=True)\n",
    "\n",
    "     sc.pl.spatial(adata, color='cnv_score_interval', palette=colors, size=1.4, img=None, img_key=None, show=False)\n",
    "     ax = plt.gca()\n",
    "     ax.axis('off')\n",
    "     ax.set_title('')\n",
    "     plt.savefig(f\"./sp_cnv_state/{sample}_cnv_score.png\", format=\"png\", dpi=800, bbox_inches='tight')\n",
    "     plt.close()\n"
   ]
  },
  {
   "cell_type": "code",
   "execution_count": null,
   "metadata": {},
   "outputs": [],
   "source": []
  }
 ],
 "metadata": {
  "language_info": {
   "name": "python"
  }
 },
 "nbformat": 4,
 "nbformat_minor": 2
}
