{
 "cells": [
  {
   "cell_type": "markdown",
   "metadata": {},
   "source": [
    "### Fig5j"
   ]
  },
  {
   "cell_type": "code",
   "execution_count": null,
   "metadata": {},
   "outputs": [],
   "source": [
    "library(survival)\n",
    "library(survminer)\n",
    "library(forestplot)\n",
    "library(dplyr)\n",
    "library(tidyr)"
   ]
  },
  {
   "cell_type": "code",
   "execution_count": null,
   "metadata": {},
   "outputs": [],
   "source": [
    "clinical_info <- read.csv(\"./HGSOC_clini_info.csv\", row.names=1)\n",
    "gene_exp <- read.csv(\"./key_genes_exp.csv\", row.names=1)\n",
    "clinical_info <- cbind(clinical_info, gene_exp)\n"
   ]
  },
  {
   "cell_type": "code",
   "execution_count": null,
   "metadata": {},
   "outputs": [],
   "source": [
    "clinical_info <- clinical_info[clinical_info$Survival_Time!=\"\", ]\n",
    "clinical_info$Survival_Time <- as.integer(sub(\" days.*\", \"\", clinical_info$Survival_Time))\n",
    "clinical_info$Survival_Time <- clinical_info$Survival_Time / 30\n",
    "clinical_info <- clinical_info[clinical_info$Survival_Time>0,]"
   ]
  },
  {
   "cell_type": "code",
   "execution_count": null,
   "metadata": {},
   "outputs": [],
   "source": [
    "gene <- \"CD24\"\n",
    "\n",
    "median_value <- median(clinical_info[,gene])\n",
    "clinical_info$Group <- ifelse(clinical_info[,gene] > median_value, \"high\", \"low\")\n",
    "\n",
    "surv_obj <- Surv(clinical_info$Survival_Time, clinical_info$Sruvival_Status)\n",
    "fit <- survfit(surv_obj ~ Group, data = clinical_info)\n",
    "\n",
    "p <- ggsurvplot(fit,\n",
    "        pval = TRUE,\n",
    "        risk.table = TRUE,\n",
    "        risk.table.col = \"strata\",\n",
    "        surv.median.line = \"hv\",\n",
    "        ggtheme = theme_bw() +  # 更改ggplot2的主题\n",
    "                    theme(panel.grid.major = element_blank(),\n",
    "                        panel.grid.minor = element_blank(),\n",
    "                        panel.background = element_blank()),\n",
    "        palette = c(\"#de924f\", \"#3e709e\")  # 自定义线条颜色\n",
    ")\n"
   ]
  },
  {
   "cell_type": "code",
   "execution_count": null,
   "metadata": {},
   "outputs": [],
   "source": []
  }
 ],
 "metadata": {
  "language_info": {
   "name": "python"
  }
 },
 "nbformat": 4,
 "nbformat_minor": 2
}
