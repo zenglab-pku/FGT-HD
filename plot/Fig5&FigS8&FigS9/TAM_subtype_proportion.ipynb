{
 "cells": [
  {
   "cell_type": "markdown",
   "metadata": {},
   "source": [
    "### FigS9d"
   ]
  },
  {
   "cell_type": "code",
   "execution_count": null,
   "metadata": {},
   "outputs": [],
   "source": [
    "suppressMessages(library(ggplot2))\n",
    "suppressMessages(library(ggpubr))\n",
    "suppressMessages(library(tidyverse))"
   ]
  },
  {
   "cell_type": "code",
   "execution_count": null,
   "metadata": {},
   "outputs": [],
   "source": [
    "prop_df <- read.csv(\"./TAM_subtype_total_proportion.csv\")\n",
    "prop_df$macro_subtype <- factor(prop_df$macro_subtype, levels=prop_df$macro_subtype)\n"
   ]
  },
  {
   "cell_type": "code",
   "execution_count": null,
   "metadata": {},
   "outputs": [],
   "source": [
    "options(repr.plot.width = 3.5, repr.plot.height = 4)\n",
    "\n",
    "p <- ggplot(prop_df, aes(x = \"\", y = percentage, fill = macro_subtype)) +\n",
    "  geom_bar(stat = \"identity\", width = 0.8) +\n",
    "  labs(x = NULL, y = \"Percentage\", fill = \"Subtype\") +\n",
    "  scale_color_manual(values = c(\"M12_Macro-C3\" = \"#07649b\",\"M07_Macro-EREG\" = \"#b41739\",\n",
    "                                \"M10_Macro-C1QA\" = \"#057c50\",\"M11_Macro-VCAN\" = \"#d6859e\",\n",
    "                                \"M08_Macro-FN1\" = \"#b7ab7c\",\"M14_Macro-FOLR2\" = \"#eaa023\",\n",
    "                                \"M09_Macro-FABP5\" = \"#eeaeb9\",\"Macro-Others\" = \"#a84068\")) +\n",
    "  scale_fill_manual(values = c(\"M12_Macro-C3\" = \"#07649b\",\"M07_Macro-EREG\" = \"#b41739\",\n",
    "                                \"M10_Macro-C1QA\" = \"#057c50\",\"M11_Macro-VCAN\" = \"#d6859e\",\n",
    "                                \"M08_Macro-FN1\" = \"#b7ab7c\",\"M14_Macro-FOLR2\" = \"#eaa023\",\n",
    "                                \"M09_Macro-FABP5\" = \"#eeaeb9\",\"Macro-Others\" = \"#a84068\")) +\n",
    "  theme_minimal() +\n",
    "  theme(\n",
    "    panel.border = element_blank(),\n",
    "    panel.grid.major = element_blank(),\n",
    "    panel.grid.minor = element_blank(),\n",
    "    axis.line = element_line(color = \"black\"),\n",
    "    axis.ticks.y = element_line(color = \"black\")\n",
    "  )\n"
   ]
  },
  {
   "cell_type": "markdown",
   "metadata": {},
   "source": [
    "### FigS9e"
   ]
  },
  {
   "cell_type": "code",
   "execution_count": null,
   "metadata": {},
   "outputs": [],
   "source": [
    "prop_df <- read.csv(\"./TAM_subtype_proportion.csv\")\n",
    "prop_df$group <- factor(prop_df$group, levels=c(\"recur\",\"no_recur\"))\n",
    "prop_df <- na.omit(prop_df)\n"
   ]
  },
  {
   "cell_type": "code",
   "execution_count": null,
   "metadata": {},
   "outputs": [],
   "source": [
    "prop_df$macro_subtype <- factor(prop_df$macro_subtype, levels=c(\"M12_Macro-C3\",\"M07_Macro-EREG\",\"M10_Macro-C1QA\",\"M11_Macro-VCAN\",\n",
    "                                                \"M08_Macro-FN1\",\"M14_Macro-FOLR2\",\"M09_Macro-FABP5\",\"Macro-Others\"))\n",
    "\n",
    "p <- ggplot(prop_df, aes(x = group, y = percentage, color = group, fill = group)) +\n",
    "  geom_boxplot(alpha = 0.8, outlier.shape = NA, color = \"black\") +\n",
    "  geom_jitter(width = 0, size = 2, alpha = 0.8, shape = 21, stroke = 0.5, color = \"black\") +\n",
    "  facet_wrap(~macro_subtype, nrow = 2, scales = \"free_y\", ncol = 5) +\n",
    "  theme_minimal() +\n",
    "  labs(title = \"\", x = \"\", y = \"Proportion\") +\n",
    "  scale_color_manual(values = c(\"no_recur\" = \"#ff7f0e\",\"recur\" = \"#1f77b4\")) +\n",
    "  scale_fill_manual(values = c(\"no_recur\" = \"#ff7f0e\",\"recur\" = \"#1f77b4\")) +\n",
    "  theme(\n",
    "      axis.text.x = element_blank(),\n",
    "      axis.ticks.y = element_line(color = \"black\", linewidth = 0.5),\n",
    "      axis.text.y = element_text(size = 11, color = \"black\"),\n",
    "      panel.border = element_rect(color = \"black\", linewidth = 0.8, fill = NA),\n",
    "      panel.grid.major = element_blank(),\n",
    "      panel.grid.minor = element_blank()\n",
    "  )\n"
   ]
  },
  {
   "cell_type": "code",
   "execution_count": null,
   "metadata": {},
   "outputs": [],
   "source": []
  }
 ],
 "metadata": {
  "language_info": {
   "name": "python"
  }
 },
 "nbformat": 4,
 "nbformat_minor": 2
}
