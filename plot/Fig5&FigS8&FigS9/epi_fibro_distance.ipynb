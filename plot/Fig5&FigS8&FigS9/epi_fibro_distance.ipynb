{
 "cells": [
  {
   "cell_type": "markdown",
   "metadata": {},
   "source": [
    "### FigS8e"
   ]
  },
  {
   "cell_type": "code",
   "execution_count": null,
   "metadata": {},
   "outputs": [],
   "source": [
    "library(ggplot2)\n",
    "library(grid)\n",
    "library(tidyverse)"
   ]
  },
  {
   "cell_type": "code",
   "execution_count": null,
   "metadata": {},
   "outputs": [],
   "source": [
    "obs <- read.csv(\"./fibro2epi_promixity.csv\",row.names=1)\n",
    "filter_obs <- na.omit(obs)\n",
    "filter_obs$group <- ifelse(filter_obs$cluster_cellcharter == 12, \"PCD\", \"others\")\n"
   ]
  },
  {
   "cell_type": "code",
   "execution_count": null,
   "metadata": {},
   "outputs": [],
   "source": [
    "cell_result_df <- filter_obs[,c(\"group\", \"niche3_fibro_promixity\", \"others_fibro_promixity\")]\n",
    "\n",
    "long_df <- pivot_longer(\n",
    "  cell_result_df,\n",
    "  cols = c(\"niche3_fibro_promixity\", \"others_fibro_promixity\"),\n",
    "  names_to = \"fibro_type\",\n",
    "  values_to = \"promixity\"\n",
    ")"
   ]
  },
  {
   "cell_type": "code",
   "execution_count": null,
   "metadata": {},
   "outputs": [],
   "source": [
    "filtered_df <- long_df %>%\n",
    "  group_by(fibro_type) %>%\n",
    "  mutate(threshold = quantile(promixity, 0.95, na.rm = TRUE)) %>%\n",
    "  filter(promixity <= threshold) %>%\n",
    "  ungroup()\n",
    "\n",
    "p <- ggplot(filtered_df, aes(x = fibro_type, y = promixity, color = fibro_type, fill = fibro_type)) +\n",
    "  geom_violin(alpha = 0.8, position = position_dodge(width = 2), trim = FALSE, color = \"grey90\", linewidth = 0.8) +\n",
    "  geom_boxplot(width = 0.1, color = \"white\", linewidth = 0.5, outlier.shape = NA) +\n",
    "  facet_wrap(~group, nrow = 1, ncol = 2) +\n",
    "  ylim(0,50) +\n",
    "  theme_minimal() +\n",
    "  labs(x = \"Groups\", y = \"Proximity\") +\n",
    "  scale_color_manual(values = c(\"niche3_fibro_promixity\" = \"#006374\", \"others_fibro_promixity\" = \"#cccc4d\")) +\n",
    "  scale_fill_manual(values = c(\"niche3_fibro_promixity\" = \"#006374\", \"others_fibro_promixity\" = \"#cccc4d\")) +\n",
    "  theme(\n",
    "    axis.text.x = element_text(angle = 45, hjust = 1),\n",
    "    legend.position = \"none\",\n",
    "    axis.ticks.y = element_line(color = \"black\", linewidth = 0.5),\n",
    "    axis.text.y = element_text(size = 11, color = \"black\"),\n",
    "    panel.border = element_rect(color = \"black\", linewidth = 0.8, fill = NA),\n",
    "    panel.grid.major = element_blank(),\n",
    "    panel.grid.minor = element_blank()\n",
    "  )\n"
   ]
  },
  {
   "cell_type": "code",
   "execution_count": null,
   "metadata": {},
   "outputs": [],
   "source": []
  }
 ],
 "metadata": {
  "language_info": {
   "name": "python"
  }
 },
 "nbformat": 4,
 "nbformat_minor": 2
}
