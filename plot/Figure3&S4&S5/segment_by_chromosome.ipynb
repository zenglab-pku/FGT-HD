{
 "cells": [
  {
   "cell_type": "code",
   "execution_count": null,
   "metadata": {
    "vscode": {
     "languageId": "r"
    }
   },
   "outputs": [],
   "source": [
    "library(pheatmap)\n",
    "library(RColorBrewer)\n",
    "library(ComplexHeatmap)\n",
    "library(circlize)\n",
    "library(ggpubr)\n",
    "library(viridis)\n",
    "library(dendextend)\n",
    "library(data.table)"
   ]
  },
  {
   "cell_type": "markdown",
   "metadata": {},
   "source": [
    "### Figure 3b"
   ]
  },
  {
   "cell_type": "code",
   "execution_count": null,
   "metadata": {
    "vscode": {
     "languageId": "r"
    }
   },
   "outputs": [],
   "source": [
    "tpm <- read.csv(\"CNV_sum_filter.csv\", header = TRUE)\n",
    "row.names(tpm) <- make.unique(tpm[, 1])\n",
    "tpm <- tpm[, -1]\n",
    "tpm[is.na(tpm)] <- 0\n",
    "\n",
    "cluster <- read.csv(\"cnv_clu5_th2.csv\", header=T)\n",
    "rownames(cluster) <- cluster[, 1]\n",
    "cluster <- subset(cluster, select = -X)\n",
    "head(cluster)\n"
   ]
  },
  {
   "cell_type": "code",
   "execution_count": null,
   "metadata": {
    "vscode": {
     "languageId": "r"
    }
   },
   "outputs": [],
   "source": [
    "mapping_dict <- c('1' = 'CIN-low', '2' = 'Chr8q-amp', '3' = 'Chr20-amp', '4' = 'Chr18-amp', '5' = 'CIN-moderate')\n",
    "cluster$Cluster <- mapping_dict[as.character(cluster$Cluster)]\n",
    "\n",
    "sorted_data <- cluster[order(factor(cluster$Cluster, levels = c('Chr8q-amp', 'Chr20-amp', 'Chr18-amp', 'CIN-moderate', 'CIN-low'))), , drop = FALSE]\n",
    "sorted_expr_matrix <- tpm[, row.names(sorted_data)]\n",
    "\n",
    "cluster_count <- read.csv(\"cluster_count.csv\", header=T)\n",
    "sorted_index <- rownames(sorted_data)\n",
    "merged_data <- merge(cluster_count, sorted_data, by.x = \"X\", by.y = \"row.names\")\n",
    "merged_data <- merged_data[order(match(merged_data$X, sorted_index)), ]\n"
   ]
  },
  {
   "cell_type": "code",
   "execution_count": null,
   "metadata": {
    "vscode": {
     "languageId": "r"
    }
   },
   "outputs": [],
   "source": [
    "mat <- as.matrix(sorted_expr_matrix)\n",
    "\n",
    "cell_count <- merged_data$Cell.Count\n",
    "column_widths <- ifelse(cell_count / 1000 < 5, 0, round(cell_count / 1000))\n",
    "expanded_mat <- do.call(cbind, lapply(1:ncol(mat), function(i) {\n",
    "    if (column_widths[i] != 0) {\n",
    "        matrix(rep(mat[, i], column_widths[i]), ncol = column_widths[i])\n",
    "    } else {\n",
    "        NULL\n",
    "    }\n",
    "}))\n",
    "mat <- expanded_mat"
   ]
  },
  {
   "cell_type": "code",
   "execution_count": null,
   "metadata": {
    "vscode": {
     "languageId": "r"
    }
   },
   "outputs": [],
   "source": [
    "cancer_type <- read.csv(\"HD-OV 100.csv\", header=1)[,c(2,4)]\n",
    "col_names <- colnames(as.matrix(sorted_expr_matrix))\n",
    "tumor_types <- vector(\"character\", length(col_names))\n",
    "\n",
    "for (i in seq_along(col_names)) {\n",
    "    sample_id <- strsplit(col_names[i], \"_\")[[1]][1]\n",
    "    match_index <- match(sample_id, cancer_type[, 1])\n",
    "    if (!is.na(match_index)) {\n",
    "        tumor_types[i] <- cancer_type[match_index, 2]\n",
    "    } else {\n",
    "        tumor_types[i] <- NA\n",
    "    }\n",
    "}\n",
    "\n",
    "adjusted_tumor_types <- unlist(lapply(1:length(tumor_types), function(i) {\n",
    "    if (column_widths[i] != 0) {\n",
    "        rep(tumor_types[i], column_widths[i])\n",
    "    } else {\n",
    "        NULL\n",
    "    }\n",
    "}))\n",
    "\n",
    "tumor_type_colors <- c(\"OC\" = \"#ab526a\", \"EC\" = \"#d68081\", \"CC\" = \"#2878b5\")\n",
    "annotation <- HeatmapAnnotation(\n",
    "  tumor_type = adjusted_tumor_types,\n",
    "  col = list(tumor_type = tumor_type_colors),\n",
    "  annotation_legend_param = list(\n",
    "    tumor_type = list(\n",
    "      at = c(\"OC\", \"EC\", \"CC\"),\n",
    "      labels = c(\"OC\", \"EC\", \"CC\")\n",
    "    )\n",
    "  )\n",
    ")"
   ]
  },
  {
   "cell_type": "code",
   "execution_count": null,
   "metadata": {
    "vscode": {
     "languageId": "r"
    }
   },
   "outputs": [],
   "source": [
    "my_palette <- colorRamp2(c(-0.005, 0, 0.02), c(\"#483d8b\", \"#ffffff\", \"#800000\"))\n",
    "row_groups <- rep(1:22, c(1889, 1145, 999, 703, 813, 926, 825, 609, 712, 681, 1200, 948, 299, 580, 524, 753, 1067, 257, 1301, 507, 191, 403))\n",
    "\n",
    "value_counts <- table(sorted_data$Cluster)\n",
    "sum1 <- sum(column_widths[1:14])\n",
    "sum2 <- sum(column_widths[15:29])\n",
    "sum3 <- sum(column_widths[30:65])\n",
    "sum4 <- sum(column_widths[66:275])\n",
    "sum5 <- sum(column_widths[276:809])\n",
    "col_groups <- rep(c('high cnv-1', 'high cnv-2', 'high cnv-3', 'moderate cnv', 'low cnv'), c(sum1,sum2,sum3,sum4,sum5))\n",
    "col_groups <- factor(col_groups, levels = c('high cnv-1', 'high cnv-2', 'high cnv-3', 'moderate cnv', 'low cnv'))\n",
    "\n",
    "ht_list <- Heatmap(\n",
    "        mat,\n",
    "        name = \"CNV Score\",\n",
    "        cluster_rows = FALSE,\n",
    "        cluster_columns = FALSE,\n",
    "        col = my_palette,\n",
    "        column_split = col_groups,\n",
    "        row_split = row_groups,\n",
    "        gap = unit(0.5, \"mm\"),\n",
    "        show_row_names = FALSE,\n",
    "        show_column_names = FALSE,\n",
    "        top_annotation = annotation\n",
    ")\n",
    "\n",
    "print(ht_list)"
   ]
  },
  {
   "cell_type": "markdown",
   "metadata": {},
   "source": [
    "### Figure 3c"
   ]
  },
  {
   "cell_type": "code",
   "execution_count": null,
   "metadata": {
    "vscode": {
     "languageId": "r"
    }
   },
   "outputs": [],
   "source": [
    "chr_len <- read.csv(\"./ref/hg38.list\", sep='\\t',header=FALSE)\n",
    "\n",
    "chr_length <- chr_len$V2\n",
    "names(chr_length) = chr_len$V1\n",
    "chr_offset = c(0, cumsum(as.numeric(chr_length)))"
   ]
  },
  {
   "cell_type": "code",
   "execution_count": null,
   "metadata": {
    "vscode": {
     "languageId": "r"
    }
   },
   "outputs": [],
   "source": [
    "HD_sample_info <- read.csv(\"HD-OV 100.csv\")\n",
    "name_list <- HD_sample_info$sample_id"
   ]
  },
  {
   "cell_type": "code",
   "execution_count": null,
   "metadata": {
    "vscode": {
     "languageId": "r"
    }
   },
   "outputs": [],
   "source": [
    "path <- \"./cn/raw\"\n",
    "name_list <- HD_sample_info$sampleName\n",
    "file_list <- paste0(path, \"/\", name_list, \"_gainLoss.bed\")\n",
    "segs <- list()\n",
    "seg_length_list <- list()\n",
    "i <- 0\n",
    "\n",
    "for (file_name in file_list) {\n",
    "    i <- i + 1\n",
    "    \n",
    "    if (file.exists(file_name)) {\n",
    "        sample_name <- sub(\"_.*\", \"\", basename(file_name))\n",
    "        seg_data <- read.table(file_name, header = TRUE, sep = \"\\t\", stringsAsFactors = FALSE)\n",
    "\n",
    "        seg_data$chrom <- gsub(\"chr\", \"\", seg_data$chrom)\n",
    "        seg_data <- seg_data[(seg_data$end - seg_data$start) > 100000, ]\n",
    "        seg_length <- sum(seg_data$end - seg_data$start)\n",
    "        seg_data$total_cn <- ifelse(seg_data$total_cn > 9, 9, seg_data$total_cn)\n",
    "\n",
    "        segs[[i]] <- seg_data\n",
    "        seg_length_list[[i]] <- list(length = seg_length, index = i)\n",
    "    } else {\n",
    "        cat(\"File does not exist:\", file_name, \"\\n\")\n",
    "    }\n",
    "}\n",
    "\n",
    "df_total_length <- do.call(rbind, lapply(seg_length_list, as.data.frame))\n",
    "df_total_length_sorted <- df_total_length[order(-df_total_length$length), ]"
   ]
  },
  {
   "cell_type": "code",
   "execution_count": null,
   "metadata": {
    "vscode": {
     "languageId": "r"
    }
   },
   "outputs": [],
   "source": [
    "segs_order = segs[df_total_length_sorted$index]"
   ]
  },
  {
   "cell_type": "code",
   "execution_count": null,
   "metadata": {
    "vscode": {
     "languageId": "r"
    }
   },
   "outputs": [],
   "source": [
    "plot(0, 0,\n",
    "\ttype=\"n\",\n",
    "\txlim=c(0, sum(chr_length)),\n",
    "\tylim=c(0, length(segs)),\n",
    "\tbty=\"n\",\n",
    "\txaxt=\"n\", xlab=\"Chromosome\",\n",
    "\tyaxt=\"n\", ylab=\"Tumour\"\n",
    ")\n",
    "\n",
    "poly_height = 1\n",
    "\n",
    "cp_colors = c(\n",
    "\trev(brewer.pal(5, \"Blues\")[c(4, 5)]), # 0, 1\n",
    "\trgb(150, 150, 150, maxColorValue=255),\n",
    "\tbrewer.pal(8, \"Reds\")[c(-1, -2)]\n",
    ")\n",
    "\n",
    "for (i in 1:length(segs_order)) {\n",
    "    if (nrow(segs_order[[i]]) > 0) {\n",
    "        chr = segs_order[[i]]$chrom\n",
    "        start = segs_order[[i]][[\"start\"]]\n",
    "        end = segs_order[[i]][[\"end\"]]\n",
    "        cp_num = segs_order[[i]][[\"total_cn\"]]\n",
    "\n",
    "        for (j in 1:nrow(segs_order[[i]])) {\n",
    "            offset = chr_offset[as.integer(chr[j])]\n",
    "            genome_start = offset + start[j]\n",
    "            genome_end = offset + end[j]\n",
    "\n",
    "            polygon(\n",
    "                c(genome_start, genome_end, genome_end, genome_start),\n",
    "                c(i, i, i + poly_height, i + poly_height),\n",
    "                border=NA,\n",
    "                col=cp_colors[cp_num[j] + 1]\n",
    "            )\n",
    "        }\n",
    "    }\n",
    "}\n",
    "\n",
    "for (chr_end in chr_offset) {\n",
    "\tabline(v=chr_end,\n",
    "\t\tcol=\"black\"\n",
    "\t)\n",
    "}\n",
    "par(xpd=TRUE)\n",
    "\n",
    "for (chr in 1:(length(chr_offset) - 1)) {\n",
    "\tmid_point = mean(chr_offset[c(chr, chr + 1)])\n",
    "\ttext(mid_point, 1, labels=chr, pos=1)\n",
    "}\n",
    "\n",
    "rect(\n",
    "  xleft = 0,\n",
    "  ybottom = 1,\n",
    "  xright = sum(chr_length),\n",
    "  ytop = 100 + poly_height,\n",
    "  border = \"black\",\n",
    "  lwd = 2\n",
    ")\n"
   ]
  },
  {
   "cell_type": "code",
   "execution_count": null,
   "metadata": {
    "vscode": {
     "languageId": "r"
    }
   },
   "outputs": [],
   "source": []
  }
 ],
 "metadata": {
  "kernelspec": {
   "display_name": "R",
   "language": "R",
   "name": "ir"
  },
  "language_info": {
   "name": "R"
  }
 },
 "nbformat": 4,
 "nbformat_minor": 2
}
