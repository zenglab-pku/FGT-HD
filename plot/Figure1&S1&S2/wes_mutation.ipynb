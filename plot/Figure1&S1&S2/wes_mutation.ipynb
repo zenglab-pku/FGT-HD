{
 "cells": [
  {
   "cell_type": "markdown",
   "metadata": {},
   "source": [
    "### Figure S1b"
   ]
  },
  {
   "cell_type": "code",
   "execution_count": null,
   "metadata": {
    "vscode": {
     "languageId": "r"
    }
   },
   "outputs": [],
   "source": [
    "library(maftools)\n",
    "library(ComplexHeatmap)\n",
    "library(dplyr)\n",
    "library(circlize)\n",
    "library(gridExtra)\n",
    "\n",
    "options(stringsAsFactors = F)"
   ]
  },
  {
   "cell_type": "code",
   "execution_count": null,
   "metadata": {
    "vscode": {
     "languageId": "r"
    }
   },
   "outputs": [],
   "source": [
    "HRR_genes <- c(\"ATM\", \"BRCA1\", \"BRCA2\", \"BARD1\", \"BRIP1\", \"CDK12\", \"CHEK1\", \n",
    "                \"CHEK2\", \"FANCL\", \"PALB2\", \"RAD51B\", \"RAD51C\", \"RAD51D\", \"RAD54L\", \"PPP2R2A\")"
   ]
  },
  {
   "cell_type": "code",
   "execution_count": null,
   "metadata": {
    "vscode": {
     "languageId": "r"
    }
   },
   "outputs": [],
   "source": [
    "germline_laml = read.maf(maf = './OCEC_germline_maf.maf')\n",
    "\n",
    "germline_maf_data <- subsetMaf(maf = germline_laml, genes = HRR_genes, isTCGA = FALSE)\n",
    "all_samples <- unique(germline_laml@data$Tumor_Sample_Barcode)\n"
   ]
  },
  {
   "cell_type": "code",
   "execution_count": null,
   "metadata": {
    "vscode": {
     "languageId": "r"
    }
   },
   "outputs": [],
   "source": [
    "germline_mutations <- germline_maf_data@data[, c(\"Hugo_Symbol\", \"Tumor_Sample_Barcode\",\"Variant_Classification\")]\n",
    "germline_mutations$Hugo_Symbol <- as.character(germline_mutations$Hugo_Symbol)\n",
    "germline_mutations$Tumor_Sample_Barcode <- as.character(germline_mutations$Tumor_Sample_Barcode)\n",
    "germline_mutations$Variant_Classification <- as.character(germline_mutations$Variant_Classification)\n"
   ]
  },
  {
   "cell_type": "code",
   "execution_count": null,
   "metadata": {
    "vscode": {
     "languageId": "r"
    }
   },
   "outputs": [],
   "source": [
    "germline_mut_matrix <- matrix(\"\", nrow = length(HRR_genes), ncol = length(all_samples),\n",
    "                     dimnames = list(HRR_genes, all_samples))\n",
    "\n",
    "for (i in 1:nrow(germline_mutations)) {\n",
    "    gene <- germline_mutations$Hugo_Symbol[i]\n",
    "    sample <- germline_mutations$Tumor_Sample_Barcode[i]\n",
    "\n",
    "    germline_mut_matrix[gene, sample] <- \"Germline mutation\"\n",
    "}"
   ]
  },
  {
   "cell_type": "code",
   "execution_count": null,
   "metadata": {
    "vscode": {
     "languageId": "r"
    }
   },
   "outputs": [],
   "source": [
    "laml = read.maf(maf = '/OCEC_somatic_maf.maf')\n",
    "laml_mut <- getGeneSummary(laml)\n",
    "\n",
    "genes <- HRR_genes\n",
    "maf_data <- subsetMaf(maf = laml, genes = genes, isTCGA = FALSE)\n",
    "all_samples <- unique(laml@data$Tumor_Sample_Barcode)\n",
    "mutations <- maf_data@data[, c(\"Hugo_Symbol\", \"Tumor_Sample_Barcode\",\"Variant_Classification\")]\n",
    "mutations$Hugo_Symbol <- as.character(mutations$Hugo_Symbol)\n",
    "mutations$Tumor_Sample_Barcode <- as.character(mutations$Tumor_Sample_Barcode)\n",
    "mutations$Variant_Classification <- as.character(mutations$Variant_Classification)\n",
    "order <- c('Multi_Hit','Missense_Mutation','Nonsense_Mutation','Frame_Shift_Del','Frame_Shift_Ins','In_Frame_Del','In_Frame_Ins','Splice_Site')\n",
    "laml@data$Variant_Classification <- factor(laml@data$Variant_Classification, levels = order)\n",
    "\n",
    "somatic_mut_matrix <- matrix(\"\", nrow = length(genes), ncol = length(all_samples),\n",
    "                     dimnames = list(genes, all_samples))\n",
    "\n",
    "for (i in 1:nrow(mutations)) {\n",
    "    gene <- mutations$Hugo_Symbol[i]\n",
    "    sample <- mutations$Tumor_Sample_Barcode[i]\n",
    "\n",
    "    somatic_mut_matrix[gene, sample] <- \"Somatic mutation\"\n",
    "\n",
    "}\n"
   ]
  },
  {
   "cell_type": "code",
   "execution_count": null,
   "metadata": {
    "vscode": {
     "languageId": "r"
    }
   },
   "outputs": [],
   "source": [
    "both_colnames <- intersect(colnames(germline_mut_matrix), colnames(somatic_mut_matrix))\n",
    "germline_mut_matrix <- germline_mut_matrix[,both_colnames]\n",
    "somatic_mut_matrix <- somatic_mut_matrix[,both_colnames]\n",
    "\n",
    "germline_mut_df <- as.data.frame(germline_mut_matrix)\n",
    "somatic_mut_df <- as.data.frame(somatic_mut_matrix)\n",
    "\n",
    "merge_samples <- function(x, y, z) {\n",
    "  x <- ifelse(is.na(x), \"\", paste(x, \";\", sep = \"\"))\n",
    "  y <- ifelse(is.na(y), \"\", paste(y, \";\", sep = \"\"))\n",
    "\n",
    "  combined <- paste(x, y, sep = \"\")\n",
    "  combined <- gsub(\";;+\", \";\", combined)\n",
    "  \n",
    "  combined <- gsub(\"^(;+)\", \"\", combined)\n",
    "  \n",
    "  combined\n",
    "}\n",
    "\n",
    "HRR_df <- mapply(FUN = merge_samples, germline_mut_df, somatic_mut_df, SIMPLIFY = FALSE)\n",
    "HRR_df <- data.frame(HRR_df, row.names = rownames(germline_mut_df))\n",
    "\n",
    "alter_samples_index <- apply(HRR_df, 2, function(col) {\n",
    "    !all(col == \"\")\n",
    "})\n",
    "HRR_alter_df <- HRR_df[, alter_samples_index]\n",
    "HRR_matrix <- as.matrix(HRR_alter_df)"
   ]
  },
  {
   "cell_type": "code",
   "execution_count": null,
   "metadata": {
    "vscode": {
     "languageId": "r"
    }
   },
   "outputs": [],
   "source": [
    "clinical_data <- read.csv(\"./germline_clinical_df.csv\",row.names=1)\n",
    "clinical_data$TP53 <- as.character(clinical_data$TP53)\n",
    "clinical_data$PTEN <- as.character(clinical_data$PTEN)\n",
    "clinical_data$ARID1A <- as.character(clinical_data$ARID1A)\n",
    "clinical_data$PIK3CA <- as.character(clinical_data$PIK3CA)\n",
    "\n",
    "clinical_data <- clinical_data[colnames(HRR_matrix),]\n",
    "clinical_data$Tumor_Type <- factor(clinical_data$Tumor_Type, levels=c(\"EC\",\"OC\"))\n",
    "clinical_data$Tumor_SubType <- factor(clinical_data$Tumor_SubType, levels=c(\"Serous\",\"Endometrial\",\"Mucinous\",\"Clear cell\",\"Sarcoma\",\"Others\"))\n",
    "clinical_data <- clinical_data[order(clinical_data$Tumor_Type, clinical_data$Tumor_SubType), ]\n",
    "HRR_matrix <- HRR_matrix[,rownames(clinical_data)]\n"
   ]
  },
  {
   "cell_type": "code",
   "execution_count": null,
   "metadata": {
    "vscode": {
     "languageId": "r"
    }
   },
   "outputs": [],
   "source": [
    "ha <- HeatmapAnnotation(\n",
    "  Tumor_Type = clinical_data$Tumor_Type,\n",
    "  Subtype = clinical_data$Tumor_SubType,\n",
    "  Recurrence = clinical_data$Recurrence_Status,\n",
    "  MSI = clinical_data$MSI_state,\n",
    "  annotation_height = unit(8, \"mm\"),\n",
    "  show_annotation_name = TRUE,\n",
    "  annotation_name_side = \"left\",\n",
    "  col = list(\n",
    "    Tumor_Type = c(\"OC\" = \"#ab526a\", \"EC\" = \"#d68081\", 'Unknown' = \"#dcdcdc\"),\n",
    "    Subtype = c(\"Mucinous\" = \"#b1bcf4\", \"Serous\" = \"#65a56d\", \"Clear cell\" = \"#f4e88d\", \"Endometrial\" = \"#eab768\", \"Sarcoma\" = \"#cf5b5d\",'Others' = \"#dcdcdc\"),\n",
    "    Recurrence = c(\"1\" = \"#785190\", \"0\" = \"#6f87bb\", 'Unknown' = \"#dcdcdc\"),\n",
    "    MSI = c(\"MSI-low\" = \"#62b58f\", \"MSI-high\" = \"#e7cc5e\", 'Unknown' = \"#dcdcdc\")\n",
    "  ),\n",
    "  annotation_legend_param = list(\n",
    "    Tumor_Type = list(border = TRUE, border_gp = gpar(col = \"white\")),\n",
    "    Subtype = list(border = TRUE, border_gp = gpar(col = \"white\")),\n",
    "    Recurrence = list(border = TRUE, border_gp = gpar(col = \"white\")),\n",
    "    MSI = list(border = TRUE, border_gp = gpar(col = \"white\"))\n",
    "  )\n",
    ")"
   ]
  },
  {
   "cell_type": "code",
   "execution_count": null,
   "metadata": {
    "vscode": {
     "languageId": "r"
    }
   },
   "outputs": [],
   "source": [
    "col = c(\"Germline mutation\" = \"#3e726e\", \"Somatic mutation\" = \"#f4c744\")\n",
    "alter_fun = list(\n",
    "    background = function(x, y, w, h) {\n",
    "        grid.rect(x, y, w*0.2, h-unit(2, \"pt\"), \n",
    "            gp = gpar(fill = \"#CCCCCC\", col = NA))\n",
    "    },\n",
    "    `Germline mutation` = function(x, y, w, h) {\n",
    "        grid.rect(x, y, w*0.7, h-unit(2, \"pt\"), \n",
    "            gp = gpar(fill = col[\"Germline mutation\"], col = \"#f69ca0\"))\n",
    "    },\n",
    "    `Somatic mutation` = function(x, y, w, h) {\n",
    "        grid.rect(x, y, w*0.7, h-unit(2, \"pt\"), \n",
    "            gp = gpar(fill = col[\"Somatic mutation\"], col = \"#415eab\"))\n",
    "    }\n",
    ")\n",
    "\n",
    "column_title = \"Alterations\"\n",
    "heatmap_legend_param = list(title = \"Alternations\", at = c(\"Germline mutation\", \"Somatic mutation\"), \n",
    "        labels = c(\"Germline mutation\", \"Somatic mutation\"))\n",
    "\n",
    "HRR_plt <- oncoPrint(HRR_matrix,\n",
    "    alter_fun = alter_fun, col = col,right_annotation = NULL,left_annotation = NULL,show_pct = FALSE, column_order = 1:ncol(BRCA_matrix),\n",
    "    row_names_side = \"left\",top_annotation = ha, column_title = NULL, heatmap_legend_param = heatmap_legend_param)\n",
    "\n",
    "print(HRR_plt)\n"
   ]
  },
  {
   "cell_type": "code",
   "execution_count": null,
   "metadata": {
    "vscode": {
     "languageId": "r"
    }
   },
   "outputs": [],
   "source": []
  }
 ],
 "metadata": {
  "kernelspec": {
   "display_name": "R",
   "language": "R",
   "name": "ir"
  },
  "language_info": {
   "name": "R"
  }
 },
 "nbformat": 4,
 "nbformat_minor": 2
}
