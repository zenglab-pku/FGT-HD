{
 "cells": [
  {
   "cell_type": "markdown",
   "metadata": {},
   "source": [
    "### Figure 1d, S1d, S1e"
   ]
  },
  {
   "cell_type": "code",
   "execution_count": null,
   "metadata": {
    "vscode": {
     "languageId": "r"
    }
   },
   "outputs": [],
   "source": [
    "library(maftools)\n",
    "library(ComplexHeatmap)\n",
    "library(dplyr)\n",
    "library(circlize)\n",
    "library(gridExtra)\n",
    "library(ggplot2)\n",
    "library(tidyr)"
   ]
  },
  {
   "cell_type": "code",
   "execution_count": null,
   "metadata": {
    "vscode": {
     "languageId": "r"
    }
   },
   "outputs": [],
   "source": [
    "cnv <- read.csv(\"./OCEC_cn.csv\")\n",
    "cnv_unique <- cnv[!duplicated(cnv$gene_name), ]\n",
    "rownames(cnv_unique) <- cnv_unique$gene_name\n",
    "cnv_unique <- cnv_unique[ , -2:-1]\n"
   ]
  },
  {
   "cell_type": "code",
   "execution_count": null,
   "metadata": {
    "vscode": {
     "languageId": "r"
    }
   },
   "outputs": [],
   "source": [
    "cnv_unique[cnv_unique>3] <- \"Amplification\"\n",
    "cnv_unique[cnv_unique==3] <- \"Gain\"\n",
    "cnv_unique[cnv_unique==2] <- \"\"\n",
    "cnv_unique[cnv_unique==1] <- \"Heterozygous Loss\"\n",
    "cnv_unique[cnv_unique==0] <- \"Homozygous Deletion\"\n",
    "\n",
    "key_genes_cnv <- cnv_unique[c(\n",
    "                            \"MYC\",\"PIK3CA\",\"E2F1\",\"RHEB\",\"AKT3\",\"PIK3CB\",\"RPTOR\",\"CCND1\",\"CCND2\",\"EGFR\",\"BRAF\",\"CDK2\",\"E2F3\",\"PIK3R2\",\"KRAS\",\"CDK4\",\n",
    "                            \"MDM4\",\"PTEN\",\"AKT1\",\"TSC2\",\"ERBB2\",\"CCND3\",\"AKT2\",\"SOS1\",\"MYCN\",\"RB1\",\"AXIN1\",\"INPP4B\",\"ATM\",\"CCNE1\",\"TP53\",\"CDKN2A\",\"CDKN2B\",\n",
    "                            \"RAC1\",\"CHEK2\",\"ZNRF3\",\"APC\",\"PIK3R1\",\"NF1\",\"STK11\",\"MGA\"\n",
    "                        ),]\n",
    "\n",
    "cn_matrix <- as.matrix(key_genes_cnv)"
   ]
  },
  {
   "cell_type": "code",
   "execution_count": null,
   "metadata": {
    "vscode": {
     "languageId": "r"
    }
   },
   "outputs": [],
   "source": [
    "clinical_data <- read.csv(\"./CN_clinical_df.csv\",row.names=1)\n",
    "clinical_data$TP53 <- as.character(clinical_data$TP53)\n",
    "clinical_data$PTEN <- as.character(clinical_data$PTEN)\n",
    "clinical_data$ARID1A <- as.character(clinical_data$ARID1A)\n",
    "clinical_data$PIK3CA <- as.character(clinical_data$PIK3CA)\n",
    "clinical_data$RNA_cluster <- as.character(clinical_data$RNA_cluster)\n",
    "clinical_data$Tumor_Type <- factor(clinical_data$Tumor_Type, level=c(\"EC\",\"OC\"))\n",
    "\n",
    "clinical_data <- clinical_data %>%\n",
    "  mutate(RNA_cluster = case_when(\n",
    "    RNA_cluster == \"1\" ~ \"Immunoreative\",\n",
    "    RNA_cluster == \"2\" ~ \"Proliferating\",\n",
    "    RNA_cluster == \"3\" ~ \"Mesenchymal\",\n",
    "    RNA_cluster == \"4\" ~ \"Stem-like\",\n",
    "    TRUE ~ as.character(RNA_cluster)\n",
    "  ))\n",
    "\n",
    "clinical_data[is.na(clinical_data)] <- \"Unknown\"\n",
    "clinical_data[clinical_data==\"\"] <- \"Unknown\"\n",
    "clinical_data <- clinical_data[order(clinical_data$Tumor_Type), ]\n",
    "filter_cn_matrix <- cn_matrix[,rownames(clinical_data)]"
   ]
  },
  {
   "cell_type": "code",
   "execution_count": null,
   "metadata": {
    "vscode": {
     "languageId": "r"
    }
   },
   "outputs": [],
   "source": [
    "EC_cn_matrix <- filter_cn_matrix[,1:127]\n",
    "OC_cn_matrix <- filter_cn_matrix[,128:ncol(filter_cn_matrix)]\n",
    "\n",
    "\n",
    "cn_types <- c(\"Amplification\",\"Gain\",\"Heterozygous Loss\",\"Homozygous Deletion\")\n",
    "cn_col_list <- c(\"#de4431\",\"#f2aa70\",\"#a7b9d2\",\"#4580b8\")\n",
    "cn_colors <- setNames(cn_col_list, cn_types)\n",
    "\n",
    "cn_alter_fun_list <- list()\n",
    "for (cn_type in cn_types) {\n",
    "  cn_alter_fun_list[[cn_type]] <- local({\n",
    "    cn_type_copy <- cn_type\n",
    "    function(x, y, w, h) {\n",
    "      grid.rect(x, y, w, h, gp = gpar(fill = cn_colors[cn_type_copy], col = NA))\n",
    "    }\n",
    "  })\n",
    "}\n",
    "\n",
    "cn_alter_fun_list$background <- function(x, y, w, h) {\n",
    "  grid.rect(x, y, w, h, gp = gpar(fill = \"#ebebeb\", col = NA))\n",
    "}\n",
    "\n",
    "cn_priority <- setNames(seq_along(cn_types), cn_types)"
   ]
  },
  {
   "cell_type": "code",
   "execution_count": null,
   "metadata": {
    "vscode": {
     "languageId": "r"
    }
   },
   "outputs": [],
   "source": [
    "EC_num_matrix <- apply(EC_cn_matrix, 2, function(x) {\n",
    "  sapply(x, function(y) ifelse(y %in% names(cn_priority), cn_priority[y], 0))\n",
    "})\n",
    "EC_num_matrix[EC_num_matrix==0] <- 5\n",
    "EC_sample_order <- do.call(order, as.data.frame(t(EC_num_matrix)))\n",
    "\n",
    "OC_num_matrix <- apply(OC_cn_matrix, 2, function(x) {\n",
    "  sapply(x, function(y) ifelse(y %in% names(cn_priority), cn_priority[y], 0))\n",
    "})\n",
    "OC_num_matrix[OC_num_matrix==0] <- 5\n",
    "OC_sample_order <- do.call(order, as.data.frame(t(OC_num_matrix)))\n",
    "\n",
    "OC_sample_order <- OC_sample_order+127\n",
    "sample_order <- c(EC_sample_order,OC_sample_order)\n",
    "\n",
    "order_matrix <- filter_cn_matrix[,sample_order]\n",
    "clinical_data <- clinical_data[colnames(order_matrix), ]"
   ]
  },
  {
   "cell_type": "code",
   "execution_count": null,
   "metadata": {
    "vscode": {
     "languageId": "r"
    }
   },
   "outputs": [],
   "source": [
    "ha <- HeatmapAnnotation(\n",
    "  Tumor_Type = clinical_data$Tumor_Type,\n",
    "  Subtype = clinical_data$Tumor_SubType,\n",
    "  Age = clinical_data$Age_state,\n",
    "  Recurrence = clinical_data$Recurrence_Status,\n",
    "  Purity = clinical_data$purity_state,\n",
    "  Tumor_Grade = clinical_data$Tumor_Grade,\n",
    "  Tumor_Stage = clinical_data$Tumor_Stage,\n",
    "  MSI = clinical_data$MSI_state,\n",
    "  RNA_cluster = clinical_data$RNA_cluster,\n",
    "  TP53 = clinical_data$TP53,\n",
    "  PTEN = clinical_data$PTEN,\n",
    "  ARID1A = clinical_data$ARID1A,\n",
    "  PIK3CA = clinical_data$PIK3CA,\n",
    "  annotation_height = unit(8, \"mm\"),\n",
    "  show_annotation_name = TRUE,\n",
    "  annotation_name_side = \"left\",\n",
    "  col = list(\n",
    "    Tumor_Type = c(\"OC\" = \"#ab526a\", \"EC\" = \"#d68081\", 'Unknown' = \"#dcdcdc\"),\n",
    "    Subtype = c(\"Mucinous\" = \"#b1bcf4\", \"Serous\" = \"#65a56d\", \"Clear cell\" = \"#f4e88d\", \"Endometrial\" = \"#eab768\", \"Sarcoma\" = \"#cf5b5d\",'Others' = \"#dcdcdc\"),\n",
    "    Age = c(\"High\" = \"#d87559\", \"Medium\" = \"#e6a76c\", \"Low\" = \"#e3c577\", 'Unknown' = \"#dcdcdc\"),\n",
    "    Recurrence = c(\"1\" = \"#785190\", \"0\" = \"#6f87bb\", 'Unknown' = \"#dcdcdc\"),\n",
    "    Purity = c(\"High\" = \"#345b7c\", \"Medium\" = \"#5896aa\", \"Low\" = \"#91cfe3\", 'Unknown' = \"#dcdcdc\"),\n",
    "    Tumor_Grade = c(\"1\" = \"#a1a5bf\", \"2\" = \"#656e96\", \"3\" = \"#475482\", 'Unknown' = \"#dcdcdc\"),\n",
    "    Tumor_Stage = c(\"I\" = \"#a6c692\", \"II\" = \"#92b17f\", \"III\" = \"#7e9d6b\", \"IV\" = \"#6b8959\", 'Unknown' = \"#dcdcdc\"),\n",
    "    MSI = c(\"MSI-low\" = \"#62b58f\", \"MSI-high\" = \"#e7cc5e\", 'Unknown' = \"#dcdcdc\"),\n",
    "    RNA_cluster = c(\"Immunoreative\"=\"#b1bcf4\", \"Proliferating\"=\"#65a56d\", \"Mesenchymal\"=\"#eab768\", \"Stem-like\"=\"#f4e88d\", 'Unknown' = \"#dcdcdc\"),\n",
    "    TP53 = c(\"1\" = \"#393939\", \"0\" = \"#e4e4e4\", 'Unknown' = \"#dcdcdc\"),\n",
    "    PTEN = c(\"1\" = \"#393939\", \"0\" = \"#e4e4e4\", 'Unknown' = \"#dcdcdc\"),\n",
    "    ARID1A = c(\"1\" = \"#393939\", \"0\" = \"#e4e4e4\", 'Unknown' = \"#dcdcdc\"),\n",
    "    PIK3CA = c(\"1\" = \"#393939\", \"0\" = \"#e4e4e4\", 'Unknown' = \"#dcdcdc\")\n",
    "  ),\n",
    "  annotation_legend_param = list(\n",
    "    Tumor_Type = list(border = TRUE, border_gp = gpar(col = \"white\")),\n",
    "    Subtype = list(border = TRUE, border_gp = gpar(col = \"white\")),\n",
    "    Age = list(border = TRUE, border_gp = gpar(col = \"white\")),\n",
    "    Recurrence = list(border = TRUE, border_gp = gpar(col = \"white\")),\n",
    "    Purity = list(border = TRUE, border_gp = gpar(col = \"white\")),\n",
    "    Tumor_Grade = list(border = TRUE, border_gp = gpar(col = \"white\")),\n",
    "    Tumor_Stage = list(border = TRUE, border_gp = gpar(col = \"white\")),\n",
    "    MSI = list(border = TRUE, border_gp = gpar(col = \"white\")),\n",
    "    RNA_cluster = list(border = TRUE, border_gp = gpar(col = \"white\")),\n",
    "    TP53 = list(border = TRUE, border_gp = gpar(col = \"white\")),\n",
    "    PTEN = list(border = TRUE, border_gp = gpar(col = \"white\")),\n",
    "    ARID1A = list(border = TRUE, border_gp = gpar(col = \"white\")),\n",
    "    PIK3CA = list(border = TRUE, border_gp = gpar(col = \"white\"))\n",
    "  )\n",
    ")"
   ]
  },
  {
   "cell_type": "code",
   "execution_count": null,
   "metadata": {
    "vscode": {
     "languageId": "r"
    }
   },
   "outputs": [],
   "source": [
    "mut_onco <- oncoPrint(order_matrix,\n",
    "          alter_fun = cn_alter_fun_list,\n",
    "          col = cn_colors,\n",
    "          top_annotation = ha,\n",
    "          remove_empty_columns = FALSE,\n",
    "          remove_empty_rows = FALSE,\n",
    "          column_order = 1:ncol(filter_cn_matrix),\n",
    "        #   column_title = \"Samples\",\n",
    "          column_title = NULL,\n",
    "          right_annotation = NULL,\n",
    "          left_annotation = NULL,\n",
    "          # row_title = \"Genes\",\n",
    "          show_column_names = FALSE,\n",
    "          row_names_side = \"right\",\n",
    "          show_row_names = TRUE)\n",
    "\n",
    "print(mut_onco)"
   ]
  },
  {
   "cell_type": "code",
   "execution_count": null,
   "metadata": {
    "vscode": {
     "languageId": "r"
    }
   },
   "outputs": [],
   "source": []
  }
 ],
 "metadata": {
  "kernelspec": {
   "display_name": "R",
   "language": "R",
   "name": "ir"
  },
  "language_info": {
   "name": "R"
  }
 },
 "nbformat": 4,
 "nbformat_minor": 2
}
