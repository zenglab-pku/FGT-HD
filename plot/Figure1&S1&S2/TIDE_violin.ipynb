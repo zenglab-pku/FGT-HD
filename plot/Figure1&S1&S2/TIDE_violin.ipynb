{
 "cells": [
  {
   "cell_type": "markdown",
   "metadata": {},
   "source": [
    "### Figure S2b"
   ]
  },
  {
   "cell_type": "code",
   "execution_count": null,
   "metadata": {
    "vscode": {
     "languageId": "r"
    }
   },
   "outputs": [],
   "source": [
    "library(ggplot2)\n",
    "library(tidyr)\n",
    "library(dplyr)\n",
    "library(RColorBrewer)\n",
    "library(ggpubr)"
   ]
  },
  {
   "cell_type": "code",
   "execution_count": null,
   "metadata": {
    "vscode": {
     "languageId": "r"
    }
   },
   "outputs": [],
   "source": [
    "tide_df <- read.table(\"./TIDE/Group_tide_output.txt\", sep=\"\\t\",header=1)\n",
    "long_df <- tide_df %>%\n",
    "  pivot_longer(cols = -c(cluster), names_to = \"Indicators\", values_to = \"Value\")\n",
    "long_df$cluster <- factor(long_df$cluster, levels=c(\"Immunoreactive\",\"Proliferating\",\"Mesenchymal\",\"Stem-like\"))\n"
   ]
  },
  {
   "cell_type": "code",
   "execution_count": null,
   "metadata": {
    "vscode": {
     "languageId": "r"
    }
   },
   "outputs": [],
   "source": [
    "unique_indicators <- c(\"CAF\",\"CTL\")\n",
    "plots <- list()\n",
    "\n",
    "for (indicator in unique_indicators) {\n",
    "  data_subset <- filter(long_df, Indicators == indicator)\n",
    "  \n",
    "  p <- ggplot(data_subset, aes(x = cluster, y = Value, fill = cluster)) +\n",
    "    geom_jitter(position = position_jitter(width = 0.2), size = 1.5, color = \"lightgray\") +\n",
    "    geom_violin(alpha = 0.8, position = position_dodge(width = 0.5), trim = FALSE, color=\"grey90\", linewidth = 1.0) +\n",
    "    geom_boxplot(width = 0.1, color = \"white\", size = 1.5, outlier.shape = NA) +\n",
    "    scale_fill_manual(values = c(\"#b1bcf4\", \"#65a56d\",\"#eab768\",\"#f4e88d\")) +\n",
    "    facet_wrap(~ Indicators, scales = \"free_y\") +\n",
    "    labs(y = \"Signature Score\", x = NULL) +\n",
    "    theme_minimal() +\n",
    "    theme(axis.title.x = element_blank(),\n",
    "          axis.text.x = element_blank(),\n",
    "          legend.position = \"none\",\n",
    "          panel.border = element_blank(),\n",
    "          panel.grid.major = element_blank(),\n",
    "          panel.grid.minor = element_blank())\n",
    "\n",
    "  plots[[indicator]] <- p\n",
    "}\n"
   ]
  },
  {
   "cell_type": "code",
   "execution_count": null,
   "metadata": {
    "vscode": {
     "languageId": "r"
    }
   },
   "outputs": [],
   "source": []
  }
 ],
 "metadata": {
  "kernelspec": {
   "display_name": "R",
   "language": "R",
   "name": "ir"
  },
  "language_info": {
   "name": "R"
  }
 },
 "nbformat": 4,
 "nbformat_minor": 2
}
