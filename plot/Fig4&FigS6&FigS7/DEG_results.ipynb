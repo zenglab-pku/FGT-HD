{
 "cells": [
  {
   "cell_type": "markdown",
   "metadata": {},
   "source": [
    "### Figure S6g"
   ]
  },
  {
   "cell_type": "code",
   "execution_count": null,
   "metadata": {
    "vscode": {
     "languageId": "r"
    }
   },
   "outputs": [],
   "source": [
    "library(dplyr)\n",
    "library(ggplot2)\n",
    "library(tidyr)\n",
    "library(ComplexHeatmap)\n",
    "library(circlize)"
   ]
  },
  {
   "cell_type": "code",
   "execution_count": null,
   "metadata": {
    "vscode": {
     "languageId": "r"
    }
   },
   "outputs": [],
   "source": [
    "sample_exp_df <- read.csv(\"./avg_expression/top_FC_average_expression_per_cluster_sample.csv\",row.names=1)\n",
    "col_order <- as.numeric(gsub(\"_.*\", \"\", colnames(sample_exp_df)))\n",
    "sample_exp_df_sorted <- sample_exp_df[, order(col_order)]\n",
    "sample_exp_mtx <- as.matrix(sample_exp_df_sorted)\n"
   ]
  },
  {
   "cell_type": "code",
   "execution_count": null,
   "metadata": {
    "vscode": {
     "languageId": "r"
    }
   },
   "outputs": [],
   "source": [
    "sample_exp_mtx_zscored <- t(scale(t(sample_exp_mtx)))\n",
    "\n",
    "group_colors <- c(\n",
    "    '#ffd700', '#4d80e6', '#cccc4d', '#006374', '#1c9755',\n",
    "    '#f5616f', '#afeeee', '#7ab8cc', '#cca3cc', '#2f7fc1',\n",
    "    '#79b9f2', '#0d5886', '#082567', '#dcdcdc', '#d3d3d3',\n",
    "    '#7dcc7d', '#00bfff', '#87ceeb', '#fa8072', '#48d1cc',\n",
    "    '#469594'\n",
    ")"
   ]
  },
  {
   "cell_type": "code",
   "execution_count": null,
   "metadata": {
    "vscode": {
     "languageId": "r"
    }
   },
   "outputs": [],
   "source": [
    "group <- as.numeric(gsub(\"_.*\", \"\", colnames(sample_exp_mtx)))\n",
    "names(group_colors) <- unique(group)\n",
    "col_anno <- HeatmapAnnotation(Group = as.factor(group),\n",
    "                              col = list(Group = group_colors))\n",
    "\n",
    "p <- Heatmap(sample_exp_mtx_zscored,\n",
    "        top_annotation = col_anno,\n",
    "        cluster_columns = FALSE,\n",
    "        cluster_rows = FALSE,\n",
    "        show_row_names = TRUE,\n",
    "        show_column_names = FALSE\n",
    ")\n",
    "\n",
    "print(p)"
   ]
  },
  {
   "cell_type": "markdown",
   "metadata": {},
   "source": [
    "### FigS7b"
   ]
  },
  {
   "cell_type": "code",
   "execution_count": null,
   "metadata": {
    "vscode": {
     "languageId": "r"
    }
   },
   "outputs": [],
   "source": [
    "library(dplyr)\n",
    "library(EnhancedVolcano)"
   ]
  },
  {
   "cell_type": "code",
   "execution_count": null,
   "metadata": {
    "vscode": {
     "languageId": "r"
    }
   },
   "outputs": [],
   "source": [
    "results <- read.csv(\"./DEG_in_niche12.csv\")\n",
    "results$scores <- abs(results$scores)\n",
    "\n",
    "cut_off_score <- 50\n",
    "cut_off_logFC <- 0.8\n",
    "\n",
    "results$Sig = ifelse(results$scores > cut_off_score & \n",
    "                abs(results$logfoldchanges) >= cut_off_logFC, \n",
    "                ifelse(results$logfoldchanges> cut_off_logFC ,'Up','Down'),'None')"
   ]
  },
  {
   "cell_type": "code",
   "execution_count": null,
   "metadata": {
    "vscode": {
     "languageId": "r"
    }
   },
   "outputs": [],
   "source": [
    "label_genes <- c(\n",
    "                \"KRT5\",\"MUC1\",\"CYC1\",\"GPX3\",\"CD24\",\"CD47\",\"WNT7A\",\"MDK\",\"S100A6\",\"S100A10\",\"PRKCI\",\"LAMC1\",\"EIF3\",\n",
    "                \"TMSB10\",\"CRABP2\",\"LAPTM4B\",\"HOXB1\",\"CDH16\",\"HAND1\",\"IGFBP6\",\"SLC3A1\",\n",
    "                \"IL5RA\",\"ADAMTS18\",\"CDC20B\",\"CNMD\",\"FGL2\",\"SPARC\",\"CAV1\",\"CAP5\",\"TPPP3\",\"PIFO\",\"OVGP1\",\"CROCC2\"\n",
    "                )\n",
    "\n",
    "options(repr.plot.width = 13, repr.plot.height = 7)\n",
    "\n",
    "p <- ggplot(results, aes(x = logfoldchanges, y = scores, colour=Sig)) +\n",
    "  geom_point(alpha=0.8, size=2) +\n",
    "  scale_color_manual(values=c(\"#546de5\", \"#d2dae2\",\"#ff4757\"))+\n",
    "  geom_vline(xintercept=c(-cut_off_logFC,cut_off_logFC),lty=4,col=\"black\",lwd=0.4) +\n",
    "  geom_hline(yintercept = cut_off_score,\n",
    "             lty=4,col=\"black\",lwd=0.4) +\n",
    "  xlim(-4.5, 3.5) +\n",
    "  ylim(0, 500) +\n",
    "  labs(x=\"log2(Fold Change)\",\n",
    "       y=\"T score\")+\n",
    "  theme_bw()+\n",
    "  ggtitle(\"\")+\n",
    "  theme(plot.title = element_text(hjust = 0.5), \n",
    "        legend.position=\"right\", \n",
    "        legend.title = element_blank()\n",
    "  ) +\n",
    "  geom_text_repel(\n",
    "    aes(label = ifelse(names %in% label_genes, as.character(names), \"\")),\n",
    "    size = 4, \n",
    "    color = \"black\",\n",
    "    fontface = \"bold\",\n",
    "    box.padding = 0,\n",
    "    point.padding = 0,\n",
    "    segment.size = 0.5,\n",
    "    segment.color = \"gray50\",\n",
    "    segment.linetype = \"solid\",\n",
    "    segment.alpha = 0.8,\n",
    "    min.segment.length = 0,\n",
    "    max.overlaps = Inf,\n",
    "    force = 50,\n",
    "    force_pull = 5,\n",
    "    nudge_x = 0.2,\n",
    "    nudge_y = 0.2\n",
    "  )\n"
   ]
  },
  {
   "cell_type": "code",
   "execution_count": null,
   "metadata": {
    "vscode": {
     "languageId": "r"
    }
   },
   "outputs": [],
   "source": []
  }
 ],
 "metadata": {
  "kernelspec": {
   "display_name": "R",
   "language": "R",
   "name": "ir"
  },
  "language_info": {
   "name": "R"
  }
 },
 "nbformat": 4,
 "nbformat_minor": 2
}
