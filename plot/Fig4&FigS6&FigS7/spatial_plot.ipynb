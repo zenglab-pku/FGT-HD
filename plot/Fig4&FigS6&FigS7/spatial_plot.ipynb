{
 "cells": [
  {
   "cell_type": "markdown",
   "metadata": {},
   "source": [
    "### Figure 4f"
   ]
  },
  {
   "cell_type": "code",
   "execution_count": null,
   "metadata": {},
   "outputs": [],
   "source": [
    "import pandas as pd\n",
    "import scanpy as sc\n",
    "import matplotlib.pyplot as plt\n",
    "from matplotlib.colors import LinearSegmentedColormap\n",
    "import gc"
   ]
  },
  {
   "cell_type": "markdown",
   "metadata": {},
   "source": [
    "##### spatial clustering"
   ]
  },
  {
   "cell_type": "code",
   "execution_count": null,
   "metadata": {},
   "outputs": [],
   "source": [
    "custom_colors = [\n",
    "    '#ffd700', '#4d80e6', '#cccc4d', '#006374', '#1c9755',\n",
    "    '#f5616f', '#afeeee', '#7ab8cc', '#cca3cc', '#2f7fc1',\n",
    "    '#79b9f2', '#0d5886', '#082567', '#dcdcdc', '#d3d3d3',\n",
    "    '#7dcc7d', '#00bfff', '#87ceeb', '#fa8072', '#48d1cc',\n",
    "    '#469594'\n",
    "]\n",
    "keys = [int(i) for i in range(21)]\n",
    "colors_dict = dict(zip(keys, custom_colors))\n",
    "\n",
    "adata_HGSOC = sc.read_h5ad(\"./clustered_adata_8um\")\n",
    "adata_HGSOC.obs['in_tissue'] = adata_HGSOC.obs['in_tissue'].astype(float)\n",
    "adata_HGSOC.obs['array_row'] = adata_HGSOC.obs['array_row'].astype(float)\n",
    "adata_HGSOC.obs['array_col'] = adata_HGSOC.obs['array_col'].astype(float)\n",
    "adata_HGSOC.obsm['spatial'] = adata_HGSOC.obsm['spatial'].astype(float)\n",
    "all_sample_id = list(adata_HGSOC.obs[\"sample\"].unique())\n",
    "\n",
    "for sample_id in all_sample_id:\n",
    "\n",
    "    adata = adata_HGSOC[adata_HGSOC.obs[\"sample\"]==sample_id].copy()\n",
    "\n",
    "    all_categories = adata.obs['cluster_cellcharter'].cat.categories\n",
    "    adata.uns['cluster_cellcharter_colors'] = [colors_dict[cat] for cat in all_categories]\n",
    "\n",
    "    sc.pl.spatial(adata, color=['cluster_cellcharter'], size=1.4, img=None, img_key=None, show=False)\n",
    "    plt.show()\n"
   ]
  },
  {
   "cell_type": "code",
   "execution_count": null,
   "metadata": {},
   "outputs": [],
   "source": []
  }
 ],
 "metadata": {
  "language_info": {
   "name": "python"
  }
 },
 "nbformat": 4,
 "nbformat_minor": 2
}
