{
 "cells": [
  {
   "cell_type": "markdown",
   "id": "63c6ed43",
   "metadata": {},
   "source": [
    "### Fig4i"
   ]
  },
  {
   "cell_type": "code",
   "execution_count": null,
   "id": "826ef24a-68df-47e0-af26-60843115ef6d",
   "metadata": {
    "execution": {
     "iopub.execute_input": "2025-07-03T05:09:16.812382Z",
     "iopub.status.busy": "2025-07-03T05:09:16.805040Z",
     "iopub.status.idle": "2025-07-03T05:09:29.131721Z",
     "shell.execute_reply": "2025-07-03T05:09:29.130232Z"
    },
    "scrolled": true,
    "vscode": {
     "languageId": "r"
    }
   },
   "outputs": [],
   "source": [
    "library(RColorBrewer)\n",
    "library(viridis)\n",
    "suppressMessages(library(ggplot2))\n",
    "suppressMessages(library(ggpubr))\n",
    "suppressMessages(library(dplyr))\n",
    "library(ComplexHeatmap)\n",
    "library(scales)"
   ]
  },
  {
   "cell_type": "code",
   "execution_count": 7,
   "id": "5118d188-4636-4c68-80a2-c6dccb12c886",
   "metadata": {
    "execution": {
     "iopub.execute_input": "2025-07-03T05:10:31.311030Z",
     "iopub.status.busy": "2025-07-03T05:10:31.307074Z",
     "iopub.status.idle": "2025-07-03T05:10:31.343443Z",
     "shell.execute_reply": "2025-07-03T05:10:31.340332Z"
    },
    "vscode": {
     "languageId": "r"
    }
   },
   "outputs": [],
   "source": [
    "grouped_mean_df <- read.csv(\"./mean_MP_score_by_niche.csv\",row.names=1, check.names=FALSE)\n",
    "grouped_mean_df <- grouped_mean_df[1:24,]"
   ]
  },
  {
   "cell_type": "code",
   "execution_count": 9,
   "id": "156951ab-f956-429e-b4a4-29ab2ddf1f56",
   "metadata": {
    "execution": {
     "iopub.execute_input": "2025-07-03T05:12:09.045341Z",
     "iopub.status.busy": "2025-07-03T05:12:09.041465Z",
     "iopub.status.idle": "2025-07-03T05:12:09.072395Z",
     "shell.execute_reply": "2025-07-03T05:12:09.069049Z"
    },
    "vscode": {
     "languageId": "r"
    }
   },
   "outputs": [],
   "source": [
    "grouped_mean_df <- t(grouped_mean_df)"
   ]
  },
  {
   "cell_type": "code",
   "execution_count": null,
   "id": "4fc8b408-a6b8-49c5-a418-34b9eae72487",
   "metadata": {
    "execution": {
     "iopub.execute_input": "2025-07-03T05:15:55.015681Z",
     "iopub.status.busy": "2025-07-03T05:15:55.012510Z",
     "iopub.status.idle": "2025-07-03T05:15:55.338157Z",
     "shell.execute_reply": "2025-07-03T05:15:55.336947Z"
    },
    "vscode": {
     "languageId": "r"
    }
   },
   "outputs": [],
   "source": [
    "grouped_mean_df <- as.matrix(grouped_mean_df)\n",
    "grouped_mean_df_scaled <- scale(grouped_mean_df, center = TRUE, scale = TRUE)\n",
    "\n",
    "p <- Heatmap(\n",
    "  grouped_mean_df_scaled,\n",
    "  cluster_rows = TRUE,\n",
    "  cluster_columns = FALSE,\n",
    "  col = colorRamp2(c(-2, 0, 2), c(\"#483d8b\", \"white\", \"#dc143c\")),\n",
    "  column_names_rot = 90,\n",
    "  row_names_side = \"left\"\n",
    ")\n"
   ]
  },
  {
   "cell_type": "code",
   "execution_count": null,
   "id": "805a8458",
   "metadata": {
    "vscode": {
     "languageId": "r"
    }
   },
   "outputs": [],
   "source": []
  }
 ],
 "metadata": {
  "kernelspec": {
   "display_name": "R",
   "language": "R",
   "name": "ir"
  },
  "language_info": {
   "codemirror_mode": "r",
   "file_extension": ".r",
   "mimetype": "text/x-r-source",
   "name": "R",
   "pygments_lexer": "r",
   "version": "4.3.3"
  }
 },
 "nbformat": 4,
 "nbformat_minor": 5
}
