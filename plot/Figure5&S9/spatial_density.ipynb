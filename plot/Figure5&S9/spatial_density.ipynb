{
 "cells": [
  {
   "cell_type": "markdown",
   "metadata": {},
   "source": [
    "### Figures 5e, 5f, S9c"
   ]
  },
  {
   "cell_type": "code",
   "execution_count": null,
   "metadata": {},
   "outputs": [],
   "source": [
    "import warnings\n",
    "import matplotlib.pyplot as plt\n",
    "import pandas as pd\n",
    "import scanpy as sc\n",
    "import seaborn as sns\n",
    "import os\n",
    "warnings.filterwarnings(\"ignore\", category=FutureWarning)\n",
    "warnings.filterwarnings(\"ignore\", category=UserWarning)"
   ]
  },
  {
   "cell_type": "code",
   "execution_count": null,
   "metadata": {},
   "outputs": [],
   "source": [
    "sample_list = pd.read_csv(\"HD-OV 100.csv\", index_col=False)"
   ]
  },
  {
   "cell_type": "code",
   "execution_count": null,
   "metadata": {},
   "outputs": [],
   "source": [
    "sample_id = \"S43\"\n",
    "file_path = sample_list[sample_list[\"sample_id\"]==sample_id][\"path\"]"
   ]
  },
  {
   "cell_type": "code",
   "execution_count": null,
   "metadata": {},
   "outputs": [],
   "source": [
    "adata = sc.read_h5ad(f\"{file_path}/outs/adata_anno.h5ad\")\n",
    "adata.obs['in_tissue'] = adata.obs['in_tissue'].astype(float)\n",
    "adata.obs['array_row'] = adata.obs['array_row'].astype(float)\n",
    "adata.obs['array_col'] = adata.obs['array_col'].astype(float)\n",
    "adata.obsm['spatial'] = adata.obsm['spatial'].astype(float)\n",
    "adata.layers[\"counts\"] = adata.X.copy()\n",
    "\n",
    "sc.pp.normalize_total(adata, target_sum=1e4)\n",
    "sc.pp.log1p(adata)"
   ]
  },
  {
   "cell_type": "code",
   "execution_count": null,
   "metadata": {},
   "outputs": [],
   "source": [
    "SIRPA_expr = adata[:, \"SIRPA\"].X\n",
    "SIRPA_expr = SIRPA_expr.toarray().flatten()\n",
    "adata.obs['SIRPA_expression'] = SIRPA_expr\n",
    "obs = adata.obs\n",
    "obs[\"x\"] = -obs[\"array_col\"]\n",
    "obs[\"y\"] = -obs[\"array_row\"]\n",
    "plt.figure(figsize=(8, 8))\n",
    "sns.kdeplot(data=obs, x='x', y='y', weights='SIRPA_expression', fill=True)\n",
    "plt.title('Gene Expression Density Plot')\n",
    "plt.xlabel('X Coordinate')\n",
    "plt.ylabel('Y Coordinate')\n",
    "plt.show()\n"
   ]
  },
  {
   "cell_type": "code",
   "execution_count": null,
   "metadata": {},
   "outputs": [],
   "source": []
  }
 ],
 "metadata": {
  "language_info": {
   "name": "python"
  }
 },
 "nbformat": 4,
 "nbformat_minor": 2
}
