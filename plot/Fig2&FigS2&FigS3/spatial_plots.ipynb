{
 "cells": [
  {
   "cell_type": "markdown",
   "metadata": {},
   "source": [
    "### Fig2h,i FigS3f,g"
   ]
  },
  {
   "cell_type": "code",
   "execution_count": null,
   "metadata": {},
   "outputs": [],
   "source": [
    "import numpy as np\n",
    "import pandas as pd\n",
    "import scanpy as sc\n",
    "import squidpy as sq\n",
    "\n",
    "import matplotlib.pyplot as plt\n",
    "from matplotlib.colors import LinearSegmentedColormap\n",
    "from matplotlib.colors import ListedColormap\n",
    "import os\n",
    "\n",
    "import warnings\n",
    "warnings.filterwarnings(\"ignore\", category=FutureWarning)\n",
    "warnings.filterwarnings(\"ignore\", category=UserWarning)"
   ]
  },
  {
   "cell_type": "code",
   "execution_count": null,
   "metadata": {},
   "outputs": [],
   "source": [
    "colors = [\"#112b7e\", \"#4bc2c4\", \"#00b514\", \"#fde81f\",\"#8a1918\"]\n",
    "cmap = LinearSegmentedColormap.from_list(\"custom_cmap\", colors)"
   ]
  },
  {
   "cell_type": "code",
   "execution_count": null,
   "metadata": {},
   "outputs": [],
   "source": [
    "HPV_infected = [\"S08\",\"S13\"]\n",
    "HPV_non_infected = [\"S44\",\"S64\"]\n",
    "sample_list = HPV_infected + HPV_non_infected\n"
   ]
  },
  {
   "cell_type": "code",
   "execution_count": null,
   "metadata": {},
   "outputs": [],
   "source": [
    "fibro_obs = pd.read_csv(\"/fibro_obs_wt_score.csv\",index_col=0)\n"
   ]
  },
  {
   "cell_type": "code",
   "execution_count": null,
   "metadata": {},
   "outputs": [],
   "source": [
    "for sample in sample_list:\n",
    "    adata_path = os.path.join('./counts', sample, 'adata_8um.h5ad')\n",
    "    if os.path.exists(adata_path):\n",
    "        adata = sc.read_h5ad(adata_path)\n",
    "    else:\n",
    "        print(f\"Neither primary nor backup files exist for sample {sample}.\")\n",
    "    \n",
    "    adata.obs['in_tissue'] = adata.obs['in_tissue'].astype(float)\n",
    "    adata.obs['array_row'] = adata.obs['array_row'].astype(float)\n",
    "    adata.obs['array_col'] = adata.obs['array_col'].astype(float)\n",
    "    adata.obsm['spatial'] = adata.obsm['spatial'].astype(float)\n",
    "    \n",
    "    adata.obs[\"myCAFs_smoothed\"] = np.nan\n",
    "    sample_obs = fibro_obs[fibro_obs[\"sample\"]==sample].copy()\n",
    "    new_index = ['_'.join(index.split('_')[:-1]) for index in sample_obs.index]\n",
    "    sample_obs.index = new_index\n",
    "    adata.obs.loc[sample_obs.index, \"myCAFs_smoothed\"] = sample_obs[\"myCAFs_smoothed\"]\n",
    "\n",
    "    smooth_values = fibro_obs['myCAFs_smoothed'].dropna()\n",
    "    vmin = min(smooth_values)\n",
    "    vmax = max(smooth_values)\n",
    "\n",
    "    priority_adata = adata[adata.obs[\"myCAFs_smoothed\"].notna()]\n",
    "    other_adata = adata[adata.obs[\"myCAFs_smoothed\"].isna()]\n",
    "\n",
    "    fig, ax = plt.subplots(figsize=(8, 8))\n",
    "    sc.pl.spatial(\n",
    "        other_adata,\n",
    "        color=[\"myCAFs_smoothed\"],\n",
    "        size=1.4, cmap=ListedColormap(['#1c081f']),\n",
    "        colorbar_loc=None,\n",
    "        ax = ax, img=None, img_key=None,\n",
    "        show=False\n",
    "    )\n",
    "    sc.pl.spatial(\n",
    "        priority_adata,\n",
    "        color=[\"myCAFs_smoothed\"],\n",
    "        size=1.5, cmap=cmap, vmin=vmin, vmax=vmax,\n",
    "        ax = ax, img=None, img_key=None,\n",
    "        show=False\n",
    "    )\n",
    "\n",
    "    plt.savefig(f\"./myCAF/{sample}.png\", format=\"png\", dpi=600, bbox_inches='tight')\n",
    "    plt.close()\n",
    "    "
   ]
  },
  {
   "cell_type": "code",
   "execution_count": null,
   "metadata": {},
   "outputs": [],
   "source": []
  }
 ],
 "metadata": {
  "language_info": {
   "name": "python"
  }
 },
 "nbformat": 4,
 "nbformat_minor": 2
}
