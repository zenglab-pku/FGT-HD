{
 "cells": [
  {
   "cell_type": "markdown",
   "metadata": {},
   "source": [
    "## Fig 2b"
   ]
  },
  {
   "cell_type": "code",
   "execution_count": null,
   "metadata": {},
   "outputs": [],
   "source": [
    "library(tibble)\n",
    "library(enrichplot)\n",
    "library(RColorBrewer)\n",
    "library(ggplot2)\n",
    "library(ggpubr)\n",
    "library(dplyr)\n",
    "library(tidyverse)\n",
    "library(pheatmap)\n",
    "library(ComplexHeatmap)\n",
    "library(circlize)\n",
    "library(scales)"
   ]
  },
  {
   "cell_type": "code",
   "execution_count": null,
   "metadata": {},
   "outputs": [],
   "source": [
    "df <- read.csv(\"./compartment_composition_in_samples.csv\", row.names=1, check.names=FALSE)\n"
   ]
  },
  {
   "cell_type": "code",
   "execution_count": null,
   "metadata": {},
   "outputs": [],
   "source": [
    "mat <- as.matrix(df[, setdiff(colnames(df), c(\"Tumor_Type\", \"cluster\", \"immune_state\"))])\n",
    "mat_scaled <- scale(mat)\n",
    "\n",
    "meta_info <- df[, c(\"Tumor_Type\", \"cluster\", \"immune_state\")]\n",
    "meta_info$Sample <- rownames(df)\n",
    "\n",
    "\n",
    "ht <- Heatmap(\n",
    "  mat_scaled,\n",
    "  cluster_rows = FALSE,\n",
    "  cluster_columns = TRUE,\n",
    "  col = colorRamp2(c(-2, 0, 4), c(\"blue\", \"white\", \"red\")),\n",
    "  row_labels = row_labels,\n",
    "  row_names_gp = gpar(fontsize = 6),\n",
    "  row_names_side = \"right\"\n",
    ")\n"
   ]
  },
  {
   "cell_type": "code",
   "execution_count": null,
   "metadata": {},
   "outputs": [],
   "source": [
    "row_ordered_index <- row_order(ht)\n",
    "ordered_row_names <- rownames(mat_scaled)[row_ordered_index]\n"
   ]
  },
  {
   "cell_type": "code",
   "execution_count": null,
   "metadata": {},
   "outputs": [],
   "source": [
    "clinical_data <- read.csv(\"./HD100_clinical_info.csv\",row.names=1)\n",
    "clinical_data <- clinical_data[ordered_row_names,]\n",
    "clinical_data <- clinical_data[,c(\"Tumor_Type\",\"Tumor_SubType\",\"Age\",\"Recurrence_Status\",\"Tumor_Grade\",\"Tumor_Stage\",\"MSI_state\",\"CIN_score\",\"Neoadjuvant_Treatment\",\"cluster\")]\n",
    "\n",
    "clinical_data[is.na(clinical_data)] <- \"Unknown\"\n",
    "clinical_data[clinical_data==\"\"] <- \"Unknown\"\n",
    "\n",
    "age_color_fun <- colorRamp2(\n",
    "  breaks = c(min(clinical_data$Age), max(clinical_data$Age)),\n",
    "  colors = c(\"#ffdbe0\", \"#e32636\")\n",
    ")\n",
    "\n",
    "CIN_color_fun <- colorRamp2(\n",
    "  breaks = c(min(clinical_data$CIN_score), max(clinical_data$CIN_score)),\n",
    "  colors = c(\"#fee2d5\", \"#cc5500\")\n",
    ")\n",
    "\n",
    "top_annotations <- HeatmapAnnotation(\n",
    "  df = clinical_data,\n",
    "  col = list(\n",
    "    Tumor_Type = c(\"OC\" = \"#ab526a\", \"EC\" = \"#d68081\", \"CC\"=\"#2978b5\", 'Unknown' = \"#dcdcdc\"),\n",
    "    Tumor_SubType = c(\"Mucinous\" = \"#b1bcf4\", \"Serous\" = \"#65a56d\", \"Clear cell\" = \"#f4e88d\", \"Squ\"=\"#f85adb\", \"Ade\"=\"#a94684\", \"Ade-Squ\"=\"#ff1e16\", \"Endometrial\" = \"#eab768\", \"Sarcoma\" = \"#cf5b5d\",'Others' = \"#dcdcdc\"),\n",
    "    Age = age_color_fun,\n",
    "    Recurrence_Status = c(\"1\" = \"#785190\", \"0\" = \"#6f87bb\", 'Unknown' = \"#dcdcdc\"),\n",
    "    Tumor_Grade = c(\"1\" = \"#a1a5bf\", \"2\" = \"#656e96\", \"3\" = \"#475482\", 'Unknown' = \"#dcdcdc\"),\n",
    "    Tumor_Stage = c(\"I\" = \"#a6c692\", \"II\" = \"#92b17f\", \"III\" = \"#7e9d6b\", \"IV\" = \"#6b8959\", 'Unknown' = \"#dcdcdc\"),\n",
    "    MSI_state = c(\"MSI-low\" = \"#62b58f\", \"MSI-high\" = \"#e7cc5e\", 'Unknown' = \"#dcdcdc\"),\n",
    "    CIN_score = CIN_color_fun,\n",
    "    Neoadjuvant_Treatment = c(\"Pre-treatment\" = \"#20B2AA\", \"Chemotherapy\" = \"#E3C576\", \"Chemotherapy/Immune\" = \"#E5A76C\", \"Chemotherapy/Targeted\" = \"#D87558\", 'Unknown' = \"#dcdcdc\"),\n",
    "    cluster = c(\"1\" = \"#b1bcf4\", \"2\" = \"#65a56d\", \"3\" = \"#eab768\", '4' = \"#f4e88c\", '5' = \"#e73828\", '6' = \"#f6becd\")\n",
    "  ),\n",
    "  annotation_name_side = \"left\",\n",
    "  annotation_legend_param = list(\n",
    "    Tumor_Type = list(title = \"Purity\", title_gp = gpar(fontsize = 13)),\n",
    "    Tumor_SubType = list(title = \"Tumor_Type\", title_gp = gpar(fontsize = 13)),\n",
    "    Age = list(\n",
    "      title = \"Age\", \n",
    "      title_gp = gpar(fontsize = 13),\n",
    "      color_bar = \"continuous\"\n",
    "    ),\n",
    "    Recurrence_Status = list(title = \"Recurrence_Status\", title_gp = gpar(fontsize = 13)),\n",
    "    Tumor_Grade = list(title = \"Tumor_Grade\", title_gp = gpar(fontsize = 13)),\n",
    "    Tumor_Stage = list(title = \"Tumor_Stage\", title_gp = gpar(fontsize = 13)),\n",
    "    MSI_state = list(title = \"MSI_state\", title_gp = gpar(fontsize = 13)),\n",
    "    CIN_score = list(\n",
    "      title = \"CIN_score\", \n",
    "      title_gp = gpar(fontsize = 13),\n",
    "      color_bar = \"continuous\"\n",
    "    ),\n",
    "    Neoadjuvant_Treatment = list(title = \"Neoadjuvant_Treatment\", title_gp = gpar(fontsize = 13))\n",
    ")\n"
   ]
  },
  {
   "cell_type": "code",
   "execution_count": null,
   "metadata": {},
   "outputs": [],
   "source": [
    "heatmap_with_annotations <- Heatmap(matrix(nrow = 0, ncol = 100),  # 空矩阵\n",
    "                                    top_annotation = top_annotations,\n",
    "                                    show_row_names = FALSE,\n",
    "                                    show_column_names = FALSE)\n",
    "\n",
    "annotation <- draw(heatmap_with_annotations, annotation_legend_side = \"right\")\n"
   ]
  },
  {
   "cell_type": "code",
   "execution_count": null,
   "metadata": {},
   "outputs": [],
   "source": []
  }
 ],
 "metadata": {
  "language_info": {
   "name": "python"
  }
 },
 "nbformat": 4,
 "nbformat_minor": 2
}
