{
 "cells": [
  {
   "cell_type": "code",
   "execution_count": null,
   "metadata": {},
   "outputs": [],
   "source": [
    "library(CellChat)\n",
    "library(Matrix)\n",
    "library(patchwork)"
   ]
  },
  {
   "cell_type": "code",
   "execution_count": null,
   "metadata": {},
   "outputs": [],
   "source": [
    "expr_data <- readRDS(\"./negative_sc_adata_expr.rds\")\n",
    "log_expr_data <- log1p(expr_data)\n",
    "meta <- read.csv('./negative_sc_adata_meta.csv', row.names = 1, check.names=FALSE)\n",
    "cellchat_pos <- createCellChat(object = t(log_expr_data), meta = meta, group.by = 'Type')\n",
    "CellChatDB <- CellChatDB.human\n",
    "cellchat_pos@DB <- CellChatDB\n",
    "cellchat_pos <- subsetData(cellchat_pos)\n",
    "\n",
    "options(future.globals.maxSize = 10 * 1024^3)\n",
    "future::plan(\"multisession\", workers = 8)\n",
    "\n",
    "cellchat <- identifyOverExpressedGenes(cellchat_pos) # Use fast mode\n",
    "cellchat <- identifyOverExpressedInteractions(cellchat)\n",
    "cellchat <- computeCommunProb(cellchat, type='triMean', population.size = TRUE)\n",
    "cellchat <- filterCommunication(cellchat, min.cells = 10)\n",
    "cellchat <- computeCommunProbPathway(cellchat)\n",
    "cellchat <- aggregateNet(cellchat)\n",
    "\n",
    "saveRDS(cellchat,\"./negative_sc_cellchat.rds\")\n"
   ]
  },
  {
   "cell_type": "code",
   "execution_count": null,
   "metadata": {},
   "outputs": [],
   "source": [
    "expr_data <- readRDS(\"./positive_sc_adata_expr.rds\")\n",
    "log_expr_data <- log1p(expr_data)\n",
    "meta <- read.csv('./positive_sc_adata_meta.csv', row.names = 1, check.names=FALSE)\n",
    "cellchat_pos <- createCellChat(object = t(log_expr_data), meta = meta, group.by = 'Type')\n",
    "CellChatDB <- CellChatDB.human\n",
    "cellchat_pos@DB <- CellChatDB\n",
    "cellchat_pos <- subsetData(cellchat_pos)\n",
    "\n",
    "options(future.globals.maxSize = 10 * 1024^3)\n",
    "future::plan(\"multisession\", workers = 8)\n",
    "\n",
    "cellchat <- identifyOverExpressedGenes(cellchat_pos) # Use fast mode\n",
    "cellchat <- identifyOverExpressedInteractions(cellchat)\n",
    "cellchat <- computeCommunProb(cellchat, type='triMean', population.size = TRUE)\n",
    "cellchat <- filterCommunication(cellchat, min.cells = 10)\n",
    "cellchat <- computeCommunProbPathway(cellchat)\n",
    "cellchat <- aggregateNet(cellchat)\n",
    "\n",
    "saveRDS(cellchat,\"./positive_sc_cellchat.rds\")\n"
   ]
  },
  {
   "cell_type": "code",
   "execution_count": null,
   "metadata": {},
   "outputs": [],
   "source": [
    "cellchat.pos <- readRDS(\"./positive_sc_cellchat.rds\")\n",
    "cellchat.neg <- readRDS(\"./negative_sc_cellchat.rds\")\n",
    "object.list <- list(pos = cellchat.pos, neg = cellchat.neg)\n",
    "cellchat <- mergeCellChat(object.list, add.names = names(object.list))\n"
   ]
  },
  {
   "cell_type": "code",
   "execution_count": null,
   "metadata": {},
   "outputs": [],
   "source": [
    "### FigS3j\n",
    "\n",
    "source.types <- c(\"Epithelial\")   # 发出信号方\n",
    "target.types <- c(\"Fibroblast\",\"Myofibroblast\")   # 接收信号方\n",
    "\n",
    "gg1 <- rankNet(\n",
    "  cellchat,\n",
    "  mode = \"comparison\",\n",
    "  stacked = TRUE,\n",
    "  do.stat = TRUE,\n",
    "  sources.use = source.types,\n",
    "  targets.use = target.types\n",
    ")\n",
    "\n",
    "\n",
    "source.types <- c(\"Epithelial\")   # 发出信号方\n",
    "target.types <- c(\"T-cell\")   # 接收信号方\n",
    "\n",
    "gg2 <- rankNet(\n",
    "  cellchat,\n",
    "  mode = \"comparison\",\n",
    "  stacked = TRUE,\n",
    "  do.stat = TRUE,\n",
    "  sources.use = source.types,\n",
    "  targets.use = target.types\n",
    ")\n"
   ]
  },
  {
   "cell_type": "code",
   "execution_count": null,
   "metadata": {},
   "outputs": [],
   "source": [
    "### Fig2j\n",
    "\n",
    "pathways.show <- c(\"TGFb\") \n",
    "weight.max <- getMaxWeight(object.list, slot.name = c(\"netP\"), attribute = pathways.show) # control the edge weights across different datasets\n",
    "par(mfrow = c(1,2), xpd=TRUE)\n",
    "for (i in 1:length(object.list)) {\n",
    "  netVisual_aggregate(object.list[[i]], signaling = pathways.show, layout = \"circle\", edge.weight.max = weight.max[1], edge.width.max = 5, signaling.name = paste(pathways.show, names(object.list)[i]))\n",
    "}\n"
   ]
  },
  {
   "cell_type": "code",
   "execution_count": null,
   "metadata": {},
   "outputs": [],
   "source": [
    "### FigS2k\n",
    "\n",
    "pathways.show <- c(\"MHC-I\") \n",
    "weight.max <- getMaxWeight(object.list, slot.name = c(\"netP\"), attribute = pathways.show) # control the edge weights across different datasets\n",
    "par(mfrow = c(1,2), xpd=TRUE)\n",
    "for (i in 1:length(object.list)) {\n",
    "  netVisual_aggregate(object.list[[i]], signaling = pathways.show, layout = \"circle\", edge.weight.max = weight.max[1], edge.width.max = 5, signaling.name = paste(pathways.show, names(object.list)[i]))\n",
    "}"
   ]
  },
  {
   "cell_type": "code",
   "execution_count": null,
   "metadata": {},
   "outputs": [],
   "source": []
  }
 ],
 "metadata": {
  "language_info": {
   "name": "python"
  }
 },
 "nbformat": 4,
 "nbformat_minor": 2
}
