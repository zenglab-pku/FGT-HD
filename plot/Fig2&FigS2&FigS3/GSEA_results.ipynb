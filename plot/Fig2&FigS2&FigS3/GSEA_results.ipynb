{
 "cells": [
  {
   "cell_type": "code",
   "execution_count": null,
   "metadata": {},
   "outputs": [],
   "source": [
    "suppressMessages(library(ggplot2))\n",
    "suppressMessages(library(ggpubr))\n",
    "suppressMessages(library(dplyr))\n",
    "suppressMessages(library(clusterProfiler))\n",
    "suppressMessages(library(org.Hs.eg.db))\n",
    "suppressMessages(library(fgsea))\n",
    "suppressMessages(library(tidyverse))\n",
    "suppressMessages(library(pheatmap))"
   ]
  },
  {
   "cell_type": "markdown",
   "metadata": {},
   "source": [
    "### Fig2e"
   ]
  },
  {
   "cell_type": "code",
   "execution_count": null,
   "metadata": {},
   "outputs": [],
   "source": [
    "h_geneset <- read.gmt(\"./gsea_genesets.gmt\")\n"
   ]
  },
  {
   "cell_type": "code",
   "execution_count": null,
   "metadata": {},
   "outputs": [],
   "source": [
    "DEG_list <- read.csv(\"./group_infected_DEG.csv\", row.names=1)\n",
    "\n",
    "set.seed(123)\n",
    "\n",
    "df <- DEG_list$score\n",
    "names(df) <- rownames(DEG_list)\n",
    "df <- sort(df,decreasing=TRUE)\n",
    "\n",
    "results_GSEA <- GSEA(df, TERM2GENE = h_geneset, pvalueCutoff = 1, nPerm = 10000)\n",
    "GSEA_df <- as.data.frame(results_GSEA)\n"
   ]
  },
  {
   "cell_type": "code",
   "execution_count": null,
   "metadata": {},
   "outputs": [],
   "source": [
    "select_GSEA <- GSEA_df[c(\"HALLMARK_INTERFERON_ALPHA_RESPONSE\",\"HALLMARK_EPITHELIAL_MESENCHYMAL_TRANSITION\",\"REACTOME_COLLAGEN_FORMATION\",\"REACTOME_EXTRACELLULAR_MATRIX_ORGANIZATION\",\n",
    "          \"HALLMARK_INTERFERON_GAMMA_RESPONSE\",\"KEGG_ANTIGEN_PROCESSING_AND_PRESENTATION\",\n",
    "          \"HALLMARK_TGF_BETA_SIGNALING\",\"GOBP_DEFENSE_RESPONSE_TO_VIRUS\"),]\n",
    "\n",
    "gsea_sorted <- select_GSEA %>%\n",
    "  arrange(NES) %>%\n",
    "  mutate(ID = factor(ID, levels = ID))\n",
    "\n",
    "p <- ggplot(gsea_sorted, \n",
    "           aes(x = NES, \n",
    "               y = ID, \n",
    "               fill = qvalue)) +\n",
    "  geom_col(width = 0.7) +\n",
    "  labs(title = \"\",\n",
    "       x = \"Normalized Enrichment Score (NES)\",\n",
    "       y = \"\") +\n",
    "  theme_minimal()\n",
    "\n",
    "p1 <- p + scale_fill_gradient(\n",
    "  low = \"#e32636\",\n",
    "  high = \"#ffdfdb\",\n",
    "  name = \"q value\",\n",
    "  limits = c(0, 0.1)\n",
    ") +\n",
    "  theme(\n",
    "    panel.border = element_rect(color = \"black\", fill = NA, linewidth = 0.8),\n",
    "    axis.text.y = element_text(size = 10, face = \"bold\"),\n",
    "    legend.position = \"right\",\n",
    "    plot.title = element_text(hjust = 0.5, size = 14, face = \"bold\")\n",
    "  ) +\n",
    "  geom_vline(xintercept = 0, linetype = \"solid\", color = \"black\") +\n",
    "  xlim(-2.4, 2.4)\n"
   ]
  },
  {
   "cell_type": "markdown",
   "metadata": {},
   "source": [
    "### FigS3a"
   ]
  },
  {
   "cell_type": "code",
   "execution_count": null,
   "metadata": {},
   "outputs": [],
   "source": [
    "DEG_list <- read.csv(\"./group_CC_DEG.csv\", row.names=1)\n",
    "\n",
    "set.seed(123)\n",
    "\n",
    "df <- DEG_list$score\n",
    "names(df) <- rownames(DEG_list)\n",
    "df <- sort(df,decreasing=TRUE)\n",
    "\n",
    "results_GSEA <- GSEA(df, TERM2GENE = h_geneset, pvalueCutoff = 1, nPerm = 10000)\n",
    "GSEA_df <- as.data.frame(results_GSEA)\n"
   ]
  },
  {
   "cell_type": "code",
   "execution_count": null,
   "metadata": {},
   "outputs": [],
   "source": [
    "select_GSEA <- GSEA_df[c(\"KEGG_CELL_CYCLE\",\"REACTOME_APOPTOSIS\",\"HALLMARK_TNFA_SIGNALING_VIA_NFKB\",\"REACTOME_EXTRACELLULAR_MATRIX_ORGANIZATION\",\"HALLMARK_EPITHELIAL_MESENCHYMAL_TRANSITION\",\n",
    "          \"REACTOME_SIGNALING_BY_INTERLEUKINS\",\"HALLMARK_ANGIOGENESIS\",\"REACTOME_INTERFERON_GAMMA_SIGNALING\",\n",
    "          \"REACTOME_INTERFERON_SIGNALING\",\"HALLMARK_INFLAMMATORY_RESPONSE\",\"REACTOME_ANTIVIRAL_MECHANISM_BY_IFN_STIMULATED_GENES\",\n",
    "          \"KEGG_OXIDATIVE_PHOSPHORYLATION\"),]\n",
    "\n",
    "gsea_sorted <- select_GSEA %>%\n",
    "  arrange(NES) %>%\n",
    "  mutate(ID = factor(ID, levels = ID))\n",
    "\n",
    "p <- ggplot(gsea_sorted, \n",
    "           aes(x = NES, \n",
    "               y = ID, \n",
    "               fill = qvalue)) +\n",
    "  geom_col(width = 0.7) +\n",
    "  labs(title = \"\",\n",
    "       x = \"Normalized Enrichment Score (NES)\",\n",
    "       y = \"\") +\n",
    "  theme_minimal()\n",
    "\n",
    "p1 <- p + scale_fill_gradient(\n",
    "  low = \"#e32636\",\n",
    "  high = \"#ffdfdb\",\n",
    "  name = \"q value\",\n",
    "  limits = c(0, 0.1)\n",
    ") +\n",
    "  theme(\n",
    "    panel.border = element_rect(color = \"black\", fill = NA, linewidth = 0.8),\n",
    "    axis.text.y = element_text(size = 10, face = \"bold\"),\n",
    "    legend.position = \"right\",\n",
    "    plot.title = element_text(hjust = 0.5, size = 14, face = \"bold\")\n",
    "  ) +\n",
    "  geom_vline(xintercept = 0, linetype = \"solid\", color = \"black\") +\n",
    "  xlim(-2.4, 2.4)\n"
   ]
  },
  {
   "cell_type": "code",
   "execution_count": null,
   "metadata": {},
   "outputs": [],
   "source": []
  }
 ],
 "metadata": {
  "language_info": {
   "name": "python"
  }
 },
 "nbformat": 4,
 "nbformat_minor": 2
}
