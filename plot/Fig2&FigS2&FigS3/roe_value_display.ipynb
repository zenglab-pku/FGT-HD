{
 "cells": [
  {
   "cell_type": "markdown",
   "metadata": {},
   "source": [
    "## FigS2b"
   ]
  },
  {
   "cell_type": "code",
   "execution_count": null,
   "metadata": {},
   "outputs": [],
   "source": [
    "df <- read.csv(\"./niche_celltype_roe.csv\",row.names=1)\n"
   ]
  },
  {
   "cell_type": "code",
   "execution_count": null,
   "metadata": {},
   "outputs": [],
   "source": [
    "my_palette <- colorRamp2(c(0, 1, 3.2), c(\"#8d68f1\", \"#ffffff\", \"#f2533e\"))\n",
    "\n",
    "ht_list <- Heatmap(\n",
    "  df,\n",
    "  name = \"Ro/e\",\n",
    "  col = my_palette,\n",
    "  cluster_rows = FALSE,\n",
    "  cluster_columns = TRUE,\n",
    "  column_title = NULL,\n",
    "  row_title = NULL,\n",
    "  row_names_gp = gpar(fontsize = 12),\n",
    "  column_names_rot = 30,\n",
    "  # cell_fun = function(j, i, x, y, width, height, fill) {\n",
    "  #   grid.text(sprintf(\"%.2f\", df[i, j]), x, y, gp = gpar(fontsize = 10))\n",
    "  # },\n",
    "  cell_fun = function(j, i, x, y, width, height, fill) {\n",
    "    value <- df[i, j]\n",
    "    if (value > 3) {\n",
    "      label <- \"+++\"\n",
    "    } else if (value >= 2) {\n",
    "      label <- \"++\"\n",
    "    } else if (value >= 1.2) {\n",
    "      label <- \"+\"\n",
    "    } else if (value >= 0.8) {\n",
    "      label <- \"+/-\"\n",
    "    } else if (value < 0.8) {\n",
    "      label <- \"-\"\n",
    "    } else {\n",
    "      label <- NA\n",
    "    }\n",
    "    grid.text(label, x, y, gp = gpar(fontsize = 10))\n",
    "  }\n",
    ")\n"
   ]
  },
  {
   "cell_type": "markdown",
   "metadata": {},
   "source": [
    "## Fig2c"
   ]
  },
  {
   "cell_type": "code",
   "execution_count": null,
   "metadata": {},
   "outputs": [],
   "source": [
    "calculate_roe <- function(mat) {\n",
    "  mat <- as.matrix(mat)\n",
    "  row_sums <- rowSums(mat)\n",
    "  col_sums <- colSums(mat)\n",
    "  total <- sum(mat)\n",
    "  expected <- outer(row_sums, col_sums) / total\n",
    "  roe <- mat / expected\n",
    "  dimnames(roe) <- dimnames(mat)\n",
    "  roe[is.na(roe)] <- 0\n",
    "  return(roe)\n",
    "}"
   ]
  },
  {
   "cell_type": "code",
   "execution_count": null,
   "metadata": {},
   "outputs": [],
   "source": [
    "clinical_data <- read.csv(\"./HD100_clinical_info.csv\",row.names=1)\n",
    "clinical_data$Tumor_SubType <- factor(clinical_data$Tumor_SubType,levels=c(\"Mucinous\",\"Serous\",\"Clear cell\",\"Adenocarcinoma\",\"Adenosquamous\",\"Squamous\",\"Endometrioid\",\"Sarcoma\",\"Others\"))\n",
    "clinical_data$Tumor_Type <- factor(clinical_data$Tumor_Type,levels=c(\"OC\",\"EC\",\"CC\"))\n",
    "clinical_data <- clinical_data[order(clinical_data$cluster, clinical_data$Tumor_Type, clinical_data$Tumor_SubType), ]\n"
   ]
  },
  {
   "cell_type": "code",
   "execution_count": null,
   "metadata": {},
   "outputs": [],
   "source": [
    "df <- as.data.frame.matrix(table(clinical_data$mole_cluster,clinical_data$sp_subtype))\n",
    "cluster_enrichment <- calculate_roe(df)\n",
    "cluster_enrichment <- cluster_enrichment[,c(\"Tumor-dominant\",\"Immune-margin restricted\",\"Necrotic\",\"Angio-fibrotic\",\"Immune-stromal\",\"Lymphoid-dominant\")]\n"
   ]
  },
  {
   "cell_type": "code",
   "execution_count": null,
   "metadata": {},
   "outputs": [],
   "source": [
    "my_palette <- colorRamp2(c(0, 1, 2), c(\"#8d68f1\", \"#ffffff\", \"#f2533e\"))\n",
    "\n",
    "ht_list <- Heatmap(\n",
    "  cluster_enrichment,\n",
    "  name = \"Ro/e\",\n",
    "  col = my_palette,\n",
    "  cluster_rows = FALSE,\n",
    "  cluster_columns = FALSE,\n",
    "  column_title = NULL,\n",
    "  row_title = NULL,\n",
    "  row_names_gp = gpar(fontsize = 12),\n",
    "  column_names_rot = 90,\n",
    "  # cell_fun = function(j, i, x, y, width, height, fill) {\n",
    "  #   grid.text(sprintf(\"%.2f\", immune_cluster_enrichment[i, j]), x, y, gp = gpar(fontsize = 13))\n",
    "  # }\n",
    "  cell_fun = function(j, i, x, y, width, height, fill) {\n",
    "    value <- cluster_enrichment[i, j]\n",
    "    if (value > 3) {\n",
    "      label <- \"+++\"\n",
    "    } else if (value >= 2) {\n",
    "      label <- \"++\"\n",
    "    } else if (value >= 1.2) {\n",
    "      label <- \"+\"\n",
    "    } else if (value >= 0.8) {\n",
    "      label <- \"+/-\"\n",
    "    } else if (value < 0.8) {\n",
    "      label <- \"-\"\n",
    "    } else {\n",
    "      label <- NA\n",
    "    }\n",
    "    grid.text(label, x, y, gp = gpar(fontsize = 10))\n",
    "  }\n",
    ")\n"
   ]
  },
  {
   "cell_type": "code",
   "execution_count": null,
   "metadata": {},
   "outputs": [],
   "source": []
  }
 ],
 "metadata": {
  "language_info": {
   "name": "python"
  }
 },
 "nbformat": 4,
 "nbformat_minor": 2
}
