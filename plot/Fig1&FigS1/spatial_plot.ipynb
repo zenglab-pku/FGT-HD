{
 "cells": [
  {
   "cell_type": "markdown",
   "metadata": {},
   "source": [
    "### Figures 1d, 1e, s1a-s1g"
   ]
  },
  {
   "cell_type": "code",
   "execution_count": null,
   "metadata": {},
   "outputs": [],
   "source": [
    "import warnings\n",
    "import matplotlib.pyplot as plt\n",
    "import pandas as pd\n",
    "import scanpy as sc\n",
    "import os\n",
    "from matplotlib.colors import LinearSegmentedColormap\n",
    "warnings.filterwarnings(\"ignore\", category=FutureWarning)\n",
    "warnings.filterwarnings(\"ignore\", category=UserWarning)\n",
    "sc.settings.verbosity = 3\n"
   ]
  },
  {
   "cell_type": "markdown",
   "metadata": {},
   "source": [
    "#### annotations"
   ]
  },
  {
   "cell_type": "code",
   "execution_count": null,
   "metadata": {},
   "outputs": [],
   "source": [
    "colors_dict = {\n",
    "        'NK': '#CDCE6B',\n",
    "        'T':'#FFFF99',\n",
    "        'B':'#00CC99',\n",
    "        'Neutrophil':'#3366CC',\n",
    "        'Macrophage':'#990066',\n",
    "        'DC':'#FF9999',\n",
    "        'Endothelial': '#FF3366',\n",
    "        'Fibroblast': '#008080',\n",
    "        'Mast':'#6699FF',\n",
    "        'Epithelial': '#0D5886',\n",
    "        'Others': 'lightgray'\n",
    "}"
   ]
  },
  {
   "cell_type": "code",
   "execution_count": null,
   "metadata": {},
   "outputs": [],
   "source": [
    "sample_id = \"S54\"\n",
    "h5ad_name = \"adata_anno.h5ad\"\n",
    "\n",
    "adata = sc.read_h5ad(os.path.join(sample_id,h5ad_name))\n",
    "adata.obs['in_tissue'] = adata.obs['in_tissue'].astype(float)\n",
    "adata.obs['array_row'] = adata.obs['array_row'].astype(float)\n",
    "adata.obs['array_col'] = adata.obs['array_col'].astype(float)\n",
    "adata.obsm['spatial'] = adata.obsm['spatial'].astype(float)\n",
    "order = ['NK', 'T', 'B', 'DC', 'Mast', 'Neutrophil', 'Macrophage', 'Endothelial',  'Fibroblast', 'Epithelial', 'Others']\n",
    "adata.obs['annotations'] = pd.Categorical(adata.obs['annotations'], categories=order, ordered=True)\n",
    "\n",
    "all_categories = adata.obs['annotations'].cat.categories\n",
    "colors_dict = {cat: colors_dict[cat] if cat in colors_dict else 'lightgray' for cat in all_categories}\n",
    "adata.uns['annotations_colors'] = [colors_dict[cat] for cat in all_categories]\n",
    "\n",
    "sc.pl.spatial(adata, img=None, img_key = None, color=[\"annotations\"], size=1.4)\n",
    "plt.show()"
   ]
  },
  {
   "cell_type": "markdown",
   "metadata": {},
   "source": [
    "#### feature counts"
   ]
  },
  {
   "cell_type": "code",
   "execution_count": null,
   "metadata": {},
   "outputs": [],
   "source": [
    "colors = [\"#483d8b\", \"#ccff00\", \"#800000\"]\n",
    "positions = [0.0, 0.5, 1.0]\n",
    "cmap = LinearSegmentedColormap.from_list(\"custom_cmap\", list(zip(positions, colors)))"
   ]
  },
  {
   "cell_type": "code",
   "execution_count": null,
   "metadata": {},
   "outputs": [],
   "source": [
    "sample_id = \"S54\"\n",
    "h5ad_name = \"adata_anno.h5ad\"\n",
    "\n",
    "adata = sc.read_h5ad(os.path.join(sample_id,h5ad_name))\n",
    "adata.obs['in_tissue'] = adata.obs['in_tissue'].astype(float)\n",
    "adata.obs['array_row'] = adata.obs['array_row'].astype(float)\n",
    "adata.obs['array_col'] = adata.obs['array_col'].astype(float)\n",
    "adata.obsm['spatial'] = adata.obsm['spatial'].astype(float)\n",
    "\n",
    "adata.var[\"mt\"] = adata.var_names.str.startswith(\"MT-\")\n",
    "sc.pp.calculate_qc_metrics(\n",
    "    adata, qc_vars=[\"mt\"], percent_top=None, log1p=False, inplace=True\n",
    ")\n",
    "\n",
    "sc.pl.spatial(adata, color=['n_genes'], cmap=cmap, size=1.4, img=None, img_key = None)\n",
    "plt.show()"
   ]
  },
  {
   "cell_type": "markdown",
   "metadata": {},
   "source": [
    "#### gene expression level"
   ]
  },
  {
   "cell_type": "code",
   "execution_count": null,
   "metadata": {},
   "outputs": [],
   "source": [
    "colors = [\"#410052\", \"#1a918d\",\"#fde81f\" ]\n",
    "cmap = LinearSegmentedColormap.from_list(\"custom_cmap\", colors)"
   ]
  },
  {
   "cell_type": "code",
   "execution_count": null,
   "metadata": {},
   "outputs": [],
   "source": [
    "sample_id = \"S2\"\n",
    "h5ad_name = \"adata_anno.h5ad\"\n",
    "\n",
    "adata = sc.read_h5ad(os.path.join(sample_id,h5ad_name))\n",
    "adata.obs['in_tissue'] = adata.obs['in_tissue'].astype(float)\n",
    "adata.obs['array_row'] = adata.obs['array_row'].astype(float)\n",
    "adata.obs['array_col'] = adata.obs['array_col'].astype(float)\n",
    "adata.obsm['spatial'] = adata.obsm['spatial'].astype(float)\n",
    "\n",
    "sc.pl.spatial(adata, color=['EPCAM'], cmap=cmap, vmin=0, vmax=5, size=1.4, img=None, img_key = None)\n",
    "plt.show()"
   ]
  },
  {
   "cell_type": "code",
   "execution_count": null,
   "metadata": {},
   "outputs": [],
   "source": []
  }
 ],
 "metadata": {
  "language_info": {
   "name": "python"
  }
 },
 "nbformat": 4,
 "nbformat_minor": 2
}
