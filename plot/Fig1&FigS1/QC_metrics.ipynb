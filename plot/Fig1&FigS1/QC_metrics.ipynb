{
 "cells": [
  {
   "cell_type": "markdown",
   "metadata": {},
   "source": [
    "### figure S1i"
   ]
  },
  {
   "cell_type": "code",
   "execution_count": null,
   "metadata": {},
   "outputs": [],
   "source": [
    "import seaborn as sns\n",
    "import matplotlib.pyplot as plt\n",
    "import pandas as pd\n",
    "import adata as ad\n",
    "import scanpy as sc"
   ]
  },
  {
   "cell_type": "code",
   "execution_count": null,
   "metadata": {},
   "outputs": [],
   "source": [
    "sample_list = pd.read_csv(\"HD-OV 100.csv\")"
   ]
  },
  {
   "cell_type": "code",
   "execution_count": null,
   "metadata": {},
   "outputs": [],
   "source": [
    "adata_list = []\n",
    "\n",
    "for index, row in sample_list.iterrows():\n",
    "    sample = row['sample_id']\n",
    "    file_path = row['path']\n",
    "    subtype = row['subtype']\n",
    "\n",
    "    adata = sc.read_h5ad(f\"{file_path}/outs/adata_8um.h5ad\")\n",
    "    adata.obs['in_tissue'] = adata.obs['in_tissue'].astype(float)\n",
    "    adata.obs['array_row'] = adata.obs['array_row'].astype(float)\n",
    "    adata.obs['array_col'] = adata.obs['array_col'].astype(float)\n",
    "    adata.obsm['spatial'] = adata.obsm['spatial'].astype(float)\n",
    "\n",
    "    adata_list.append(adata)\n"
   ]
  },
  {
   "cell_type": "code",
   "execution_count": null,
   "metadata": {},
   "outputs": [],
   "source": [
    "adata_merged = ad.concat(adata_list, axis=0, merge='same', pairwise=True)\n",
    "adata_merged.var[\"mt\"] = adata_merged.var_names.str.startswith(\"MT-\")\n",
    "sc.pp.calculate_qc_metrics(\n",
    "    adata_merged, qc_vars=[\"mt\"], percent_top=None, log1p=False, inplace=True\n",
    ")\n",
    "obs = adata_merged.obs\n"
   ]
  },
  {
   "cell_type": "code",
   "execution_count": null,
   "metadata": {},
   "outputs": [],
   "source": [
    "palette = {\n",
    "        'NK': '#CDCE6B',\n",
    "        'T':'#FFFF99',\n",
    "        'B':'#00CC99',\n",
    "        'DC':'#FF9999',\n",
    "        'Mast':'#6699FF',\n",
    "        'Neutrophil':'#3366CC',\n",
    "        'Macrophage':'#990066',\n",
    "        'Endothelial': '#FF3366',\n",
    "        'Fibroblast': '#008080',\n",
    "        'Malignant': '#0D5886',\n",
    "        'Others': 'lightgray'\n",
    "}\n",
    "\n",
    "order = ['NK', 'T', 'B', 'DC', 'Mast', 'Neutrophil', 'Macrophage', 'Endothelial',  'Fibroblast', 'Malignant', 'Others']\n",
    "obs['annotations'] = pd.Categorical(obs['annotations'], categories=order, ordered=True)\n"
   ]
  },
  {
   "cell_type": "code",
   "execution_count": null,
   "metadata": {},
   "outputs": [],
   "source": [
    "sns.violinplot(x='annotations', y='pct_counts_mt', data=obs, palette=palette, inner=None, order=order)\n",
    "\n",
    "plt.xlabel('Cell Type')\n",
    "plt.ylabel('Percent mtDNA')\n",
    "plt.xticks(rotation=30, ha='right')\n",
    "plt.show()"
   ]
  },
  {
   "cell_type": "code",
   "execution_count": null,
   "metadata": {},
   "outputs": [],
   "source": [
    "sns.violinplot(x='annotations', y='n_genes', data=obs, palette=palette, inner=None, order=order)\n",
    "\n",
    "plt.xlabel('Cell Type')\n",
    "plt.ylabel('nFeature_RNA')\n",
    "plt.xticks(rotation=30, ha='right')\n",
    "plt.show()"
   ]
  },
  {
   "cell_type": "code",
   "execution_count": null,
   "metadata": {},
   "outputs": [],
   "source": [
    "sns.violinplot(x='annotations', y='total_counts', data=obs, palette=palette, inner=None, order=order)\n",
    "\n",
    "plt.xlabel('Cell Type')\n",
    "plt.ylabel('nCount_RNA')\n",
    "plt.xticks(rotation=30, ha='right')\n",
    "plt.show()\n"
   ]
  },
  {
   "cell_type": "code",
   "execution_count": null,
   "metadata": {},
   "outputs": [],
   "source": []
  }
 ],
 "metadata": {
  "language_info": {
   "name": "python"
  }
 },
 "nbformat": 4,
 "nbformat_minor": 2
}
