{
 "cells": [
  {
   "cell_type": "code",
   "execution_count": null,
   "metadata": {
    "vscode": {
     "languageId": "r"
    }
   },
   "outputs": [],
   "source": [
    "library(tidyr)\n",
    "library(dplyr)\n",
    "library(ggplot2)\n",
    "library(grid)\n",
    "library(tibble)\n",
    "library(tximport)\n",
    "library(enrichplot)\n",
    "library(RColorBrewer)"
   ]
  },
  {
   "cell_type": "markdown",
   "metadata": {},
   "source": [
    "### figure 1f"
   ]
  },
  {
   "cell_type": "code",
   "execution_count": null,
   "metadata": {
    "vscode": {
     "languageId": "r"
    }
   },
   "outputs": [],
   "source": [
    "proportion <- read.csv(\"./100samples_proportion.csv\",header=1,row.names=1)\n"
   ]
  },
  {
   "cell_type": "code",
   "execution_count": null,
   "metadata": {
    "vscode": {
     "languageId": "r"
    }
   },
   "outputs": [],
   "source": [
    "proportion_df <- as.data.frame(proportion)\n",
    "\n",
    "proportion_df$CellType <- rownames(proportion_df)\n",
    "proportion_df$CellType <- factor(proportion_df$CellType, level=c('Malignant', 'Fibroblast', 'NK', 'T', 'B', 'Neutrophil', 'Macrophage', 'DC', 'Mast', 'Endothelial', 'Others'))\n",
    "\n",
    "proportion_long_data <- pivot_longer(proportion_df, \n",
    "                          cols = -CellType, \n",
    "                          names_to = \"Sample\", \n",
    "                          values_to = \"Proportion\")\n",
    "proportion_long_data$Sample <- factor(proportion_long_data$Sample, levels = colnames(proportion_df))\n",
    "proportion_long_data <- proportion_long_data %>%\n",
    "  arrange(Sample)\n",
    "\n",
    "colors <- c(\"NK\"=\"#CDCE6B\", \"T\"=\"#FFFF99\", \"B\"=\"#00CC99\", \"Neutrophil\"=\"#3366CC\", \"Macrophage\"=\"#990066\", \"DC\"=\"#FF9999\", \"Mast\"=\"#6699FF\", \"Endothelial\"=\"#FF3366\", \"Fibroblast\"=\"#008080\", \"Malignant/Epithelial\"=\"#0D5886\", \"Others\"=\"lightgray\")\n",
    "\n",
    "cell_proportion <- ggplot(proportion_long_data, aes(x = Sample, y = Proportion, fill = CellType)) +\n",
    "  geom_bar(stat = \"identity\", position = \"stack\", width = 0.9) +\n",
    "  scale_fill_manual(values = colors) +\n",
    "  labs(title = NULL,\n",
    "       x = NULL,\n",
    "       y = NULL,\n",
    "       fill = \"Cell Type\") +\n",
    "  theme_minimal() +\n",
    "  theme(axis.text.x = element_blank(),\n",
    "        axis.text.y = element_blank(),\n",
    "        panel.grid.major = element_blank(),\n",
    "        panel.grid.minor = element_blank(),\n",
    "        legend.position = \"none\")\n"
   ]
  },
  {
   "cell_type": "code",
   "execution_count": null,
   "metadata": {
    "vscode": {
     "languageId": "r"
    }
   },
   "outputs": [],
   "source": [
    "count <- read.csv(\"./100samples_cell_count.csv\",header=1,row.names=1)\n"
   ]
  },
  {
   "cell_type": "code",
   "execution_count": null,
   "metadata": {
    "vscode": {
     "languageId": "r"
    }
   },
   "outputs": [],
   "source": [
    "count$CellType <- rownames(count)\n",
    "count$CellType <- factor(count$CellType, level=c('Malignant', 'Fibroblast', 'NK', 'T', 'B', 'Neutrophil', 'Macrophage', 'DC', 'Mast', 'Endothelial', 'Others'))\n",
    "\n",
    "count_long_data <- pivot_longer(count, \n",
    "                          cols = -CellType, \n",
    "                          names_to = \"Sample\",\n",
    "                          values_to = \"Proportion\")\n",
    "\n",
    "count_long_data$Sample <- factor(count_long_data$Sample, levels = colnames(count))\n",
    "count_long_data <- count_long_data %>%\n",
    "  arrange(Sample)\n",
    "\n",
    "colors <- c(\"NK\"=\"#CDCE6B\", \"T\"=\"#FFFF99\", \"B\"=\"#00CC99\", \"Neutrophil\"=\"#3366CC\", \"Macrophage\"=\"#990066\", \"DC\"=\"#FF9999\", \"Mast\"=\"#6699FF\", \"Endothelial\"=\"#FF3366\", \"Fibroblast\"=\"#008080\", \"Malignant/Epithelial\"=\"#0D5886\", \"Others\"=\"lightgray\")\n",
    "\n",
    "cell_count <- ggplot(count_long_data, aes(x = Sample, y = Proportion, fill = CellType)) +\n",
    "  geom_bar(stat = \"identity\", position = \"stack\", width = 0.9) +\n",
    "  scale_fill_manual(values = colors) +\n",
    "  labs(title = NULL,\n",
    "       x = NULL,\n",
    "       y = NULL,\n",
    "       fill = \"Cell Type\") +\n",
    "  theme_minimal() +\n",
    "  theme(axis.text.x = element_blank(),\n",
    "        panel.grid.major = element_blank(),\n",
    "        panel.grid.minor = element_blank(),\n",
    "        legend.position = \"none\")\n"
   ]
  },
  {
   "cell_type": "code",
   "execution_count": null,
   "metadata": {
    "vscode": {
     "languageId": "r"
    }
   },
   "outputs": [],
   "source": [
    "clinical_data <- read.csv(\"./HD100_clinical_info.csv\",row.names=1)\n"
   ]
  },
  {
   "cell_type": "code",
   "execution_count": null,
   "metadata": {
    "vscode": {
     "languageId": "r"
    }
   },
   "outputs": [],
   "source": [
    "clinical_data <- clini_df[,c(\"Pathology_ID\",\"Tumor_Type\",\"Tumor_SubType\",\"Age_state\",\"Recurrence_Status\",\"purity_state\",\"Tumor_Grade\",\"Tumor_Stage\",\"MSI_state\")]\n",
    "row.names(clinical_data) <- clinical_data$Pathology_ID\n",
    "clinical_data$Pathology_ID <- NULL\n",
    "\n",
    "clinical_data[is.na(clinical_data)] <- \"Unknown\"\n",
    "clinical_data[clinical_data==\"\"] <- \"Unknown\"\n",
    "\n",
    "top_annotations <- HeatmapAnnotation(\n",
    "  df = clinical_data,\n",
    "  col = list(\n",
    "    Tumor_Type = c(\"OC\" = \"#ab526a\", \"EC\" = \"#d68081\", \"CC\"=\"#e46b72\", 'Unknown' = \"#dcdcdc\"),\n",
    "    Tumor_SubType = c(\"Mucinous\" = \"#b1bcf4\", \"Serous\" = \"#65a56d\", \"Clear cell\" = \"#f4e88d\", \"Squ\"=\"#f85adb\", \"Ade\"=\"#a94684\", \"Ade-Squ\"=\"#ff1e16\", \"Endometrial\" = \"#eab768\", \"Sarcoma\" = \"#cf5b5d\",'Others' = \"#dcdcdc\"),\n",
    "    Age_state = c(\"High\" = \"#d87559\", \"Medium\" = \"#e6a76c\", \"Low\" = \"#e3c577\", 'Unknown' = \"#dcdcdc\"),\n",
    "    Recurrence_Status = c(\"1\" = \"#785190\", \"0\" = \"#6f87bb\", 'Unknown' = \"#dcdcdc\"),\n",
    "    purity_state = c(\"High\" = \"#345b7c\", \"Medium\" = \"#5896aa\", \"Low\" = \"#91cfe3\", 'Unknown' = \"#dcdcdc\"),\n",
    "    Tumor_Grade = c(\"1\" = \"#a1a5bf\", \"2\" = \"#656e96\", \"3\" = \"#475482\", 'Unknown' = \"#dcdcdc\"),\n",
    "    Tumor_Stage = c(\"I\" = \"#a6c692\", \"II\" = \"#92b17f\", \"III\" = \"#7e9d6b\", \"IV\" = \"#6b8959\", 'Unknown' = \"#dcdcdc\"),\n",
    "    MSI_state = c(\"MSI-low\" = \"#62b58f\", \"MSI-high\" = \"#e7cc5e\", 'Unknown' = \"#dcdcdc\")\n",
    "  ),\n",
    "  annotation_name_side = \"left\",\n",
    "  annotation_legend_param = list(\n",
    "    Tumor_Type = list(title = \"Purity\", title_gp = gpar(fontsize = 13)),\n",
    "    Tumor_SubType = list(title = \"Tumor_Type\", title_gp = gpar(fontsize = 13)),\n",
    "    Age_state = list(title = \"Age\", title_gp = gpar(fontsize = 13)),\n",
    "    Recurrence_Status = list(title = \"Tumor_Stage\", title_gp = gpar(fontsize = 13)),\n",
    "    purity_state = list(title = \"Tumor_Grade\", title_gp = gpar(fontsize = 13)),\n",
    "    Tumor_Grade = list(title = \"Tumor_Grade\", title_gp = gpar(fontsize = 13)),\n",
    "    Tumor_Stage = list(title = \"Tumor_Stage\", title_gp = gpar(fontsize = 13)),\n",
    "    MSI_state = list(title = \"Tumor_Grade\", title_gp = gpar(fontsize = 13))\n",
    "  )\n",
    ")"
   ]
  },
  {
   "cell_type": "code",
   "execution_count": null,
   "metadata": {
    "vscode": {
     "languageId": "r"
    }
   },
   "outputs": [],
   "source": [
    "heatmap_with_annotations <- Heatmap(matrix(nrow = 0, ncol = 100),\n",
    "                                    top_annotation = top_annotations,\n",
    "                                    show_row_names = FALSE,\n",
    "                                    show_column_names = FALSE)\n",
    "\n",
    "annotation <- draw(heatmap_with_annotations, annotation_legend_side = \"right\")\n"
   ]
  },
  {
   "cell_type": "code",
   "execution_count": null,
   "metadata": {
    "vscode": {
     "languageId": "r"
    }
   },
   "outputs": [],
   "source": []
  },
  {
   "cell_type": "markdown",
   "metadata": {},
   "source": [
    "### figure 1g"
   ]
  },
  {
   "cell_type": "code",
   "execution_count": null,
   "metadata": {
    "vscode": {
     "languageId": "r"
    }
   },
   "outputs": [],
   "source": [
    "proportion <- read.csv(\"/home/xutian/projects/Spatial_OV/figures/figure2/cell_type_proportion/100samples_proportion.csv\",header=1,row.names=1)\n",
    "proportion <- proportion[, colnames(proportion) != \"Others\"]\n",
    "\n",
    "proportion_t <- as_tibble(proportion, rownames = \"sample\")\n",
    "proportion_long <- proportion_t %>%\n",
    "  pivot_longer(\n",
    "    cols = -sample, \n",
    "    names_to = \"cell_type\", \n",
    "    values_to = \"proportion\"\n",
    "  )\n",
    "\n",
    "proportion_long <- proportion_long %>%\n",
    "  mutate(group = case_when(\n",
    "    sample %in% OC_sample_id ~ \"OC\",\n",
    "    sample %in% EC_sample_id ~ \"EC\",\n",
    "    sample %in% CC_sample_id ~ \"CC\"\n",
    "  ))"
   ]
  },
  {
   "cell_type": "code",
   "execution_count": null,
   "metadata": {
    "vscode": {
     "languageId": "r"
    }
   },
   "outputs": [],
   "source": [
    "proportion_long$cell_type <- factor(proportion_long$cell_type, level=c('NK', 'T', 'B', 'DC', 'Mast', 'Neutrophil', 'Macrophage', 'Endothelial', 'Fibroblast', 'Malignant'))\n",
    "proportion_long$group <- factor(proportion_long$group, levels=c(\"OC\",\"EC\",\"CC\"))\n",
    "\n",
    "p <- ggplot(proportion_long, aes(x = group, y = proportion, color = group, fill = group)) +\n",
    "  geom_violin(alpha = 0.9, position = position_dodge(width = 0.7), trim = FALSE, color=\"grey90\", linewidth = 0.5) +\n",
    "  geom_boxplot(width = 0.1, color = \"white\", size = 0.5, outlier.shape = NA) +\n",
    "  facet_wrap(~cell_type, nrow = 2, scales = \"free_y\", ncol = 5) +\n",
    "  theme_minimal() +\n",
    "  labs(title = \"Cell Type Proportion\", x = \"\", y = \"Proportion\") +\n",
    "  scale_y_continuous(limits = c(-0.01, NA)) + \n",
    "  scale_color_manual(values = c(\"OC\" = \"#ab526a\",\"EC\" = \"#d68081\",\"CC\" = \"#2878b5\")) +\n",
    "  scale_fill_manual(values = c(\"OC\" = \"#ab526a\",\"EC\" = \"#d68081\",\"CC\" = \"#2878b5\")) +\n",
    "  theme(\n",
    "      axis.text.x = element_blank(),\n",
    "      axis.ticks.y = element_line(color = \"black\", linewidth = 0.8),\n",
    "      axis.text.y = element_text(size = 14, color = \"black\"),\n",
    "      panel.border = element_rect(color = \"black\", linewidth = 0.8, fill = NA),\n",
    "      panel.grid.major = element_blank(),\n",
    "      panel.grid.minor = element_blank(),\n",
    "      strip.text = element_text(size = 14, face = \"bold\")\n",
    "  )\n",
    "\n",
    "print(p)"
   ]
  },
  {
   "cell_type": "code",
   "execution_count": null,
   "metadata": {
    "vscode": {
     "languageId": "r"
    }
   },
   "outputs": [],
   "source": []
  },
  {
   "cell_type": "markdown",
   "metadata": {},
   "source": [
    "### Figure S1n"
   ]
  },
  {
   "cell_type": "code",
   "execution_count": null,
   "metadata": {
    "vscode": {
     "languageId": "r"
    }
   },
   "outputs": [],
   "source": [
    "proportion <- read.csv(\"./100samples_cell_count.csv\",header=1,row.names=1)\n",
    "proportion <- proportion[rownames(proportion) != \"Others\", ]\n"
   ]
  },
  {
   "cell_type": "code",
   "execution_count": null,
   "metadata": {
    "vscode": {
     "languageId": "r"
    }
   },
   "outputs": [],
   "source": [
    "proportion$CellType <- rownames(proportion)\n",
    "long_df <- tidyr::pivot_longer(proportion, cols = -CellType, names_to = \"Sample\", values_to = \"Count\")\n",
    "\n",
    "stats_df <- long_df %>%\n",
    "  group_by(CellType) %>%\n",
    "  summarise(\n",
    "    Mean = mean(Count),\n",
    "    LowerQuartile = quantile(Count, 0.25),\n",
    "    UpperQuartile = quantile(Count, 0.75)\n",
    "  ) %>%\n",
    "  arrange(desc(Mean))\n",
    "\n",
    "cell_type_order <- stats_df$CellType\n",
    "long_df$CellType <- factor(long_df$CellType, levels = cell_type_order)\n"
   ]
  },
  {
   "cell_type": "code",
   "execution_count": null,
   "metadata": {
    "vscode": {
     "languageId": "r"
    }
   },
   "outputs": [],
   "source": [
    "colors <- c(\"NK\"=\"#CDCE6B\", \"T\"=\"#FFFF99\", \"B\"=\"#00CC99\", \"Neutrophil\"=\"#3366CC\", \"Macrophage\"=\"#990066\", \"DC\"=\"#FF9999\", \"Mast\"=\"#6699FF\", \"Endothelial\"=\"#FF3366\", \"Fibroblast\"=\"#008080\", \"Malignant/Epithelial\"=\"#0D5886\", \"Others\"=\"lightgray\")\n",
    "stats_df$CellType <- factor(stats_df$CellType, levels = unique(stats_df$CellType))\n",
    "\n",
    "p <- ggplot(stats_df, aes(x = CellType, y = Mean, fill = CellType)) +\n",
    "  geom_col(color=\"black\", size = 1.5, width=0.7) +\n",
    "  geom_jitter(data = long_df, aes(x = CellType, y = Count, group = CellType), size = 1,\n",
    "            position = position_jitter(width = 0.3), color = \"#2c2c2c\") +\n",
    "  geom_errorbar(aes(ymin = LowerQuartile, ymax = UpperQuartile), width = 0.2) +\n",
    "  scale_fill_manual(values = colors) +\n",
    "  labs(title = \"Distribution of Cell Types Across Samples\",\n",
    "       x = \"Cell Type\",\n",
    "       y = \"Average Count\") +\n",
    "  theme_minimal() +\n",
    "  theme(axis.text.x = element_text(angle = 45, hjust = 1),\n",
    "        legend.position = \"none\",\n",
    "        panel.border = element_blank(),\n",
    "        panel.grid.major = element_blank(),\n",
    "        axis.ticks = element_line(color = \"black\"),\n",
    "        panel.grid.minor = element_blank())\n",
    "\n",
    "print(p)"
   ]
  },
  {
   "cell_type": "code",
   "execution_count": null,
   "metadata": {
    "vscode": {
     "languageId": "r"
    }
   },
   "outputs": [],
   "source": []
  },
  {
   "cell_type": "markdown",
   "metadata": {},
   "source": [
    "### Figure S1o"
   ]
  },
  {
   "cell_type": "code",
   "execution_count": null,
   "metadata": {
    "vscode": {
     "languageId": "r"
    }
   },
   "outputs": [],
   "source": [
    "result <- read.table(\"./Group_False_cibersort_abs.txt\", sep='\\t', header=1, check.names = FALSE)\n",
    "cell_types <- c('B.cells.naive','B.cells.memory','Plasma.cells','T.cells.CD8','T.cells.CD4.naive','T.cells.CD4.memory.resting','T.cells.CD4.memory.activated','T.cells.follicular.helper',\n",
    "                'T.cells.regulatory..Tregs.','T.cells.gamma.delta','NK.cells.resting','NK.cells.activated','Monocytes','Macrophages.M0','Macrophages.M1','Macrophages.M2',\n",
    "                'Dendritic.cells.resting','Dendritic.cells.activated','Mast.cells.resting','Mast.cells.activated','Eosinophils','Neutrophils')\n"
   ]
  },
  {
   "cell_type": "code",
   "execution_count": null,
   "metadata": {
    "vscode": {
     "languageId": "r"
    }
   },
   "outputs": [],
   "source": [
    "result_filtered <- result %>%\n",
    "  select(-sampleName, -P.value, -Correlation, -RMSE, -Absolute.score..sig.score.)\n",
    "\n",
    "result_long <- result_filtered %>%\n",
    "  pivot_longer(\n",
    "    cols = -Tumor_Type,\n",
    "    names_to = \"Cell_Type\",\n",
    "    values_to = \"Score\"\n",
    "  )\n",
    "\n",
    "result_long <- result_long %>%\n",
    "  group_by(Cell_Type) %>%\n",
    "  filter(Score <= quantile(Score, 0.975)) %>%\n",
    "  ungroup()"
   ]
  },
  {
   "cell_type": "code",
   "execution_count": null,
   "metadata": {
    "vscode": {
     "languageId": "r"
    }
   },
   "outputs": [],
   "source": [
    "result_long$Cell_Type <- factor(result_long$Cell_Type, level=cell_types)\n",
    "result_long$Tumor_Type <- factor(result_long$Tumor_Type, levels=c(\"OC\",\"EC\",\"CC\"))\n",
    "\n",
    "options(repr.plot.width = 20, repr.plot.height = 10)\n",
    "\n",
    "p <- ggplot(result_long, aes(x = Tumor_Type, y = Score, color = Tumor_Type, fill = Tumor_Type)) +\n",
    "  # geom_violin(alpha = 0.9, position = position_dodge(width = 0.7), trim = FALSE, color=\"grey90\", linewidth = 0.5) +\n",
    "  geom_boxplot(width = 0.7, color = \"gray\", size = 0.5, outlier.shape = NA) +\n",
    "  geom_jitter(width = 0.25, size = 0.8, alpha = 0.4, color = \"black\") +\n",
    "  facet_wrap(~Cell_Type, nrow = 2, scales = \"free_y\", ncol = 8) +\n",
    "  theme_minimal() +\n",
    "  labs(title = \"Cell Type Proportion\", x = \"\", y = \"Proportion\") +\n",
    "  scale_color_manual(values = c(\"OC\" = \"#ab526a\",\"EC\" = \"#d68081\",\"CC\" = \"#2878b5\")) +\n",
    "  scale_fill_manual(values = c(\"OC\" = \"#ab526a\",\"EC\" = \"#d68081\",\"CC\" = \"#2878b5\")) +\n",
    "  theme(\n",
    "      axis.text.x = element_blank(),\n",
    "      axis.ticks.y = element_line(color = \"black\", linewidth = 0.8),\n",
    "      axis.text.y = element_text(size = 14, color = \"black\"),\n",
    "      panel.border = element_rect(color = \"black\", linewidth = 0.8, fill = NA),\n",
    "      panel.grid.major = element_blank(),\n",
    "      panel.grid.minor = element_blank(),\n",
    "      strip.text = element_text(size = 14, face = \"bold\")\n",
    "  )\n",
    "\n",
    "p"
   ]
  },
  {
   "cell_type": "code",
   "execution_count": null,
   "metadata": {
    "vscode": {
     "languageId": "r"
    }
   },
   "outputs": [],
   "source": []
  }
 ],
 "metadata": {
  "kernelspec": {
   "display_name": "R",
   "language": "R",
   "name": "ir"
  },
  "language_info": {
   "name": "R"
  }
 },
 "nbformat": 4,
 "nbformat_minor": 2
}
