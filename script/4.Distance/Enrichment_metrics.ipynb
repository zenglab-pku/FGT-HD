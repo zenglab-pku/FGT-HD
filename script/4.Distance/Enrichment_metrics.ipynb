{
 "cells": [
  {
   "cell_type": "markdown",
   "metadata": {},
   "source": [
    "## Spatial enrichment was evaluated using three metrics: likelihood and proximity distance.\n",
    "Required input parameters: \\\n",
    "\t•\tn_rings: Number of neighborhood rings (default set to 3) \\\n",
    "\t•\tn_neighs: Number of neighbors (default set to 8)\n"
   ]
  },
  {
   "cell_type": "code",
   "execution_count": 12,
   "metadata": {},
   "outputs": [],
   "source": [
    "import numpy as np\n",
    "import pandas as pd\n",
    "import scanpy as sc\n",
    "import squidpy as sq\n",
    "import seaborn as sns\n",
    "from scipy.spatial import cKDTree\n",
    "\n",
    "import os\n",
    "import json\n",
    "import gc\n",
    "import warnings\n",
    "from tqdm import tqdm\n",
    "\n",
    "import matplotlib.pyplot as plt\n",
    "from pandas.api.types import CategoricalDtype\n",
    "from matplotlib.colors import LinearSegmentedColormap\n",
    "from collections import defaultdict\n",
    "warnings.filterwarnings(\"ignore\")\n"
   ]
  },
  {
   "cell_type": "code",
   "execution_count": null,
   "metadata": {},
   "outputs": [],
   "source": [
    "n_rings = 3\n",
    "n_neighs = 8"
   ]
  },
  {
   "cell_type": "code",
   "execution_count": null,
   "metadata": {},
   "outputs": [],
   "source": [
    "sample_list = pd.read_csv(\"HD-OV 100.csv\")\n",
    "path = \"../out\"\n",
    "figure_output = \"../figures\"\n",
    "\n",
    "output_path = f'{path}/neighgor_count'\n",
    "figure_path = f'{figure_output}/neighgor_count'\n",
    "\n",
    "os.makedirs(output_path, exist_ok=True)\n",
    "os.makedirs(figure_path, exist_ok=True)"
   ]
  },
  {
   "cell_type": "code",
   "execution_count": null,
   "metadata": {},
   "outputs": [],
   "source": [
    "with open(\"./ref/cell_markers.json\", \"r\") as json_file:\n",
    "    markers = json.load(json_file)\n",
    "\n",
    "order = list(markers.keys())\n",
    "order.append(\"Others\")"
   ]
  },
  {
   "cell_type": "markdown",
   "metadata": {},
   "source": [
    "### Likelihood score"
   ]
  },
  {
   "cell_type": "code",
   "execution_count": 13,
   "metadata": {},
   "outputs": [],
   "source": [
    "def likelihood_cal(nhood_enrichment_count):\n",
    "    new_df = pd.DataFrame(np.zeros_like(nhood_enrichment_count), columns=nhood_enrichment_count.columns, index=nhood_enrichment_count.index)\n",
    "\n",
    "    Nt = nhood_enrichment_count.values.sum()\n",
    "    Ni = nhood_enrichment_count.sum(axis=1)\n",
    "\n",
    "    for i in range(len(new_df)):\n",
    "        for j in range(len(new_df.columns)):\n",
    "            Nij = nhood_enrichment_count.iloc[i, j]\n",
    "            Nj = nhood_enrichment_count.iloc[:, j].sum()\n",
    "            new_df.iloc[i, j] = Nij * Nt / (Ni[i] * Nj)\n",
    "\n",
    "    log_df = np.log2(new_df)\n",
    "    return log_df\n"
   ]
  },
  {
   "cell_type": "code",
   "execution_count": null,
   "metadata": {},
   "outputs": [],
   "source": [
    "\n",
    "adata = sc.read_h5ad(f\"HGSOC_adata.h5ad\")\n",
    "adata.obs['in_tissue'] = adata.obs['in_tissue'].astype(float)\n",
    "adata.obs['array_row'] = adata.obs['array_row'].astype(float)\n",
    "adata.obs['array_col'] = adata.obs['array_col'].astype(float)\n",
    "adata.obsm['spatial'] = adata.obsm['spatial'].astype(float)\n",
    "adata.obs['annotations'] = pd.Categorical(adata.obs['annotations'], categories=order, ordered=True)\n",
    "\n",
    "sq.gr.spatial_neighbors(adata, n_rings=n_rings, coord_type=\"grid\", n_neighs=n_neighs)\n",
    "sq.gr.nhood_enrichment(adata, cluster_key=\"annotations\", n_perms=10)\n",
    "sq_df_neibor = pd.DataFrame(adata.uns[\"annotations_nhood_enrichment\"]['count'], index=order, columns=order)\n",
    "sq_df_neibor.to_csv(f\"{output_path}/neighbor_count.csv\")\n",
    "\n",
    "# score_with_others = likelihood_cal(sq_df_neibor)\n",
    "\n",
    "sq_df_neibor_wo = sq_df_neibor.drop(index=\"Others\", errors=\"ignore\")\n",
    "sq_df_neibor_wo = sq_df_neibor_wo.drop(columns=\"Others\", errors=\"ignore\")\n",
    "score_wo_others = likelihood_cal(sq_df_neibor_wo)\n",
    "\n",
    "abs_data = score_wo_others.abs()\n",
    "max_abs_val = abs_data.max().max()\n",
    "custom_cmap = LinearSegmentedColormap.from_list(\"custom_cmap\", [\"#483d8b\", \"#ffffff\", \"#800000\"])\n",
    "\n",
    "sns.heatmap(\n",
    "    score_wo_others,\n",
    "    cmap=custom_cmap,\n",
    "    center=0,\n",
    "    vmin=-max_abs_val, vmax=max_abs_val,\n",
    "    annot=True, fmt=\".2f\",\n",
    "    linewidths=0.5\n",
    ")\n",
    "\n",
    "plt.savefig(f\"{figure_path}/neighbor_likelihood.pdf\", format=\"pdf\", bbox_inches='tight')\n",
    "plt.close()\n"
   ]
  },
  {
   "cell_type": "markdown",
   "metadata": {},
   "source": [
    "### Proximity distance"
   ]
  },
  {
   "cell_type": "code",
   "execution_count": null,
   "metadata": {},
   "outputs": [],
   "source": [
    "def calculate_distances(obs, cell_type_1, cell_type_2):\n",
    "    results = []\n",
    "    for sample, group in obs.groupby('sample'):\n",
    "        type_1_coords = group[group['annotations'] == cell_type_1][['array_row', 'array_col']].values\n",
    "        type_2_coords = group[group['annotations'] == cell_type_2][['array_row', 'array_col']].values\n",
    "\n",
    "        if len(type_1_coords) > 0 and len(type_2_coords) > 0:\n",
    "            tree = cKDTree(type_1_coords)\n",
    "            if cell_type_1 != cell_type_2:\n",
    "                distances, indices = tree.query(type_2_coords, k=1)\n",
    "            else:\n",
    "                distances, indices = tree.query(type_2_coords, k=2)\n",
    "                distances = distances[:,1]\n",
    "\n",
    "            results.append((sample, distances))\n",
    "        \n",
    "    result_df = pd.DataFrame(results, columns=['Sample', 'Distances'])\n",
    "\n",
    "    return result_df"
   ]
  },
  {
   "cell_type": "code",
   "execution_count": null,
   "metadata": {},
   "outputs": [],
   "source": [
    "adata = sc.read_h5ad(\"HGSOC_adata.h5ad\")\n",
    "adata.obs['in_tissue'] = adata.obs['in_tissue'].astype(float)\n",
    "adata.obs['array_row'] = adata.obs['array_row'].astype(float)\n",
    "adata.obs['array_col'] = adata.obs['array_col'].astype(float)\n",
    "adata.obsm['spatial'] = adata.obsm['spatial'].astype(float)\n",
    "adata.obs['annotations'] = pd.Categorical(adata.obs['annotations'], categories=order, ordered=True)\n",
    "\n",
    "obs = adata.obs"
   ]
  },
  {
   "cell_type": "code",
   "execution_count": null,
   "metadata": {},
   "outputs": [],
   "source": [
    "T2cancer_distance_df = calculate_distances(obs, \"T\", \"Epithelial\")\n",
    "T2cancer_dis = np.concatenate(T2cancer_distance_df['Distances'].values)\n"
   ]
  },
  {
   "cell_type": "code",
   "execution_count": null,
   "metadata": {},
   "outputs": [],
   "source": []
  }
 ],
 "metadata": {
  "kernelspec": {
   "display_name": "HD",
   "language": "python",
   "name": "python3"
  },
  "language_info": {
   "codemirror_mode": {
    "name": "ipython",
    "version": 3
   },
   "file_extension": ".py",
   "mimetype": "text/x-python",
   "name": "python",
   "nbconvert_exporter": "python",
   "pygments_lexer": "ipython3",
   "version": "3.9.19"
  }
 },
 "nbformat": 4,
 "nbformat_minor": 2
}
