{
 "cells": [
  {
   "cell_type": "markdown",
   "metadata": {},
   "source": [
    "## These codes are used for NMF on celltype composition matrix"
   ]
  },
  {
   "cell_type": "code",
   "execution_count": null,
   "metadata": {},
   "outputs": [],
   "source": [
    "import pandas as pd\n",
    "import warnings\n",
    "from tqdm import tqdm\n",
    "from sklearn.decomposition import NMF\n",
    "from sklearn.neighbors import kneighbors_graph\n",
    "import igraph as ig\n",
    "import leidenalg\n",
    "\n",
    "warnings.filterwarnings(\"ignore\")"
   ]
  },
  {
   "cell_type": "code",
   "execution_count": null,
   "metadata": {},
   "outputs": [],
   "source": [
    "celltype_composition = pd.read_csv(\"./neighboring_celltype_composition.csv\",index_col=0)\n",
    "model = NMF(n_components=5, init='random', random_state=42)\n",
    "\n",
    "W = model.fit_transform(celltype_composition.values)\n",
    "H = model.components_"
   ]
  },
  {
   "cell_type": "code",
   "execution_count": null,
   "metadata": {},
   "outputs": [],
   "source": [
    "W_df = pd.DataFrame(W, index=celltype_composition.index, columns=[f\"Factor_{i+1}\" for i in range(W.shape[1])])\n",
    "H_df = pd.DataFrame(H, columns=celltype_composition.columns, index=[f\"Factor_{i+1}\" for i in range(H.shape[0])])\n"
   ]
  },
  {
   "cell_type": "code",
   "execution_count": null,
   "metadata": {},
   "outputs": [],
   "source": [
    "W_df.to_csv(\"./W_values.csv\")\n",
    "H_df.to_csv(\"./H_values.csv\")"
   ]
  },
  {
   "cell_type": "code",
   "execution_count": null,
   "metadata": {},
   "outputs": [],
   "source": []
  }
 ],
 "metadata": {
  "language_info": {
   "name": "python"
  }
 },
 "nbformat": 4,
 "nbformat_minor": 2
}
