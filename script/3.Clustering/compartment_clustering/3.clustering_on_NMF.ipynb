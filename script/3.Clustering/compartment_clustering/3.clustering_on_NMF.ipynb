{
 "cells": [
  {
   "cell_type": "markdown",
   "metadata": {},
   "source": [
    "## These codes are used for clustering based on W matrix"
   ]
  },
  {
   "cell_type": "code",
   "execution_count": null,
   "metadata": {},
   "outputs": [],
   "source": [
    "import numpy as np\n",
    "import pandas as pd\n",
    "import scanpy as sc\n",
    "import scvi\n",
    "import cellcharter as cc\n",
    "import warnings\n",
    "warnings.filterwarnings(\"ignore\")\n"
   ]
  },
  {
   "cell_type": "code",
   "execution_count": null,
   "metadata": {},
   "outputs": [],
   "source": [
    "adata = sc.read_h5ad(\"./100samples_before_clustering.h5ad\")\n",
    "adata._inplace_subset_var([])\n",
    "W_value = pd.read_csv(\"./W_values.csv\",index_col=0)\n",
    "W_value_aligned = W_value.loc[adata.obs_names]\n",
    "adata.obsm[\"X_neighboring\"] = np.round(W_value_aligned.to_numpy(), 8).astype(np.float32)\n"
   ]
  },
  {
   "cell_type": "code",
   "execution_count": null,
   "metadata": {},
   "outputs": [],
   "source": [
    "autok = cc.tl.ClusterAutoK(\n",
    "    n_clusters=(5,16),\n",
    "    max_runs=5,\n",
    "    model_params=dict(\n",
    "        random_state=12345,\n",
    "        trainer_params=dict(accelerator='gpu', devices=1)\n",
    "    )\n",
    ")\n",
    "\n",
    "autok.fit(adata, use_rep='X_neighboring')\n",
    "adata.obs['cluster'] = autok.predict(adata, use_rep='X_neighboring')\n"
   ]
  },
  {
   "cell_type": "code",
   "execution_count": null,
   "metadata": {},
   "outputs": [],
   "source": [
    "adata.obs['cellular_compartment'] = adata.obs['cluster'].copy()\n",
    "replace_dict = {\n",
    "    0: 'Inflammatory stromal',\n",
    "    1: 'NKT cell-infiltrated tumor',\n",
    "    2: 'Low-UMI epi-region',\n",
    "    3: 'Inflammatory stromal',\n",
    "    4: 'Low-UMI fibro-region',\n",
    "    5: 'Myeloid-infiltrated tumor',\n",
    "    6: 'Immune cell-enriched',\n",
    "    7: 'Endothelium-enriched stromal',\n",
    "    8: 'Tumor boundary',\n",
    "    9: 'Necrotic region',\n",
    "    10: 'Low-UMI epi-region',\n",
    "    11: 'Necrotic region',\n",
    "    12: 'Tumor core',\n",
    "    13: 'B cell-enriched stromal'\n",
    "}\n",
    "\n",
    "adata.obs['cellular_compartment'] = adata.obs['cellular_compartment'].replace(replace_dict)\n"
   ]
  },
  {
   "cell_type": "code",
   "execution_count": null,
   "metadata": {},
   "outputs": [],
   "source": [
    "adata.obs.to_csv(\"./100sample_clustered_obs.csv\")\n"
   ]
  },
  {
   "cell_type": "code",
   "execution_count": null,
   "metadata": {},
   "outputs": [],
   "source": [
    "proportion_table = pd.crosstab(adata.obs['sample'], adata.obs['cellular_compartment'], normalize='index')\n",
    "proportion_table.to_csv(\"./compartment_composition_in_samples.csv\")\n"
   ]
  },
  {
   "cell_type": "code",
   "execution_count": null,
   "metadata": {},
   "outputs": [],
   "source": [
    "def calculate_roe(mat: pd.DataFrame) -> pd.DataFrame:\n",
    "    mat = mat.copy()\n",
    "    \n",
    "    row_sums = mat.sum(axis=1)\n",
    "    col_sums = mat.sum(axis=0)\n",
    "    total = mat.values.sum()\n",
    "    expected = np.outer(row_sums, col_sums) / total\n",
    "    observed = mat.values\n",
    "    roe = np.divide(observed, expected, out=np.zeros_like(observed, dtype=float), where=expected != 0)\n",
    "    roe_df = pd.DataFrame(roe, index=mat.index, columns=mat.columns)\n",
    "\n",
    "    return roe_df\n"
   ]
  },
  {
   "cell_type": "code",
   "execution_count": null,
   "metadata": {},
   "outputs": [],
   "source": [
    "cross_tab = pd.crosstab(adata.obs['cellular_compartment'], adata.obs['annotations'])\n",
    "roe_df = calculate_roe(cross_tab)\n",
    "roe_df = roe_df[['NK', 'T', 'B', 'DC', 'Mast', 'Neutrophil', 'Macrophage', 'Endothelial',  'Fibroblast', 'Epithelial', 'Others']]\n"
   ]
  },
  {
   "cell_type": "code",
   "execution_count": null,
   "metadata": {},
   "outputs": [],
   "source": [
    "roe_df.to_csv(\"./niche_celltype_roe.csv\")\n"
   ]
  },
  {
   "cell_type": "code",
   "execution_count": null,
   "metadata": {},
   "outputs": [],
   "source": []
  }
 ],
 "metadata": {
  "language_info": {
   "name": "python"
  }
 },
 "nbformat": 4,
 "nbformat_minor": 2
}
