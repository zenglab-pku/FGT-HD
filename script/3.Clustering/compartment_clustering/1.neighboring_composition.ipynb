{
 "cells": [
  {
   "cell_type": "markdown",
   "metadata": {},
   "source": [
    "## These codes are used for celltype compostion computation in neighboring region for each cell"
   ]
  },
  {
   "cell_type": "code",
   "execution_count": null,
   "metadata": {},
   "outputs": [],
   "source": [
    "import numpy as np\n",
    "import pandas as pd\n",
    "import warnings\n",
    "from tqdm import tqdm\n",
    "warnings.filterwarnings(\"ignore\")"
   ]
  },
  {
   "cell_type": "code",
   "execution_count": null,
   "metadata": {},
   "outputs": [],
   "source": [
    "def calculate_neighbor_composition(obs, ring, annotation_col='annotations'):\n",
    "\n",
    "    all_categories = obs[annotation_col].unique().tolist()\n",
    "\n",
    "    results = pd.DataFrame(\n",
    "        index=obs.index,\n",
    "        columns=all_categories,\n",
    "        dtype=float\n",
    "    ).fillna(0.0)\n",
    "\n",
    "    sample_list = obs[\"sample\"].unique().tolist()\n",
    "    \n",
    "    for sample in tqdm(sample_list, desc=\"Processing samples\"):\n",
    "        sample_obs = obs[obs[\"sample\"] == sample]\n",
    "        \n",
    "        spatial_index = sample_obs.set_index(['array_row', 'array_col'])\n",
    "        \n",
    "        for idx, row in tqdm(sample_obs.iterrows(), total=len(sample_obs), desc=f\"Cells in {sample}\"):\n",
    "            r, c = row['array_row'], row['array_col']\n",
    "            \n",
    "            min_r, max_r = r - ring, r + ring\n",
    "            min_c, max_c = c - ring, c + ring\n",
    "            \n",
    "            neighbors = []\n",
    "            for rr in range(min_r, max_r + 1):\n",
    "                for cc in range(min_c, max_c + 1):\n",
    "                    if (rr, cc) in spatial_index.index:\n",
    "                        neighbors.append(spatial_index.loc[(rr, cc), annotation_col])\n",
    "            \n",
    "            if neighbors:\n",
    "                neighbor_series = pd.Series(neighbors)\n",
    "                counts = neighbor_series.value_counts(normalize=True)\n",
    "                \n",
    "                for cat, prop in counts.items():\n",
    "                    results.at[idx, cat] = prop\n",
    "    \n",
    "    return results"
   ]
  },
  {
   "cell_type": "code",
   "execution_count": null,
   "metadata": {},
   "outputs": [],
   "source": [
    "entire_obs = pd.read_csv(\"./100sample_obs.csv\", index_col=0)\n",
    "entire_obs['array_row'] = entire_obs['array_row'].astype(int)\n",
    "entire_obs['array_col'] = entire_obs['array_col'].astype(int)\n",
    "\n",
    "result_df = calculate_neighbor_composition(\n",
    "    obs=entire_obs,\n",
    "    ring=4,\n",
    "    annotation_col='annotations'\n",
    ")\n",
    "\n",
    "result_df.to_csv(\"./neighboring_celltype_composition.csv\")\n"
   ]
  },
  {
   "cell_type": "code",
   "execution_count": null,
   "metadata": {},
   "outputs": [],
   "source": []
  }
 ],
 "metadata": {
  "language_info": {
   "name": "python"
  }
 },
 "nbformat": 4,
 "nbformat_minor": 2
}
