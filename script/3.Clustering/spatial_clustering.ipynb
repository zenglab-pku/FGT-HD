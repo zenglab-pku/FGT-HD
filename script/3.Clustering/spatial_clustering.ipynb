{
 "cells": [
  {
   "cell_type": "markdown",
   "metadata": {},
   "source": [
    "## Spatial Clustering Using CellCharter\n",
    "\n",
    "Required input parameters: \\\n",
    "\t•\tn_rings: Number of neighborhood rings (default set to 1) \\\n",
    "\t•\tn_neighs: Number of neighbors \\\n",
    "\t•\tnhood_layers: Number of aggregated layers \\\n",
    "\t•\tbest_fit: Automatically determine the optimal number of clusters \\\n",
    "\t•\tcluster range: (m, n), specifying the minimum and maximum number of clusters to evaluate \\\n",
    "\t•\tsample_key: Label used for batch correction"
   ]
  },
  {
   "cell_type": "code",
   "execution_count": 1,
   "metadata": {},
   "outputs": [
    {
     "name": "stderr",
     "output_type": "stream",
     "text": [
      "/home/xutian/mambaforge/envs/cellcharter/lib/python3.10/site-packages/tqdm/auto.py:21: TqdmWarning: IProgress not found. Please update jupyter and ipywidgets. See https://ipywidgets.readthedocs.io/en/stable/user_install.html\n",
      "  from .autonotebook import tqdm as notebook_tqdm\n",
      "Global seed set to 0\n",
      "Global seed set to 12345\n"
     ]
    }
   ],
   "source": [
    "import anndata as ad\n",
    "from collections import defaultdict\n",
    "import numpy as np\n",
    "import pandas as pd\n",
    "import scanpy as sc\n",
    "import squidpy as sq\n",
    "import matplotlib.pyplot as plt\n",
    "import seaborn as sns\n",
    "import scvi\n",
    "import cellcharter as cc\n",
    "from sklearn.metrics import adjusted_rand_score\n",
    "import matplotlib.pyplot as plt\n",
    "import matplotlib.colors as mcolors\n",
    "import os\n",
    "os.environ['CUDA_VISIBLE_DEVICES'] = '0'\n",
    "import gc\n",
    "import warnings\n",
    "warnings.filterwarnings(\"ignore\")\n",
    "from pandas.api.types import CategoricalDtype\n",
    "# os.environ['PYTORCH_CUDA_ALLOC_CONF'] = 'max_split_size_mb:128'\n",
    "\n",
    "scvi.settings.seed = 12345"
   ]
  },
  {
   "cell_type": "code",
   "execution_count": 5,
   "metadata": {},
   "outputs": [],
   "source": [
    "## parameters\n",
    "\n",
    "n_latent = 10\n",
    "max_epochs = 5\n",
    "n_rings = 1\n",
    "n_neighs = 8\n",
    "nhood_layers = 3\n",
    "best_fit = True\n",
    "min_clusters = 2\n",
    "max_clusters = 15\n",
    "set_clusters = 10"
   ]
  },
  {
   "cell_type": "code",
   "execution_count": 3,
   "metadata": {},
   "outputs": [],
   "source": [
    "sample_list = pd.read_csv(\"HD-OV 100.csv\")\n",
    "sample_list = sample_list[sample_list[\"type\"]==\"HGSOC\"]\n",
    "path = \"../out\"\n",
    "figure_output = \"../figures\"\n",
    "output_path = f'{figure_output}/clusters'\n",
    "os.makedirs(output_path, exist_ok=True)\n",
    "\n",
    "cell_colors = {\n",
    "    \"NK\": \"#CDCE6B\",\n",
    "    \"T\": \"#FFFF99\",\n",
    "    \"B\": \"#00CC99\",\n",
    "    \"Neutrophil\": \"#3366CC\",\n",
    "    \"Macrophage\": \"#990066\",\n",
    "    \"DC\": \"#FF9999\",\n",
    "    \"Mast\": \"#6699FF\",\n",
    "    \"Endothelial\": \"#FF3366\",\n",
    "    \"Fibroblast\": \"#008080\",\n",
    "    \"Epithelial\": \"#0D5886\",\n",
    "    \"Others\": \"lightgray\"\n",
    "}"
   ]
  },
  {
   "cell_type": "code",
   "execution_count": null,
   "metadata": {},
   "outputs": [],
   "source": [
    "\n",
    "adata = sc.read_h5ad(f\"{path}/integrated_adata.h5ad\")\n",
    "adata.obs['in_tissue'] = adata.obs['in_tissue'].astype(float)\n",
    "adata.obs['array_row'] = adata.obs['array_row'].astype(float)\n",
    "adata.obs['array_col'] = adata.obs['array_col'].astype(float)\n",
    "adata.obsm['spatial'] = adata.obsm['spatial'].astype(float)\n",
    "adata.X = adata.layers['counts']\n",
    "\n",
    "scvi.model.SCVI.setup_anndata(adata, layer=\"counts\", batch_key='sample')\n",
    "model = scvi.model.SCVI(adata, n_latent=n_latent)\n",
    "model.train(max_epochs=max_epochs, early_stopping=True, enable_progress_bar=True)\n",
    "adata.obsm['X_scVI'] = model.get_latent_representation(adata).astype(np.float32)\n",
    "sq.gr.spatial_neighbors(adata, n_rings=n_rings, coord_type=\"grid\", n_neighs=n_neighs)\n",
    "cc.gr.aggregate_neighbors(adata, n_layers=nhood_layers, use_rep='X_scVI', out_key='X_cellcharter')\n",
    "\n",
    "if best_fit:\n",
    "    autok = cc.tl.ClusterAutoK(\n",
    "        n_clusters=(min_clusters,max_clusters),\n",
    "        max_runs=5,\n",
    "        model_params=dict(\n",
    "            random_state=12345,\n",
    "            trainer_params=dict(accelerator='gpu', devices=1)\n",
    "        )\n",
    "    )\n",
    "    autok.fit(adata, use_rep='X_cellcharter')\n",
    "    cc.pl.autok_stability(autok)\n",
    "\n",
    "    plt.savefig(f'{output_path}/spatial_cluster.pdf', format=\"pdf\", bbox_inches=\"tight\")\n",
    "    plt.close()\n",
    "    \n",
    "else:\n",
    "    autok = cc.tl.Cluster(\n",
    "        int(set_clusters),\n",
    "        random_state=12345,\n",
    "        trainer_params=dict(accelerator='gpu', devices=1)\n",
    "    )\n",
    "    autok.fit(adata, use_rep='X_cellcharter')\n",
    "\n",
    "adata.obs['cluster_cellcharter'] = autok.predict(adata, use_rep='X_cellcharter')\n",
    "adata.write_h5ad(f\"clustered_adata_8um.h5ad\")\n",
    "\n",
    "cc.pl.proportion(\n",
    "    adata,\n",
    "    group_key='cluster_cellcharter',\n",
    "    label_key=f'annotations',\n",
    "    palette=cell_colors,\n",
    "    save=f\"{output_path}/niche-cell_type_proportion.pdf\"\n",
    ")\n",
    "plt.close()"
   ]
  },
  {
   "cell_type": "code",
   "execution_count": null,
   "metadata": {},
   "outputs": [],
   "source": []
  },
  {
   "cell_type": "code",
   "execution_count": null,
   "metadata": {},
   "outputs": [],
   "source": []
  }
 ],
 "metadata": {
  "kernelspec": {
   "display_name": "HD",
   "language": "python",
   "name": "python3"
  },
  "language_info": {
   "codemirror_mode": {
    "name": "ipython",
    "version": 3
   },
   "file_extension": ".py",
   "mimetype": "text/x-python",
   "name": "python",
   "nbconvert_exporter": "python",
   "pygments_lexer": "ipython3",
   "version": "3.10.14"
  }
 },
 "nbformat": 4,
 "nbformat_minor": 2
}
