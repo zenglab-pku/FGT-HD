{
 "cells": [
  {
   "cell_type": "markdown",
   "metadata": {},
   "source": [
    "## This script is used to convert coordinate files into CSV format and to read and save the data as an H5AD file."
   ]
  },
  {
   "cell_type": "code",
   "execution_count": 1,
   "metadata": {},
   "outputs": [],
   "source": [
    "import anndata as ad\n",
    "import numpy as np\n",
    "import pandas as pd\n",
    "import scanpy as sc\n",
    "import squidpy as sq\n",
    "\n",
    "import warnings\n",
    "warnings.filterwarnings(\"ignore\", category=FutureWarning)\n",
    "warnings.filterwarnings(\"ignore\", category=UserWarning)"
   ]
  },
  {
   "cell_type": "code",
   "execution_count": 2,
   "metadata": {},
   "outputs": [],
   "source": [
    "sample_list = pd.read_csv(\"HD-OV 100.csv\")"
   ]
  },
  {
   "cell_type": "code",
   "execution_count": 6,
   "metadata": {},
   "outputs": [],
   "source": [
    "for index, row in sample_list.iterrows():\n",
    "    sample = row['sample_id']\n",
    "    input_path = row['path']\n",
    "    subtype = row['subtype']\n",
    "    relapse_status = row['relapse_status']\n",
    "    treatment_status = row['treatment_status']\n",
    "\n",
    "    path2um = \"/outs/binned_outputs/square_002um\"\n",
    "    path8um = \"/outs/binned_outputs/square_008um\"\n",
    "    path16um = \"/outs/binned_outputs/square_016um\"\n",
    "    path_list = [path2um,path8um,path16um]\n",
    "\n",
    "    for bin_path in path_list:\n",
    "        parquet_file_path = f\"{input_path}{bin_path}/spatial/tissue_positions.parquet\"\n",
    "        csv_file_path = f\"{input_path}{bin_path}/spatial/tissue_positions.csv\"\n",
    "        df = pd.read_parquet(parquet_file_path)\n",
    "        df.to_csv(csv_file_path, index=False)\n",
    "\n",
    "    adata_8um = sq.read.visium(f\"{input_path}{path8um}\")\n",
    "    adata_8um.obs['in_tissue'] = adata_8um.obs['in_tissue'].astype(float)\n",
    "    adata_8um.obs['array_row'] = adata_8um.obs['array_row'].astype(float)\n",
    "    adata_8um.obs['array_col'] = adata_8um.obs['array_col'].astype(float)\n",
    "    adata_8um.obsm['spatial'] = adata_8um.obsm['spatial'].astype(float)\n",
    "    adata_8um = adata_8um[:, ~adata_8um.var_names.duplicated()]\n",
    "    adata_8um.obs['sample'] = sample\n",
    "    adata_8um.obs['subtype'] = subtype\n",
    "    adata_8um.obs['relapse_status'] = relapse_status\n",
    "    adata_8um.obs['treatment_status'] = treatment_status\n",
    "    adata_8um.obs_names = adata_8um.obs_names + '_' + adata_8um.obs['sample']\n",
    "\n",
    "    adata_8um.write_h5ad(f\"{input_path}/outs/adata_8um.h5ad\")\n"
   ]
  },
  {
   "cell_type": "code",
   "execution_count": null,
   "metadata": {},
   "outputs": [],
   "source": []
  }
 ],
 "metadata": {
  "kernelspec": {
   "display_name": "HD",
   "language": "python",
   "name": "python3"
  },
  "language_info": {
   "codemirror_mode": {
    "name": "ipython",
    "version": 3
   },
   "file_extension": ".py",
   "mimetype": "text/x-python",
   "name": "python",
   "nbconvert_exporter": "python",
   "pygments_lexer": "ipython3",
   "version": "3.9.19"
  }
 },
 "nbformat": 4,
 "nbformat_minor": 2
}
