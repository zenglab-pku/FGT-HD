{
 "cells": [
  {
   "cell_type": "markdown",
   "metadata": {},
   "source": [
    "##  These codes are used for ST data convolution based on Spotiphy"
   ]
  },
  {
   "cell_type": "code",
   "execution_count": null,
   "metadata": {},
   "outputs": [],
   "source": [
    "import spotiphy\n",
    "import numpy as np\n",
    "import pandas as pd\n",
    "import scanpy as sc\n",
    "import os\n",
    "import torch"
   ]
  },
  {
   "cell_type": "code",
   "execution_count": null,
   "metadata": {},
   "outputs": [],
   "source": [
    "adata_sc = sc.read_h5ad(\"./2023_Nat_Can_adata.h5ad\")\n",
    "adata_sc.layers[\"counts\"] = adata_sc.X.copy()\n",
    "adata_st = sc.read_h5ad(\"./HGSOC_macro.h5ad\")\n",
    "adata_st.X = adata_st.layers[\"counts\"].copy()\n",
    "\n",
    "macro_subtype = [\n",
    "                 'M07_Macro-EREG', 'M08_Macro-FN1', 'M09_Macro-FABP5', 'M10_Macro-C1QA',\n",
    "                 'M11_Macro-VCAN', 'M12_Macro-C3', 'M14_Macro-FOLR2']\n",
    "adata_sc = adata_sc[adata_sc.obs[\"Annotation\"].isin(macro_subtype)].copy()\n",
    "\n",
    "key_type = \"Annotation\"\n",
    "type_list = sorted(list(adata_sc.obs[key_type].unique().astype(str)))\n",
    "results_folder = f'./spotiphy/macro/'\n",
    "if not os.path.exists(results_folder):\n",
    "    os.makedirs(results_folder)\n"
   ]
  },
  {
   "cell_type": "code",
   "execution_count": null,
   "metadata": {},
   "outputs": [],
   "source": [
    "adata_st = adata_st[:, ~adata_st.var_names.duplicated()].copy()\n",
    "sc.pp.filter_cells(adata_st, min_genes=1)\n",
    "sc.pp.filter_genes(adata_st, min_cells=1)\n",
    "\n",
    "adata_st.obsm['spatial'] = adata_st.obsm['spatial'].astype(float)\n",
    "adata_st_raw = adata_st.copy()\n",
    "adata_sc_norm, adata_st_norm = spotiphy.initialization(adata_sc, adata_st, verbose=1)\n",
    "\n",
    "marker_gene_dict = spotiphy.sc_reference.marker_selection(adata_sc_norm, key_type=key_type, return_dict=True, \n",
    "                                                        n_select=50, threshold_p=0.1, threshold_fold=1.0,\n",
    "                                                        q=0.15)\n",
    "marker_gene = []\n",
    "marker_gene_label = []\n",
    "for type_ in type_list:\n",
    "    marker_gene.extend(marker_gene_dict[type_])\n",
    "    marker_gene_label.extend([type_]*len(marker_gene_dict[type_]))\n",
    "marker_gene_df = pd.DataFrame({'gene':marker_gene, 'label':marker_gene_label})\n",
    "marker_gene_df.to_csv(results_folder+'marker_gene.csv')\n",
    "\n",
    "adata_sc_norm_marker = adata_sc_norm[:, marker_gene]\n",
    "adata_st_norm_marker = adata_st_norm[:, marker_gene]\n",
    "sc_ref = spotiphy.construct_sc_ref(adata_sc_norm_marker, key_type=key_type)\n"
   ]
  },
  {
   "cell_type": "code",
   "execution_count": null,
   "metadata": {},
   "outputs": [],
   "source": [
    "total_cells = adata_st_norm_marker.n_obs\n",
    "cell_proportion_list = []\n",
    "batch_size = 100000\n",
    "device = 'cuda' if torch.cuda.is_available() else 'cpu'\n",
    "\n",
    "for i in range(0, total_cells, batch_size):\n",
    "    print(f\"Processing {i//batch_size + 1} batch: from {i} to {min(i + batch_size, total_cells)} cells\")\n",
    "    adata_batch = adata_st_norm_marker[i : min(i + batch_size, total_cells)].copy()\n",
    "    X_batch = np.array(adata_batch.X)\n",
    "    batch_proportion = spotiphy.deconvolution.estimation_proportion(\n",
    "        X_batch, adata_sc_norm_marker, sc_ref, type_list, key_type,\n",
    "        n_epoch=4000, plot=False, batch_prior=1, device=device\n",
    "    )\n",
    "\n",
    "    cell_proportion_list.append(batch_proportion)\n",
    "\n",
    "cell_proportion = np.concatenate(cell_proportion_list, axis=0)\n",
    "np.save(results_folder + 'proportion.npy', cell_proportion)\n",
    "# adata_st.obs[type_list] = cell_proportion\n",
    "np.savetxt(results_folder + 'proportion.csv', cell_proportion, delimiter=',')\n"
   ]
  },
  {
   "cell_type": "code",
   "execution_count": null,
   "metadata": {},
   "outputs": [],
   "source": [
    "\n",
    "cell_proportion = pd.DataFrame(cell_proportion, columns=type_list)\n",
    "cell_proportion.columns = type_list\n",
    "row_max = cell_proportion.max(axis=1)\n",
    "cell_type_assignment = cell_proportion.idxmax(axis=1)\n",
    "cell_type_assignment[row_max < 0.3] = \"Undefined\"\n",
    "adata_st_raw.obs[\"macro_subtype\"] = cell_type_assignment.tolist()\n",
    "\n",
    "adata_st_raw.write_h5ad(f\"{results_folder}/TAM_deconvo_adata.h5ad\")\n"
   ]
  },
  {
   "cell_type": "code",
   "execution_count": null,
   "metadata": {},
   "outputs": [],
   "source": []
  }
 ],
 "metadata": {
  "language_info": {
   "name": "python"
  }
 },
 "nbformat": 4,
 "nbformat_minor": 2
}
