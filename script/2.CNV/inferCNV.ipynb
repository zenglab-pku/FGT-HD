{
 "cells": [
  {
   "cell_type": "markdown",
   "metadata": {},
   "source": [
    "## This script is used to infer CNV pattern in HD samples."
   ]
  },
  {
   "cell_type": "code",
   "execution_count": 1,
   "metadata": {},
   "outputs": [],
   "source": [
    "# import packages\n",
    "import scanpy as sc\n",
    "import anndata\n",
    "import pandas as pd\n",
    "import numpy as np\n",
    "import matplotlib.pyplot as plt\n",
    "from matplotlib.colors import ListedColormap, ListedColormap, BoundaryNorm\n",
    "import seaborn as sns\n",
    "\n",
    "from scipy.sparse import csr_matrix\n",
    "import scipy.sparse as sp\n",
    "from scipy.cluster.hierarchy import linkage, dendrogram, leaves_list, fcluster\n",
    "import os,sys,re\n",
    "from tqdm import tqdm\n",
    "import time\n",
    "import infercnvpy as cnv\n",
    "import random\n",
    "import gc\n",
    "import scipy.io as spio"
   ]
  },
  {
   "cell_type": "code",
   "execution_count": null,
   "metadata": {},
   "outputs": [],
   "source": [
    "# read sample information\n",
    "meta = pd.read_csv(\"HD-OV 100.csv\", index_col=False)\n",
    "sampleName = meta['sampleName']"
   ]
  },
  {
   "cell_type": "markdown",
   "metadata": {},
   "source": [
    "## inferCNV"
   ]
  },
  {
   "cell_type": "code",
   "execution_count": null,
   "metadata": {},
   "outputs": [],
   "source": [
    "## smooth count matrix\n",
    "\n",
    "for subdirectory in sampleName:\n",
    "\n",
    "    adata = sc.read_h5ad(f\"{subdirectory}/outs/adata_8um.h5ad\")\n",
    "    adata.obs['in_tissue'] = adata.obs['in_tissue'].astype(float)\n",
    "    adata.obs['array_row'] = adata.obs['array_row'].astype(float)\n",
    "    adata.obs['array_col'] = adata.obs['array_col'].astype(float)\n",
    "    adata.obsm['spatial'] = adata.obsm['spatial'].astype(float)\n",
    "    adata.X = adata.layers['counts'].copy()\n",
    "\n",
    "    whole_obs = adata.obs\n",
    "    cancer_obs = whole_obs[whole_obs[\"annotations\"]==\"Malignant\"]\n",
    "    modify_X = adata.X.todense()\n",
    "\n",
    "    for i in range(0,len(cancer_obs)):\n",
    "        \n",
    "        row_idx = cancer_obs['array_row'][i]\n",
    "        col_idx = cancer_obs['array_col'][i]\n",
    "\n",
    "        infer_obs = cancer_obs[(cancer_obs['array_row']==row_idx) & (cancer_obs['array_col']==col_idx)]\n",
    "\n",
    "        neighbor_cancer_obs = cancer_obs[(cancer_obs['array_row'].between(row_idx-1, row_idx+1)) & (cancer_obs['array_col'].between(col_idx-1, col_idx+1))]\n",
    "        neighbor_cancer_obs = neighbor_cancer_obs[~((neighbor_cancer_obs['array_row'] == row_idx) & (neighbor_cancer_obs['array_col'] == col_idx))]\n",
    "\n",
    "        if len(neighbor_cancer_obs) > 0:\n",
    "            raw_X = adata[infer_obs.index].X\n",
    "            index_to_update = whole_obs.index.get_loc(infer_obs.index[0])\n",
    "            neibor_cancer_X = adata[neighbor_cancer_obs.index].X\n",
    "\n",
    "            raw_exp = raw_X.todense().A1\n",
    "            neibor_cancer_exp = np.mean(adata[neighbor_cancer_obs.index].X, axis=0).A1\n",
    "\n",
    "            modify_exp = 0.75*raw_exp + 0.25*neibor_cancer_exp\n",
    "            modify_X[index_to_update,:] = modify_exp\n",
    "\n",
    "    sparse_matrix = sp.csr_matrix(modify_X)\n",
    "    adata.X = sparse_matrix\n",
    "\n",
    "    adata.write_h5ad(f\"{subdirectory}/outs/adata_8um_smooth.h5ad\")"
   ]
  },
  {
   "cell_type": "code",
   "execution_count": null,
   "metadata": {},
   "outputs": [],
   "source": [
    "# Run CNV analysis for each sample\n",
    "for subdirectory in sampleName:\n",
    "\n",
    "    print(\"=================== process =============\", subdirectory)\n",
    "\n",
    "    # read adata file\n",
    "    adata = sc.read_h5ad(f\"{subdirectory}/outs/adata_8um_smooth.h5ad\")\n",
    "    adata.obs['in_tissue'] = adata.obs['in_tissue'].astype(float)\n",
    "    adata.obsm['spatial'] = adata.obsm['spatial'].astype(float)\n",
    "    adata.obs['array_row'] = adata.obs['array_row'].astype(float)\n",
    "    adata.obs['array_col'] = adata.obs['array_col'].astype(float)\n",
    "\n",
    "    # annotation the chromosome and position of each gene\n",
    "    gene_order = pd.read_csv(f\"{subdirectory}/ref/geneEx-h38_human_genes_pos.txt\", sep=\"\\t\", header=None, index_col=0)\n",
    "    gene_order.columns = [\"chromosome\", \"start\", \"end\"]\n",
    "    adata.var = pd.merge(adata.var, gene_order, left_index=True, right_index=True)\n",
    "\n",
    "    # remove NA\n",
    "    adata = adata[: , adata.var.chromosome.notna()] \n",
    "\n",
    "    # delete duplicated index\n",
    "    duplicate_index = adata.var.index.duplicated()\n",
    "    adata = adata[:, ~duplicate_index]\n",
    "\n",
    "    # sort by chromosome and start\n",
    "    adata.var = adata.var.sort_values(by=['chromosome','start'])\n",
    "\n",
    "    # remove IGKC and IGHG1\n",
    "    adata = adata[:, ~adata.var_names.isin(['IGKC','IGHG1'])].copy()\n",
    "\n",
    "    # normalize the data\n",
    "    sc.pp.log1p(adata)\n",
    "    \n",
    "    # run infercnv\n",
    "    cnv.tl.infercnv(\n",
    "        adata,\n",
    "        reference_key=\"annotations\",\n",
    "        reference_cat=['Fibroblast', 'Endothelial', 'Macrophage',\n",
    "                        'DC', 'Neutrophil', 'T', 'NK', 'Mast', 'Others'],\n",
    "        window_size=190,\n",
    "        step=1,\n",
    "        n_jobs=32,\n",
    "    )\n",
    "\n",
    "    # randomly select 5000 cells to draw the cnv heatmap\n",
    "    num_cells = 5000\n",
    "    all_cells = list(adata.obs_names)\n",
    "    selected_cells = random.sample(all_cells, num_cells)\n",
    "    subset_adata = adata[selected_cells]\n",
    "    cnv.pl.chromosome_heatmap(\n",
    "        subset_adata, groupby=\"annotations\", dendrogram=True)\n",
    "    plt.savefig(f\"/{subdirectory}_chromosome_on_all_cells.pdf\".format(subdirectory), bbox_inches='tight')\n",
    "    del subset_adata\n",
    "    gc.collect()\n",
    "\n",
    "    # annotate the cnv status\n",
    "    adata.obs[\"cnv_status\"] = \"normal\"\n",
    "    adata.obs.loc[adata.obs[\"annotations\"].isin([\"Malignant\"]), \"cnv_status\"] = (\n",
    "        \"tumor\"\n",
    "    )\n",
    "    \n",
    "    # save the result of the all cells\n",
    "    adata.obs['in_tissue'] = adata.obs['in_tissue'].astype(str)\n",
    "    adata.obsm['spatial'] = adata.obsm['spatial'].astype(str)\n",
    "    adata.obs['array_row'] = adata.obs['array_row'].astype(str)\n",
    "    adata.obs['array_col'] = adata.obs['array_col'].astype(str)\n",
    "    adata.write_h5ad(\n",
    "        f\"/{subdirectory}/adata_infercnv.h5ad\".format(subdirectory))"
   ]
  },
  {
   "cell_type": "markdown",
   "metadata": {},
   "source": [
    "## a. Clusters"
   ]
  },
  {
   "cell_type": "code",
   "execution_count": null,
   "metadata": {},
   "outputs": [],
   "source": [
    "# Run CNV analysis for each sample\n",
    "for subdirectory in sampleName:\n",
    "\n",
    "    print(\"=================== process =============\", subdirectory)\n",
    "\n",
    "    # read adata file\n",
    "    adata = sc.read_h5ad(f\"/{subdirectory}/adata_infercnv.h5ad\")\n",
    "    adata.obs['in_tissue'] = adata.obs['in_tissue'].astype(float)\n",
    "    adata.obsm['spatial'] = adata.obsm['spatial'].astype(float)\n",
    "    adata.obs['array_row'] = adata.obs['array_row'].astype(float)\n",
    "    adata.obs['array_col'] = adata.obs['array_col'].astype(float)\n",
    "    \n",
    "    # choose malignant cells\n",
    "    bdata = adata[adata.obs[\"cnv_status\"] == \"tumor\", :]\n",
    "\n",
    "    # clustering the malignant cells\n",
    "    cnv.tl.pca(bdata, n_comps=20)\n",
    "    cnv.pp.neighbors(bdata)\n",
    "    cnv.tl.leiden(\n",
    "        bdata,\n",
    "        resolution=0.6,\n",
    "        random_state=0,\n",
    "        n_iterations=2,\n",
    "        directed=False,\n",
    "    )\n",
    "\n",
    "    # plot the cnv heatmap of the malignant cells\n",
    "    cnv.pl.chromosome_heatmap(bdata, groupby=\"cnv_leiden\", show=False)\n",
    "    plt.savefig(f\"/{subdirectory}_chromosome_on_malignant.pdf\".format(\n",
    "        subdirectory), dpi=300, bbox_inches='tight')\n",
    "    \n",
    "    # plot the spatial distribution of the malignant cells\n",
    "    sc.pl.spatial(bdata, color='cnv_leiden', img_key=None, show=False)\n",
    "    plt.savefig(f\"/{subdirectory}_spatial_cnv.pdf\".format(\n",
    "        subdirectory), dpi=300, bbox_inches='tight')\n",
    "\n",
    "    # save the result of the malignant cells\n",
    "    bdata.obs['in_tissue'] = bdata.obs['in_tissue'].astype(str)\n",
    "    bdata.obsm['spatial'] = bdata.obsm['spatial'].astype(str)\n",
    "    bdata.obs['array_row'] = bdata.obs['array_row'].astype(str)\n",
    "    bdata.obs['array_col'] = bdata.obs['array_col'].astype(str)\n",
    "    bdata.write_h5ad(\n",
    "        f\"/{subdirectory}/filter_malig_cnv.h5ad\")"
   ]
  },
  {
   "cell_type": "markdown",
   "metadata": {},
   "source": [
    "## b. Scores"
   ]
  },
  {
   "cell_type": "code",
   "execution_count": null,
   "metadata": {},
   "outputs": [],
   "source": [
    "# compute CNV score of malignant cell clusters\n",
    "col_names = []\n",
    "\n",
    "for subdirectory in sampleName:\n",
    "    print(\"=================== process =============\", subdirectory)\n",
    "    \n",
    "    # read adata file\n",
    "    adata = sc.read_h5ad(f\"/{subdirectory}/filter_malig_cnv.h5ad\")\n",
    "    adata.obs['in_tissue'] = adata.obs['in_tissue'].astype(float)\n",
    "    adata.obsm['spatial'] = adata.obsm['spatial'].astype(float)\n",
    "    adata.obs['array_row'] = adata.obs['array_row'].astype(float)\n",
    "    adata.obs['array_col'] = adata.obs['array_col'].astype(float)\n",
    "\n",
    "    # compute the mean of cnv score of all cells in each cnv_leiden\n",
    "    cnv_leiden_clusters = np.unique(adata.obs['cnv_leiden'])\n",
    "    results = []\n",
    "    for cluster in cnv_leiden_clusters:\n",
    "        col_names.append(subdirectory + '_' + str(cluster))\n",
    "        cluster_indices = np.where(adata.obs['cnv_leiden'] == cluster)[0]\n",
    "        cluster_cnv = adata.obsm['X_cnv'][cluster_indices]\n",
    "        cluster_sum_normalized = np.mean(cluster_cnv, axis=0)\n",
    "        results.append(cluster_sum_normalized)\n",
    "    \n",
    "    # combine the X matrix\n",
    "    X = np.transpose(np.concatenate(np.asarray(results), axis=0))\n",
    "    X_total = np.concatenate((X_total, X), axis=1)\n",
    "\n",
    "    cnv_leiden_clusters = np.unique(adata.obs['cnv_leiden'])\n",
    "    for cluster in cnv_leiden_clusters:\n",
    "        col_names.append(f'{subdirectory}_' + str(cluster))"
   ]
  },
  {
   "cell_type": "code",
   "execution_count": null,
   "metadata": {},
   "outputs": [],
   "source": [
    "# get the row names\n",
    "target_chromosomes = ['chrM', 'chrX', 'chrY']\n",
    "row_names = adata.var_names[~np.isin(adata.var['chromosome'], target_chromosomes)] #行名\n",
    "\n",
    "# create and restore the combined matrix\n",
    "cnv = pd.DataFrame(X_total, index=row_names, columns=col_names)\n",
    "cnv.to_csv('CNV_sum_filter.csv')"
   ]
  },
  {
   "cell_type": "markdown",
   "metadata": {},
   "source": [
    "## c. Levels"
   ]
  },
  {
   "cell_type": "code",
   "execution_count": null,
   "metadata": {},
   "outputs": [],
   "source": [
    "for subdirectory in sampleName:\n",
    "\n",
    "    # read adata file\n",
    "    adata = sc.read_h5ad(f\"{subdirectory}/adata_infercnv.h5ad\")\n",
    "    adata.obs['in_tissue'] = adata.obs['in_tissue'].astype(float)\n",
    "    adata.obsm['spatial'] = adata.obsm['spatial'].astype(float)\n",
    "    adata.obs['array_row'] = adata.obs['array_row'].astype(float)\n",
    "    adata.obs['array_col'] = adata.obs['array_col'].astype(float)\n",
    "    adata = adata[adata.obs['annotations'].isin(['Malignant', 'Epithelial'])]\n",
    "\n",
    "    # define cnv levels\n",
    "    min_value = np.min(adata.obs['cnv_score'])\n",
    "    max_value = np.max(adata.obs['cnv_score'])\n",
    "    q1 = np.percentile(adata.obs['cnv_score'], 25)\n",
    "    q2 = np.percentile(adata.obs['cnv_score'], 50)\n",
    "    q3 = np.percentile(adata.obs['cnv_score'], 75)\n",
    "    bounds = [min_value, q1, q2, q3, max_value]\n",
    "    interval_labels = ['Bottom', 'Lower-Mid', 'Upper-Mid', 'Top']\n",
    "    adata.obs['cnv_score_interval'] = pd.cut(adata.obs['cnv_score'], bins=bounds, labels=interval_labels, include_lowest=True)\n",
    "\n",
    "    # the color of each level\n",
    "    colors = ['#781c68', '#b79ad8',  '#ffce94', '#ff9c2b']\n",
    "    cmap = ListedColormap(colors)\n",
    "    norm = BoundaryNorm(bounds, cmap.N)\n",
    "\n",
    "    # plot\n",
    "    sc.pl.spatial(adata, color='cnv_score_interval', palette=colors, img_key=None, show=False, size=1.4, frameon=False)\n",
    "    plt.savefig(f\"/{subdirectory}_score_interval_malig.tiff\", format=\"tiff\", bbox_inches='tight')"
   ]
  },
  {
   "cell_type": "markdown",
   "metadata": {},
   "source": [
    "## d. States"
   ]
  },
  {
   "cell_type": "code",
   "execution_count": null,
   "metadata": {},
   "outputs": [],
   "source": [
    "# read the CNV score matrix\n",
    "cnv = pd.read_csv(\"CNV_sum_filter.csv\", index_col=0, header=0)"
   ]
  },
  {
   "cell_type": "code",
   "execution_count": null,
   "metadata": {},
   "outputs": [],
   "source": [
    "# transpose the DataFrame so that the sample name becomes the row and the gene becomes the column\n",
    "cnv_transposed = cnv.transpose()\n",
    "\n",
    "# compute the variance of each gene\n",
    "df = cnv_transposed\n",
    "gene_variances = df.var(axis=0)\n",
    "\n",
    "# choose top 2000 high variance genes\n",
    "high_var_genes = gene_variances.nlargest(2000).index\n",
    "\n",
    "# select the high variance genes\n",
    "merge_df_transposed = cnv_transposed.loc[:, high_var_genes]"
   ]
  },
  {
   "cell_type": "code",
   "execution_count": null,
   "metadata": {},
   "outputs": [],
   "source": [
    "# perform hierarchical clustering\n",
    "Z = linkage(merge_df_transposed, method='ward')\n",
    "\n",
    "# plot the hierarchical clustering dendrogram\n",
    "plt.figure(figsize=(30, 5), dpi=500)\n",
    "dendrogram(Z, labels=merge_df_transposed.index)\n",
    "plt.title('Hierarchical Clustering Dendrogram')\n",
    "plt.xlabel('Sample')\n",
    "plt.ylabel('Distance')\n",
    "plt.show()"
   ]
  },
  {
   "cell_type": "code",
   "execution_count": null,
   "metadata": {},
   "outputs": [],
   "source": [
    "# choose a distance threshold\n",
    "distance_threshold = 2.4\n",
    "\n",
    "# use fcluster to group based on distance threshold\n",
    "clusters = fcluster(Z, t=distance_threshold, criterion='distance')\n",
    "\n",
    "# add the clustering result to the original DataFrame\n",
    "merge_df_transposed['Cluster'] = clusters\n",
    "\n",
    "# plot the hierarchical clustering dendrogram\n",
    "plt.figure(figsize=(40,5))\n",
    "dendrogram(Z, labels=merge_df_transposed.index, color_threshold=distance_threshold)\n",
    "plt.title('Hierarchical Clustering Dendrogram (truncated)')\n",
    "plt.xlabel('Sample')\n",
    "plt.ylabel('Distance')\n",
    "plt.axhline(y=distance_threshold, color='r', linestyle='--')\n",
    "plt.show()"
   ]
  },
  {
   "cell_type": "code",
   "execution_count": null,
   "metadata": {},
   "outputs": [],
   "source": [
    "# save the clustering result\n",
    "cluster = merge_df_transposed[['Cluster']]\n",
    "cluster.to_csv(f\"cnv_clu5_th2.4.csv\")"
   ]
  },
  {
   "cell_type": "markdown",
   "metadata": {},
   "source": [
    "## e. Similarity"
   ]
  },
  {
   "cell_type": "code",
   "execution_count": null,
   "metadata": {},
   "outputs": [],
   "source": [
    "# import packages\n",
    "from sklearn.metrics import pairwise_distances"
   ]
  },
  {
   "cell_type": "code",
   "execution_count": null,
   "metadata": {},
   "outputs": [],
   "source": [
    "# read the wes data\n",
    "wes_all = pd.read_csv(\"./ref/wes_cn.csv\", sep=\",\")"
   ]
  },
  {
   "cell_type": "code",
   "execution_count": null,
   "metadata": {},
   "outputs": [],
   "source": [
    "cosinesimilarity_df = pd.DataFrame()\n",
    "\n",
    "# calculate the cosine similarity of each sample\n",
    "for variable in sampleName:\n",
    "    print(variable)\n",
    "\n",
    "    # get wes name of the variable sample\n",
    "    wesName = meta[meta['sampleName'] == variable]['rnaID'].astype(str).str.cat(sep=',')\n",
    "    wesName = re.sub(r'(\\d+)R(\\d+)(?![\\d(])', r'\\1W\\2', re.sub(r'\\(.*\\)', '', wesName))\n",
    "\n",
    "    if wesName in wes_all.columns:\n",
    "\n",
    "        # read the adata file and get the HD CNV matrix\n",
    "        adata = sc.read_h5ad(f\"{wesName}/filter_malig_cnv.h5ad\")\n",
    "        adata = adata[:,~adata.var[\"chromosome\"].isin(['chrM','chrX','chrY'])]\n",
    "        X_cnv = adata.obsm['X_cnv'][:, [i for i, gene_id in enumerate(adata.var['gene_ids']) if gene_id in wes_all['gene_id'].values]]\n",
    "        hd_cnv = np.asarray(np.mean(X_cnv, axis=0))\n",
    "\n",
    "        # read the wes data and gete the WES CNV matrix\n",
    "        wes = wes_all[['gene_id', wesName]].copy()\n",
    "        wes = wes[wes.gene_id.isin(adata.var[\"gene_ids\"])].copy()\n",
    "        wes = wes.set_index('gene_id').loc[adata[:,adata.var[\"gene_ids\"].isin(wes.gene_id)].var[\"gene_ids\"]].reset_index()\n",
    "        wes_cnv = wes[wesName] - 2\n",
    "        wes_cnv = wes_cnv.to_numpy().reshape(1, -1)\n",
    "\n",
    "        # compute the cosine similarity\n",
    "        score = 1 - pairwise_distances(X=wes_cnv, Y=hd_cnv, metric=\"cosine\").flatten()\n",
    "        \n",
    "        # add the result to the DataFrame\n",
    "        cosinesimilarity_df.loc[variable, 'cosinesimilarity'] = score[0]"
   ]
  },
  {
   "cell_type": "code",
   "execution_count": null,
   "metadata": {},
   "outputs": [],
   "source": [
    "# save the result\n",
    "meta1 = meta.set_index('sampleName')\n",
    "df = pd.concat([cosinesimilarity_df , meta1['Tumor_Type']], axis=1)\n",
    "df.to_csv('./cosinesimilarity_all.csv')"
   ]
  },
  {
   "cell_type": "code",
   "execution_count": null,
   "metadata": {},
   "outputs": [],
   "source": []
  }
 ],
 "metadata": {
  "kernelspec": {
   "display_name": "HD",
   "language": "python",
   "name": "python3"
  },
  "language_info": {
   "codemirror_mode": {
    "name": "ipython",
    "version": 3
   },
   "file_extension": ".py",
   "mimetype": "text/x-python",
   "name": "python",
   "nbconvert_exporter": "python",
   "pygments_lexer": "ipython3",
   "version": "3.9.19"
  }
 },
 "nbformat": 4,
 "nbformat_minor": 2
}
