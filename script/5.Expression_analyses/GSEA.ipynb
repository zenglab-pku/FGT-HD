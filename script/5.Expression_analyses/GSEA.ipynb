{
 "cells": [
  {
   "cell_type": "markdown",
   "metadata": {},
   "source": [
    "## This script is used to do GSEA using DEG results"
   ]
  },
  {
   "cell_type": "code",
   "execution_count": null,
   "metadata": {
    "vscode": {
     "languageId": "r"
    }
   },
   "outputs": [],
   "source": [
    "suppressMessages(library(ggplot2))\n",
    "suppressMessages(library(ggpubr))\n",
    "suppressMessages(library(fgsea))"
   ]
  },
  {
   "cell_type": "code",
   "execution_count": null,
   "metadata": {
    "vscode": {
     "languageId": "r"
    }
   },
   "outputs": [],
   "source": [
    "set.seed(123)"
   ]
  },
  {
   "cell_type": "markdown",
   "metadata": {},
   "source": [
    "### GSEA on DEGs of cluster 12 malignant cells"
   ]
  },
  {
   "cell_type": "code",
   "execution_count": null,
   "metadata": {
    "vscode": {
     "languageId": "r"
    }
   },
   "outputs": [],
   "source": [
    "DEG_result_path <- \"../out/DEGs/malignant_cells\"\n",
    "GSEA_result_path <- \"../out/GSEA/malignant_cells\"\n"
   ]
  },
  {
   "cell_type": "code",
   "execution_count": null,
   "metadata": {
    "vscode": {
     "languageId": "r"
    }
   },
   "outputs": [],
   "source": [
    "cluster <- read.csv(file.path(result_path,'group_12.csv'), row.names=1)\n",
    "\n",
    "df <- cluster$logfoldchanges\n",
    "names(df) <- rownames(cluster)\n",
    "df <- sort(df,decreasing=TRUE)\n",
    "\n",
    "results_GSEA <- GSEA(df, TERM2GENE = h_geneset,pvalueCutoff = 1)\n",
    "GSEA_df <- as.data.frame(results_GSEA)\n",
    "write.csv(GSEA_df, file.path(GSEA_result_path,\"cluster12_GSEA.csv\"), quote=FALSE, sep = \"\\t\")\n"
   ]
  },
  {
   "cell_type": "markdown",
   "metadata": {},
   "source": [
    "### GSEA on DEGs across malignant cells in CIN-high niche from different sample groups"
   ]
  },
  {
   "cell_type": "code",
   "execution_count": null,
   "metadata": {
    "vscode": {
     "languageId": "r"
    }
   },
   "outputs": [],
   "source": [
    "DEG_result_path <- \"../out/DEGs/sample_group_malignant\"\n",
    "GSEA_result_path <- \"../out/GSEA/sample_group_malignant\""
   ]
  },
  {
   "cell_type": "code",
   "execution_count": null,
   "metadata": {
    "vscode": {
     "languageId": "r"
    }
   },
   "outputs": [],
   "source": [
    "cluster <- read.csv(file.path(result_path,'group_12.csv'), row.names=1)\n",
    "\n",
    "df <- cluster$logfoldchanges\n",
    "names(df) <- rownames(cluster)\n",
    "df <- sort(df,decreasing=TRUE)\n",
    "\n",
    "results_GSEA <- GSEA(df, TERM2GENE = h_geneset,pvalueCutoff = 1)\n",
    "GSEA_df <- as.data.frame(results_GSEA)\n",
    "write.csv(GSEA_df, file.path(GSEA_result_path,\"cluster12_GSEA.csv\"), quote=FALSE, sep = \"\\t\")\n"
   ]
  },
  {
   "cell_type": "code",
   "execution_count": null,
   "metadata": {
    "vscode": {
     "languageId": "r"
    }
   },
   "outputs": [],
   "source": []
  }
 ],
 "metadata": {
  "kernelspec": {
   "display_name": "R",
   "language": "R",
   "name": "ir"
  },
  "language_info": {
   "name": "R"
  }
 },
 "nbformat": 4,
 "nbformat_minor": 2
}
