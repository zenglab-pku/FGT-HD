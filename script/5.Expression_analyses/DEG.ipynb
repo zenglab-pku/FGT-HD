{
 "cells": [
  {
   "cell_type": "markdown",
   "metadata": {},
   "source": [
    "## This script is used to analyse DEG between cells from different groups"
   ]
  },
  {
   "cell_type": "code",
   "execution_count": 1,
   "metadata": {},
   "outputs": [],
   "source": [
    "import warnings\n",
    "import pandas as pd\n",
    "import scanpy as sc\n",
    "import os\n",
    "warnings.filterwarnings(\"ignore\", category=FutureWarning)\n",
    "warnings.filterwarnings(\"ignore\", category=UserWarning)\n"
   ]
  },
  {
   "cell_type": "code",
   "execution_count": 2,
   "metadata": {},
   "outputs": [],
   "source": [
    "sample_list = pd.read_csv(\"HD-OV 100.csv\")\n"
   ]
  },
  {
   "cell_type": "markdown",
   "metadata": {},
   "source": [
    "### DEGs among niches in HGSOC"
   ]
  },
  {
   "cell_type": "code",
   "execution_count": null,
   "metadata": {},
   "outputs": [],
   "source": [
    "result_path = \"../out/DEGs/all_niches\"\n",
    "top_n_genes = 10"
   ]
  },
  {
   "cell_type": "code",
   "execution_count": null,
   "metadata": {},
   "outputs": [],
   "source": [
    "\n",
    "adata = sc.read_h5ad(\"clustered_adata_8um.h5ad\")\n",
    "adata.obs['in_tissue'] = adata.obs['in_tissue'].astype(float)\n",
    "adata.obs['array_row'] = adata.obs['array_row'].astype(float)\n",
    "adata.obs['array_col'] = adata.obs['array_col'].astype(float)\n",
    "adata.obsm['spatial'] = adata.obsm['spatial'].astype(float)\n",
    "adata.X = adata.layers[\"counts\"]\n",
    "\n",
    "sc.pp.normalize_total(adata, target_sum=1e4)\n",
    "sc.pp.log1p(adata)\n",
    "sc.tl.rank_genes_groups(adata, 'cluster_cellcharter', method='t-test')\n",
    "results = adata.uns['rank_genes_groups']\n",
    "groups = results['names'].dtype.names\n",
    "\n",
    "for group in groups:\n",
    "    df = pd.DataFrame({\n",
    "        'names': results['names'][group],\n",
    "        'scores': results['scores'][group],\n",
    "        'pvals': results['pvals'][group],\n",
    "        'pvals_adj': results['pvals_adj'][group],\n",
    "        'logfoldchanges': results['logfoldchanges'][group]\n",
    "    })\n",
    "\n",
    "    df.to_csv(f'{result_path}/group_{group}.csv', index=False)\n",
    "\n",
    "names_list = []\n",
    "for file_name in os.listdir(result_path):\n",
    "    if file_name.startswith('group_'):\n",
    "        file_path = os.path.join(result_path, file_name)\n",
    "        df = pd.read_csv(file_path)\n",
    "        top_names = df.sort_values(by='logfoldchanges', ascending=False).head(top_n_genes)['names'].tolist()\n",
    "        names_list.extend(top_names)\n",
    "\n",
    "genes_of_interest = list(dict.fromkeys(names_list))\n",
    "adata.obs['cluster_sample'] = adata.obs['cluster_cellcharter'].astype(str) + '_' + adata.obs['sample'].astype(str)\n",
    "adata_inte = adata[:, genes_of_interest].copy()\n",
    "\n",
    "avg_expression = pd.DataFrame(\n",
    "    adata_inte.X.toarray(),\n",
    "    index=adata_inte.obs['cluster_sample'],\n",
    "    columns=genes_of_interest\n",
    ").groupby('cluster_sample').mean()\n",
    "avg_expression = avg_expression.T\n",
    "avg_expression.to_csv(f\"{result_path}/top_FC_average_expression_per_cluster_sample.csv\")\n"
   ]
  },
  {
   "cell_type": "markdown",
   "metadata": {},
   "source": [
    "### DEGs among malignant cells in HGSOC"
   ]
  },
  {
   "cell_type": "code",
   "execution_count": null,
   "metadata": {},
   "outputs": [],
   "source": [
    "result_path = \"../out/DEGs/malignant_cells\""
   ]
  },
  {
   "cell_type": "code",
   "execution_count": null,
   "metadata": {},
   "outputs": [],
   "source": [
    "\n",
    "adata = sc.read_h5ad(\"clustered_adata_8um.h5ad\")\n",
    "adata.obs['in_tissue'] = adata.obs['in_tissue'].astype(float)\n",
    "adata.obs['array_row'] = adata.obs['array_row'].astype(float)\n",
    "adata.obs['array_col'] = adata.obs['array_col'].astype(float)\n",
    "adata.obsm['spatial'] = adata.obsm['spatial'].astype(float)\n",
    "adata.X = adata.layers[\"counts\"]\n",
    "\n",
    "adata = adata[(adata.obs[\"cluster_cellcharter\"].isin([1, 3, 8, 9, 10, 11, 12, 16, 17])) & (adata.obs[\"annotations\"]==\"Malignant\")].copy()\n",
    "sc.pp.normalize_total(adata, target_sum=1e4)\n",
    "sc.pp.log1p(adata)\n",
    "sc.tl.rank_genes_groups(adata, 'cluster_cellcharter', method='t-test')\n",
    "results = adata.uns['rank_genes_groups']\n",
    "groups = results['names'].dtype.names\n",
    "\n",
    "for group in groups:\n",
    "    df = pd.DataFrame({\n",
    "        'names': results['names'][group],\n",
    "        'scores': results['scores'][group],\n",
    "        'pvals': results['pvals'][group],\n",
    "        'pvals_adj': results['pvals_adj'][group],\n",
    "        'logfoldchanges': results['logfoldchanges'][group]\n",
    "    })\n",
    "\n",
    "    df.to_csv(f'{result_path}/group_{group}.csv', index=False)"
   ]
  },
  {
   "cell_type": "markdown",
   "metadata": {},
   "source": [
    "### DEGs of malignant cells in CIN-high niche"
   ]
  },
  {
   "cell_type": "markdown",
   "metadata": {},
   "source": [
    "#### Compared by treatment status in recurrence samples"
   ]
  },
  {
   "cell_type": "code",
   "execution_count": null,
   "metadata": {},
   "outputs": [],
   "source": [
    "result_path = \"../out/DEGs/malignant_in_recurrence\""
   ]
  },
  {
   "cell_type": "code",
   "execution_count": null,
   "metadata": {},
   "outputs": [],
   "source": [
    "adata = sc.read_h5ad(\"clustered_adata_8um.h5ad\")\n",
    "adata.obs['in_tissue'] = adata.obs['in_tissue'].astype(float)\n",
    "adata.obs['array_row'] = adata.obs['array_row'].astype(float)\n",
    "adata.obs['array_col'] = adata.obs['array_col'].astype(float)\n",
    "adata.obsm['spatial'] = adata.obsm['spatial'].astype(float)\n",
    "adata.X = adata.layers[\"counts\"]\n",
    "\n",
    "recurrence_adata = adata[adata.obs[\"relapse_status\"]==\"recurrence\",]\n",
    "recurrence_adata = recurrence_adata[recurrence_adata.obs[\"treatment_status\"]!=\"undefined\",]\n",
    "sc.pp.normalize_total(adata, target_sum=1e4)\n",
    "sc.pp.log1p(adata)\n",
    "sc.tl.rank_genes_groups(adata, 'treatment_status', method='t-test')\n",
    "results = adata.uns['rank_genes_groups']\n",
    "groups = results['names'].dtype.names\n",
    "\n",
    "for group in groups:\n",
    "    df = pd.DataFrame({\n",
    "        'names': results['names'][group],\n",
    "        'scores': results['scores'][group],\n",
    "        'pvals': results['pvals'][group],\n",
    "        'pvals_adj': results['pvals_adj'][group],\n",
    "        'logfoldchanges': results['logfoldchanges'][group]\n",
    "    })\n",
    "\n",
    "    df.to_csv(f'{result_path}/group_{group}.csv', index=False)"
   ]
  },
  {
   "cell_type": "markdown",
   "metadata": {},
   "source": [
    "#### Compared by recurrence status in pre-treatment samples"
   ]
  },
  {
   "cell_type": "code",
   "execution_count": null,
   "metadata": {},
   "outputs": [],
   "source": [
    "result_path = \"../out/DEGs/malignant_in_pretreatment\""
   ]
  },
  {
   "cell_type": "code",
   "execution_count": null,
   "metadata": {},
   "outputs": [],
   "source": [
    "adata = sc.read_h5ad(\"clustered_adata_8um.h5ad\")\n",
    "adata.obs['in_tissue'] = adata.obs['in_tissue'].astype(float)\n",
    "adata.obs['array_row'] = adata.obs['array_row'].astype(float)\n",
    "adata.obs['array_col'] = adata.obs['array_col'].astype(float)\n",
    "adata.obsm['spatial'] = adata.obsm['spatial'].astype(float)\n",
    "adata.X = adata.layers[\"counts\"]\n",
    "\n",
    "recurrence_adata = adata[adata.obs[\"treatment_status\"]==\"pretreatment\",]\n",
    "recurrence_adata = recurrence_adata[recurrence_adata.obs[\"relapse_status\"]!=\"undefined\",]\n",
    "sc.pp.normalize_total(adata, target_sum=1e4)\n",
    "sc.pp.log1p(adata)\n",
    "sc.tl.rank_genes_groups(adata, 'relapse_status', method='t-test')\n",
    "results = adata.uns['rank_genes_groups']\n",
    "groups = results['names'].dtype.names\n",
    "\n",
    "for group in groups:\n",
    "    df = pd.DataFrame({\n",
    "        'names': results['names'][group],\n",
    "        'scores': results['scores'][group],\n",
    "        'pvals': results['pvals'][group],\n",
    "        'pvals_adj': results['pvals_adj'][group],\n",
    "        'logfoldchanges': results['logfoldchanges'][group]\n",
    "    })\n",
    "\n",
    "    df.to_csv(f'{result_path}/group_{group}.csv', index=False)"
   ]
  },
  {
   "cell_type": "markdown",
   "metadata": {},
   "source": [
    "### DEGs among fibroblasts in HGSOC"
   ]
  },
  {
   "cell_type": "code",
   "execution_count": null,
   "metadata": {},
   "outputs": [],
   "source": [
    "result_path = \"../out/DEGs/fibroblasts\""
   ]
  },
  {
   "cell_type": "code",
   "execution_count": null,
   "metadata": {},
   "outputs": [],
   "source": [
    "adata = sc.read_h5ad(\"clustered_adata_8um.h5ad\")\n",
    "adata.obs['in_tissue'] = adata.obs['in_tissue'].astype(float)\n",
    "adata.obs['array_row'] = adata.obs['array_row'].astype(float)\n",
    "adata.obs['array_col'] = adata.obs['array_col'].astype(float)\n",
    "adata.obsm['spatial'] = adata.obsm['spatial'].astype(float)\n",
    "adata.X = adata.layers[\"counts\"]"
   ]
  },
  {
   "cell_type": "code",
   "execution_count": null,
   "metadata": {},
   "outputs": [],
   "source": [
    "adata.obs['fibro_niche'] = adata.obs['cluster_cellcharter'].apply(\n",
    "    lambda x: 'niche_3_20' if x in [3,20] else 'no_niche_3_20'\n",
    ")\n",
    "adata = adata[adata.obs[\"annotations\"]==\"Fibroblast\"].copy()\n",
    "\n",
    "sc.pp.normalize_total(adata, target_sum=1e4)\n",
    "sc.pp.log1p(adata)\n",
    "sc.tl.rank_genes_groups(adata, 'fibro_niche', method='t-test')\n",
    "results = adata.uns['rank_genes_groups']\n",
    "groups = results['names'].dtype.names\n",
    "\n",
    "for group in groups:\n",
    "    df = pd.DataFrame({\n",
    "        'names': results['names'][group],\n",
    "        'scores': results['scores'][group],\n",
    "        'pvals': results['pvals'][group],\n",
    "        'pvals_adj': results['pvals_adj'][group],\n",
    "        'logfoldchanges': results['logfoldchanges'][group]\n",
    "    })\n",
    "\n",
    "    df.to_csv(f'{result_path}/group_{group}.csv', index=False)"
   ]
  },
  {
   "cell_type": "code",
   "execution_count": null,
   "metadata": {},
   "outputs": [],
   "source": []
  }
 ],
 "metadata": {
  "kernelspec": {
   "display_name": "HD",
   "language": "python",
   "name": "python3"
  },
  "language_info": {
   "codemirror_mode": {
    "name": "ipython",
    "version": 3
   },
   "file_extension": ".py",
   "mimetype": "text/x-python",
   "name": "python",
   "nbconvert_exporter": "python",
   "pygments_lexer": "ipython3",
   "version": "3.9.19"
  }
 },
 "nbformat": 4,
 "nbformat_minor": 2
}
