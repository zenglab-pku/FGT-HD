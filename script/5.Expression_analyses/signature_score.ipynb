{
 "cells": [
  {
   "cell_type": "markdown",
   "metadata": {},
   "source": [
    "## This script is used to calculate signature scores in bins"
   ]
  },
  {
   "cell_type": "code",
   "execution_count": null,
   "metadata": {},
   "outputs": [],
   "source": [
    "import warnings\n",
    "import pandas as pd\n",
    "import scanpy as sc\n",
    "import squidpy as sq\n",
    "import numpy as np\n",
    "import os\n",
    "warnings.filterwarnings(\"ignore\", category=FutureWarning)\n",
    "warnings.filterwarnings(\"ignore\", category=UserWarning)\n"
   ]
  },
  {
   "cell_type": "code",
   "execution_count": null,
   "metadata": {},
   "outputs": [],
   "source": [
    "def read_gmt_file(gmt_path):\n",
    "    gene_sets = {}\n",
    "    with open(gmt_path, 'r') as file:\n",
    "        for line in file:\n",
    "            split_line = line.strip().split('\\t')\n",
    "            pathway_name = split_line[0]\n",
    "            genes = split_line[2:]\n",
    "            gene_sets[pathway_name] = genes\n",
    "    return gene_sets\n",
    "\n",
    "\n",
    "def score_cells(adata, signature_name, genes):\n",
    "    adata.obs[signature_name] = np.nan\n",
    "    for sample_id in adata.obs['sample'].cat.categories:\n",
    "        adata_sample = adata[adata.obs['sample'] == sample_id].copy()\n",
    "        sc.tl.score_genes(adata_sample, gene_list=[x for x in genes if x in adata_sample.var_names], score_name=signature_name)\n",
    "        adata.obs[signature_name][adata.obs['sample'] == sample_id] = adata_sample.obs[signature_name]\n"
   ]
  },
  {
   "cell_type": "markdown",
   "metadata": {},
   "source": [
    "### cancer-related signatures in malignant niches"
   ]
  },
  {
   "cell_type": "code",
   "execution_count": null,
   "metadata": {},
   "outputs": [],
   "source": [
    "gmt_path = './ref/integrated_geneset.gmt'\n",
    "gene_sets = read_gmt_file(gmt_path)"
   ]
  },
  {
   "cell_type": "code",
   "execution_count": null,
   "metadata": {},
   "outputs": [],
   "source": [
    "pathways = [\"HALLMARK_ANGIOGENESIS'\",\"HALLMARK_APOPTOSIS\",\"HALLMARK_COMPLEMENT\",\"HALLMARK_DNA_REPAIR\",\"HALLMARK_E2F_TARGETS\",\"HALLMARK_EPITHELIAL_MESENCHYMAL_TRANSITION\",\"HALLMARK_G2M_CHECKPOINT\",\n",
    "            \"HALLMARK_GLYCOLYSIS\",\"HALLMARK_HYPOXIA\",\"HALLMARK_IL2_STAT5_SIGNALING\",\"HALLMARK_IL6_JAK_STAT3_SIGNALING\",\"HALLMARK_INFLAMMATORY_RESPONSE\",\"HALLMARK_KRAS_SIGNALING_UP\",\n",
    "            \"HALLMARK_MTORC1_SIGNALING\",\"HALLMARK_MYC_TARGETS_V1\",\"HALLMARK_MYC_TARGETS_V2\",\"HALLMARK_OXIDATIVE_PHOSPHORYLATION\",\"HALLMARK_P53_PATHWAY\",\"HALLMARK_PI3K_AKT_MTOR_SIGNALING\",\n",
    "            \"HALLMARK_TGF_BETA_SIGNALING\",\"HALLMARK_TNFA_SIGNALING_VIA_NFKB\",\"KEGG_CYTOKINE_CYTOKINE_RECEPTOR_INTERACTION\"]\n",
    "filtered_gene_sets = {key: gene_sets[key] for key in gene_sets if key in pathways}\n",
    "\n",
    "adata_HGSOC = sc.read_h5ad(\"./clustered_adata_8um.h5ad\")\n",
    "sq.gr.spatial_neighbors(adata_HGSOC, n_rings=1, library_key='sample', coord_type=\"grid\", n_neighs=8)\n",
    "\n",
    "groups_of_interest = [1, 3, 8, 9, 10, 11, 12, 16, 17]\n",
    "adata = adata_HGSOC[adata_HGSOC.obs[\"cluster_cellcharter\"].isin(groups_of_interest),]\n"
   ]
  },
  {
   "cell_type": "code",
   "execution_count": null,
   "metadata": {},
   "outputs": [],
   "source": [
    "for pathway, genes in filtered_gene_sets.items():\n",
    "    score_cells(adata, pathway, genes)\n"
   ]
  },
  {
   "cell_type": "code",
   "execution_count": null,
   "metadata": {},
   "outputs": [],
   "source": [
    "for signature_name in pathways:\n",
    "    adata.obs[f'{signature_name}_smoothed'] = np.nan*np.ones(adata.shape[0])\n",
    "    adj = adata.obsp['spatial_connectivities']\n",
    "    neighbor_score = (adj @ adata.obs[f'{signature_name}']) / np.array(np.sum(adj, axis=1)).squeeze()\n",
    "    neighbor_score[neighbor_score == float('inf')] = 0\n",
    "\n",
    "    score_smoothed = np.where(neighbor_score != 0, adata.obs[f'{signature_name}'] * 0.5 + neighbor_score * 0.5, adata.obs[f'{signature_name}'])\n",
    "    low = np.nanpercentile(score_smoothed, 2.5)\n",
    "    score_smoothed[score_smoothed < low] = low\n",
    "    high = np.nanpercentile(score_smoothed, 97.5)\n",
    "    score_smoothed[score_smoothed > high] = high\n",
    "\n",
    "    adata.obs[f'{signature_name}_smoothed'] = score_smoothed"
   ]
  },
  {
   "cell_type": "code",
   "execution_count": null,
   "metadata": {},
   "outputs": [],
   "source": [
    "scored_obs = adata.obs\n",
    "scored_obs.to_csv(\"./signature_score_obs.csv\")\n"
   ]
  },
  {
   "cell_type": "markdown",
   "metadata": {},
   "source": [
    "### myCAF score calculation"
   ]
  },
  {
   "cell_type": "code",
   "execution_count": null,
   "metadata": {},
   "outputs": [],
   "source": [
    "geneset = pd.read_csv(\"./CAFs_geneset.csv\", sep='\\t')\n",
    "filtered_genesets = {\n",
    "    row['subtype']: [gene.strip() for gene in row['geneset'].split(', ')]\n",
    "    for _, row in geneset.iterrows()\n",
    "}"
   ]
  },
  {
   "cell_type": "code",
   "execution_count": null,
   "metadata": {},
   "outputs": [],
   "source": [
    "adata = sc.read_h5ad(\"./clustered_adata_8um.h5ad\")\n",
    "fibro_adata = adata[adata.obs[\"annotations\"]==\"Fibroblast\"].copy()\n",
    "fibro_adata.obs[\"sample\"] = fibro_adata.obs[\"sample\"].astype(\"category\")\n",
    "sc.pp.normalize_total(fibro_adata, target_sum=10e4)\n",
    "sc.pp.log1p(fibro_adata)\n"
   ]
  },
  {
   "cell_type": "code",
   "execution_count": null,
   "metadata": {},
   "outputs": [],
   "source": [
    "for pathway, genes in filtered_genesets.items():\n",
    "    print(pathway)\n",
    "    score_cells(fibro_adata, pathway, genes)\n",
    "    "
   ]
  },
  {
   "cell_type": "code",
   "execution_count": null,
   "metadata": {},
   "outputs": [],
   "source": [
    "fibro_adata.obs.to_csv(\"/fibro_obs_wt_score.csv\")\n"
   ]
  },
  {
   "cell_type": "code",
   "execution_count": null,
   "metadata": {},
   "outputs": [],
   "source": []
  }
 ],
 "metadata": {
  "language_info": {
   "name": "python"
  }
 },
 "nbformat": 4,
 "nbformat_minor": 2
}
