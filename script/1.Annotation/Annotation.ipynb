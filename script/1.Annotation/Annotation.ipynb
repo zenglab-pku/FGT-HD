{
 "cells": [
  {
   "cell_type": "markdown",
   "metadata": {},
   "source": [
    "## This script is used to annotate cell types for 8 μm bins based on a marker gene list and to save the results as an H5AD file."
   ]
  },
  {
   "cell_type": "code",
   "execution_count": 1,
   "metadata": {},
   "outputs": [],
   "source": [
    "import warnings\n",
    "import matplotlib.pyplot as plt\n",
    "import numpy as np\n",
    "import scipy.sparse as sp\n",
    "import pandas as pd\n",
    "import anndata as ad\n",
    "import scanpy as sc\n",
    "import squidpy as sq\n",
    "import seaborn as sns\n",
    "warnings.filterwarnings(\"ignore\", category=FutureWarning)\n",
    "warnings.filterwarnings(\"ignore\", category=UserWarning)\n",
    "sc.settings.verbosity = 3\n",
    "\n",
    "import json\n",
    "import pickle\n",
    "import os\n",
    "import argparse\n",
    "\n",
    "from collections import defaultdict\n",
    "from skimage.morphology import dilation, square\n",
    "from multiprocessing import Pool, Manager\n",
    "from tqdm import tqdm\n",
    "import matplotlib.colors as mcolors"
   ]
  },
  {
   "cell_type": "code",
   "execution_count": 2,
   "metadata": {},
   "outputs": [],
   "source": [
    "def compute_relative_abundance(adata, dict_use):\n",
    "    relative_abundances = {}\n",
    "    for cell_type, markers in tqdm(dict_use.items()):\n",
    "        avg_expressions = []\n",
    "        for marker in markers:\n",
    "            if marker not in adata.var_names:\n",
    "                continue\n",
    "            expressed_values = adata[:, marker].X[adata[:, marker].X > 0]\n",
    "            # Check if there are any expressed values\n",
    "            if isinstance(expressed_values, np.ndarray):\n",
    "                num_nonzero = len(expressed_values)\n",
    "            else:  # Assuming it's a sparse matrix\n",
    "                num_nonzero = expressed_values.getnnz()\n",
    "            if num_nonzero > 0:\n",
    "                avg_expressions.append(np.mean(expressed_values))\n",
    "            else:\n",
    "                avg_expressions.append(0)\n",
    "        relative_abundance = np.log10(sum(avg_expressions) + 1e-10)\n",
    "        relative_abundances[cell_type] = 1 / relative_abundance\n",
    "    return relative_abundances\n",
    "\n",
    "\n",
    "def annotate_cells_stage(marker_dict_use, adata, cells_to_annotate=None):\n",
    "    WCT = compute_relative_abundance(adata, marker_dict_use)\n",
    "    annotations = {}\n",
    "    unannotated_cells = []\n",
    "\n",
    "    if cells_to_annotate is None:\n",
    "        cells_to_annotate = adata.obs_names\n",
    "        data_submatrix = adata.X\n",
    "    else:\n",
    "        data_submatrix = adata[cells_to_annotate, :].X\n",
    "\n",
    "    all_scores = np.zeros((len(cells_to_annotate), len(marker_dict_use)))\n",
    "    print(all_scores.shape)\n",
    "    for idx, (cell_type, markers) in enumerate(marker_dict_use.items()):\n",
    "        valid_markers_indices = [\n",
    "            adata.var_names.get_loc(marker)\n",
    "            for marker in markers\n",
    "            if marker in adata.var_names\n",
    "        ]\n",
    "        marker_matrix = data_submatrix[:, valid_markers_indices]\n",
    "        presence_matrix = (marker_matrix > 0).astype(int)\n",
    "        scores = presence_matrix.sum(axis=1) * WCT[cell_type]\n",
    "\n",
    "        all_scores[:, idx] = scores.ravel()\n",
    "    max_scores = np.max(all_scores, axis=1)\n",
    "    max_score_indices = np.argmax(all_scores, axis=1)\n",
    "    cell_types = list(marker_dict_use.keys())\n",
    "    annotations = np.array(\n",
    "        [\n",
    "            cell_types[idx] if score > 0 else \"Others\"\n",
    "            for idx, score in zip(max_score_indices, max_scores)\n",
    "        ]\n",
    "    )\n",
    "    unannotated = [cells_to_annotate[i] for i in np.where(annotations == \"Others\")[0]]\n",
    "    return dict(zip(cells_to_annotate, annotations)), unannotated\n"
   ]
  },
  {
   "cell_type": "code",
   "execution_count": 3,
   "metadata": {},
   "outputs": [],
   "source": [
    "with open(\"./cell_markers.json\", \"r\") as json_file:\n",
    "    markers = json.load(json_file)\n",
    "\n",
    "marker_dict = defaultdict(list)\n",
    "for key in markers.keys():\n",
    "    marker_dict[key].extend(markers[key])\n",
    "for key, value in marker_dict.items():\n",
    "    marker_dict[key] = list(set(marker_dict[key]))\n"
   ]
  },
  {
   "cell_type": "code",
   "execution_count": null,
   "metadata": {},
   "outputs": [],
   "source": [
    "sample_list = pd.read_csv(\"HD-OV 100.csv\", index_col=False)\n",
    "adata_list = []\n",
    "\n",
    "for index, row in sample_list.iterrows():\n",
    "    sample = row['sample_id']\n",
    "    file_path = row['path']\n",
    "    group = row['group']\n",
    "\n",
    "    adata = sc.read_h5ad(f\"{file_path}/outs/adata_8um.h5ad\")\n",
    "    adata.obs['in_tissue'] = adata.obs['in_tissue'].astype(float)\n",
    "    adata.obs['array_row'] = adata.obs['array_row'].astype(float)\n",
    "    adata.obs['array_col'] = adata.obs['array_col'].astype(float)\n",
    "    adata.obsm['spatial'] = adata.obsm['spatial'].astype(float)\n",
    "\n",
    "    sc.pp.calculate_qc_metrics(adata_8um, inplace=True)\n",
    "    adata_8um = adata_8um[(adata_8um.obs['n_genes_by_counts'] > 3) & (adata_8um.obs['total_counts'] > 5) ].copy()\n",
    "\n",
    "    adata.layers['counts'] = adata.X.copy()\n",
    "    sc.pp.normalize_total(adata, target_sum=1e4)\n",
    "    sc.pp.log1p(adata)\n",
    "\n",
    "    annotations, unannotated_cells = annotate_cells_stage(marker_dict, adata)\n",
    "    adata.obs[\"annotations\"] = pd.Series(annotations).astype(\"category\")\n",
    "    adata.write_h5ad(f\"{file_path}/outs/adata_anno.h5ad\")\n",
    "    adata_list.append(adata)\n"
   ]
  },
  {
   "cell_type": "code",
   "execution_count": 5,
   "metadata": {},
   "outputs": [],
   "source": [
    "adata_merged = ad.concat(adata_list, axis=0, merge='same', pairwise=True)\n",
    "adata_merged.uns['spatial'] = {s: {} for s in adata_merged.obs['sample'].unique()}\n",
    "adata_merged.write_h5ad(f\"./integrated_adata.h5ad\")\n",
    "adata_merged.obs.to_csv(f\"./integrated_adata_obs.csv\")\n"
   ]
  },
  {
   "cell_type": "code",
   "execution_count": null,
   "metadata": {},
   "outputs": [],
   "source": [
    "HGSOC_adata = adata_merged[adata_merged[\"subtype\"]==\"HGSOC\"].copy()\n",
    "HGSOC_adata.write_h5ad(f\"./HGSOC_adata.h5ad\")\n"
   ]
  },
  {
   "cell_type": "code",
   "execution_count": null,
   "metadata": {},
   "outputs": [],
   "source": []
  }
 ],
 "metadata": {
  "kernelspec": {
   "display_name": "HD",
   "language": "python",
   "name": "python3"
  },
  "language_info": {
   "codemirror_mode": {
    "name": "ipython",
    "version": 3
   },
   "file_extension": ".py",
   "mimetype": "text/x-python",
   "name": "python",
   "nbconvert_exporter": "python",
   "pygments_lexer": "ipython3",
   "version": "3.9.19"
  }
 },
 "nbformat": 4,
 "nbformat_minor": 2
}
